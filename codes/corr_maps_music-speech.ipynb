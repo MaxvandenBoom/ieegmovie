{
 "cells": [
  {
   "cell_type": "code",
   "execution_count": 1,
   "id": "abb8c069-21dc-43e0-ac77-2a2c6027e791",
   "metadata": {},
   "outputs": [],
   "source": [
    "#import functions\n",
    "import mne\n",
    "from matplotlib import pyplot as plt\n",
    "import numpy as np\n",
    "import pandas as pd\n",
    "import os\n",
    "from mne_bids import BIDSPath, read_raw_bids, print_dir_tree, make_report\n",
    "from mne_bids.path import get_bids_path_from_fname\n",
    "from ecog_preproc_utils import transformData\n",
    "from GetData import getSubjects, getData"
   ]
  },
  {
   "cell_type": "code",
   "execution_count": 15,
   "id": "1f65c20d-45ce-41fb-b945-52d2d08ae006",
   "metadata": {},
   "outputs": [],
   "source": [
    "## Setup variables\n",
    "data_dir = \"/home/jovyan/aws_ds003688/\"\n",
    "sess = 'iemu'\n",
    "task = 'film'\n",
    "acq = 'clinical'\n",
    "run = \"1\""
   ]
  },
  {
   "cell_type": "code",
   "execution_count": 16,
   "id": "39d3c2c9-019b-499a-ae0e-6b3206043448",
   "metadata": {},
   "outputs": [
    {
     "name": "stdout",
     "output_type": "stream",
     "text": [
      "['sub-07', 'sub-09', 'sub-60', 'sub-14', 'sub-16', 'sub-18', 'sub-22', 'sub-24', 'sub-27', 'sub-41', 'sub-45', 'sub-51', 'sub-46', 'sub-55']\n"
     ]
    }
   ],
   "source": [
    "subjects=getSubjects(data_dir)\n",
    "\n",
    "print(subjects)"
   ]
  },
  {
   "cell_type": "code",
   "execution_count": 17,
   "id": "91473724-2227-48f0-9a83-c1cf1151047f",
   "metadata": {},
   "outputs": [
    {
     "name": "stdout",
     "output_type": "stream",
     "text": [
      "Opening raw data file /home/jovyan/aws_ds003688//derivatives/HighGamma/sub-22_ses-iemu_task-film_acq-clinical_run-1_HighGamma_raw.fif...\n",
      "Isotrak not found\n",
      "    Range : 0 ... 50936 =      0.000 ...   509.360 secs\n",
      "Ready.\n"
     ]
    }
   ],
   "source": [
    "subj = 'sub-22'\n",
    "subj_data=getData(subj, data_dir, sess, task, acq, run)\n",
    "bids_path=subj_data.getBidsPath()\n",
    "hg_data=subj_data.getHGData()\n",
    "#car_data=subj_data.getCARData().get_data()"
   ]
  },
  {
   "cell_type": "code",
   "execution_count": 18,
   "id": "f3c238e3-eb79-4ed8-8986-036be0d11487",
   "metadata": {},
   "outputs": [
    {
     "name": "stdout",
     "output_type": "stream",
     "text": [
      "Used Annotations descriptions: ['end task', 'music', 'speech', 'start task']\n"
     ]
    },
    {
     "data": {
      "text/plain": [
       "(array([[ 3462,     0,     4],\n",
       "        [ 3463,     0,     2],\n",
       "        [ 6463,     0,     3],\n",
       "        [ 9463,     0,     2],\n",
       "        [12463,     0,     3],\n",
       "        [15464,     0,     2],\n",
       "        [18464,     0,     3],\n",
       "        [21464,     0,     2],\n",
       "        [24465,     0,     3],\n",
       "        [27465,     0,     2],\n",
       "        [30465,     0,     3],\n",
       "        [33465,     0,     2],\n",
       "        [36466,     0,     3],\n",
       "        [39466,     0,     2],\n",
       "        [42472,     0,     1]]),\n",
       " {'end task': 1, 'music': 2, 'speech': 3, 'start task': 4})"
      ]
     },
     "execution_count": 18,
     "metadata": {},
     "output_type": "execute_result"
    }
   ],
   "source": [
    "events = mne.events_from_annotations(hg_data, event_id='auto')\n",
    "events"
   ]
  },
  {
   "cell_type": "code",
   "execution_count": 19,
   "id": "939f7d86-fca4-48e3-9cae-e4dfaac57ab0",
   "metadata": {},
   "outputs": [
    {
     "name": "stdout",
     "output_type": "stream",
     "text": [
      "Not setting metadata\n",
      "7 matching events found\n",
      "Setting baseline interval to [-0.2, 0.0] sec\n",
      "Applying baseline correction (mode: mean)\n",
      "0 projection items activated\n",
      "Loading data for 7 events and 521 original time points ...\n",
      "0 bad epochs dropped\n",
      "Not setting metadata\n",
      "6 matching events found\n",
      "Setting baseline interval to [-0.2, 0.0] sec\n",
      "Applying baseline correction (mode: mean)\n",
      "0 projection items activated\n",
      "Loading data for 6 events and 521 original time points ...\n",
      "0 bad epochs dropped\n"
     ]
    }
   ],
   "source": [
    "music = mne.Epochs(hg_data, events=events[0], tmin=-0.2, tmax=5, event_id=[2]).get_data()\n",
    "speech = mne.Epochs(hg_data, events=events[0], tmin=-0.2, tmax=5, event_id=[3]).get_data()"
   ]
  },
  {
   "cell_type": "code",
   "execution_count": 26,
   "id": "ab5c196b-db30-4d39-88a3-39e8e7d2423f",
   "metadata": {},
   "outputs": [
    {
     "data": {
      "text/plain": [
       "(7, 45, 521)"
      ]
     },
     "execution_count": 26,
     "metadata": {},
     "output_type": "execute_result"
    }
   ],
   "source": [
    "music.shape"
   ]
  },
  {
   "cell_type": "code",
   "execution_count": 27,
   "id": "0e650409-a6fd-4277-ac6a-0f53a719ed5d",
   "metadata": {},
   "outputs": [],
   "source": [
    "def mean_epoched_corr (epochs):\n",
    "    trial_num = epochs.shape[0]\n",
    "    chan_num = epochs.shape[1]\n",
    "    \n",
    "    corr = np.zeros((trial_num, chan_num, chan_num))\n",
    "    \n",
    "    for triali in range(0, epochs.shape[0]):\n",
    "        corr [triali, :, :] = np.corrcoef(epochs[triali,:,:])\n",
    "    \n",
    "    mean_corr = np.mean(corr, axis = 0)\n",
    "    return mean_corr\n",
    "          \n",
    "\n"
   ]
  },
  {
   "cell_type": "code",
   "execution_count": 30,
   "id": "359e92db-ead0-4a12-87ec-1ea3ed3d6280",
   "metadata": {},
   "outputs": [],
   "source": [
    "hg_music_corr = mean_epoched_corr(music)\n",
    "hg_speech_corr= mean_epoched_corr(speech)\n"
   ]
  },
  {
   "cell_type": "code",
   "execution_count": 31,
   "id": "78a197bc-61dc-440b-b8f4-7ad872e33706",
   "metadata": {},
   "outputs": [
    {
     "data": {
      "image/png": "[encoded data removed]",
      "text/plain": [
       "<Figure size 432x288 with 2 Axes>"
      ]
     },
     "metadata": {
      "needs_background": "light"
     },
     "output_type": "display_data"
    }
   ],
   "source": [
    "fig, (ax1, ax2) = plt.subplots(1,2)\n",
    "ax1.imshow(hg_music_corr)\n",
    "ax2.imshow(hg_speech_corr)\n",
    "ax1.set_title(subj + \" HighGamma music corr matrix\")\n",
    "ax2.set_title(subj + \" HighGamma speech corr matrix\")\n",
    "plt.tight_layout()"
   ]
  }
 ],
 "metadata": {
  "kernelspec": {
   "display_name": "Python 3 (ipykernel)",
   "language": "python",
   "name": "python3"
  },
  "language_info": {
   "codemirror_mode": {
    "name": "ipython",
    "version": 3
   },
   "file_extension": ".py",
   "mimetype": "text/x-python",
   "name": "python",
   "nbconvert_exporter": "python",
   "pygments_lexer": "ipython3",
   "version": "3.7.12"
  }
 },
 "nbformat": 4,
 "nbformat_minor": 5
}
