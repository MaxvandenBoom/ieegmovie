{
 "cells": [
  {
   "cell_type": "code",
   "execution_count": 1,
   "id": "9ea6af36-11d1-4bc7-8765-88e90a9e3cb6",
   "metadata": {},
   "outputs": [],
   "source": [
    "import mne\n",
    "#from matplotlib import pyplot as plt\n",
    "import numpy as np\n",
    "#import pandas as pd\n",
    "import os\n",
    "from mne_bids import BIDSPath #, read_raw_bids, print_dir_tree, make_report\n",
    "#from mne_bids.path import get_bids_path_from_fname\n",
    "from ecog_preproc_utils import transformData\n",
    "from preprocessing import extract_CAR, extract_oscillation, load_BIDS"
   ]
  },
  {
   "cell_type": "code",
   "execution_count": 2,
   "id": "a3043d06-c58f-457f-a8ba-c27f43b84f86",
   "metadata": {},
   "outputs": [],
   "source": [
    "# Change these variables to work for your block\n",
    "subjects = ['07', '16', '18', '22', '24', '27', '41', '45', \\\n",
    "            '46', '51', '55', '60']\n",
    "sess = 'iemu'\n",
    "task = 'film' # 'rest'\n",
    "acq = 'clinical'\n",
    "run = '1'\n",
    "data_home_dir = \"/home/jovyan/aws_ds003688\"\n",
    "output_dir =  f'{data_home_dir}/derivatives/'  "
   ]
  },
  {
   "cell_type": "code",
   "execution_count": 3,
   "id": "bbc82938-0663-4f91-a1a1-5b121ed6f947",
   "metadata": {},
   "outputs": [
    {
     "name": "stdout",
     "output_type": "stream",
     "text": [
      "Extracting parameters from /home/jovyan/aws_ds003688/sub-07/ses-iemu/ieeg/sub-07_ses-iemu_task-film_acq-clinical_run-1_ieeg.vhdr...\n",
      "Setting channel info structure...\n",
      "Reading events from /home/jovyan/aws_ds003688/sub-07/ses-iemu/ieeg/sub-07_ses-iemu_task-film_run-1_events.tsv.\n"
     ]
    },
    {
     "name": "stderr",
     "output_type": "stream",
     "text": [
      "/home/jovyan/ieegmovie/codes/preprocessing.py:23: RuntimeWarning: Limited 1 annotation(s) that were expanding outside the data range.\n",
      "  raw = read_raw_bids(bids_path, verbose=True)\n"
     ]
    },
    {
     "name": "stdout",
     "output_type": "stream",
     "text": [
      "Reading channel info from /home/jovyan/aws_ds003688/sub-07/ses-iemu/ieeg/sub-07_ses-iemu_task-film_acq-clinical_run-1_channels.tsv.\n"
     ]
    },
    {
     "name": "stderr",
     "output_type": "stream",
     "text": [
      "/home/jovyan/ieegmovie/codes/preprocessing.py:23: RuntimeWarning: The unit for channel(s) MKR+ has changed from V to NA.\n",
      "  raw = read_raw_bids(bids_path, verbose=True)\n"
     ]
    },
    {
     "name": "stdout",
     "output_type": "stream",
     "text": [
      "Reading electrode coords from /home/jovyan/aws_ds003688/sub-07/ses-iemu/ieeg/sub-07_ses-iemu_acq-clinical_electrodes.tsv.\n",
      "Extracting parameters from /home/jovyan/aws_ds003688/sub-07/ses-iemu/ieeg/sub-07_ses-iemu_task-film_acq-clinical_run-1_ieeg.vhdr...\n",
      "Setting channel info structure...\n",
      "Reading events from /home/jovyan/aws_ds003688/sub-07/ses-iemu/ieeg/sub-07_ses-iemu_task-film_run-1_events.tsv.\n",
      "Reading channel info from /home/jovyan/aws_ds003688/sub-07/ses-iemu/ieeg/sub-07_ses-iemu_task-film_acq-clinical_run-1_channels.tsv.\n",
      "Reading electrode coords from /home/jovyan/aws_ds003688/sub-07/ses-iemu/ieeg/sub-07_ses-iemu_acq-clinical_electrodes.tsv.\n",
      "Reading 0 ... 219614  =      0.000 ...   428.934 secs...\n"
     ]
    },
    {
     "name": "stderr",
     "output_type": "stream",
     "text": [
      "/home/jovyan/ieegmovie/codes/preprocessing.py:23: RuntimeWarning: participants.tsv file not found for /home/jovyan/aws_ds003688/sub-07/ses-iemu/ieeg/sub-07_ses-iemu_task-film_acq-clinical_run-1_ieeg.vhdr\n",
      "  raw = read_raw_bids(bids_path, verbose=True)\n",
      "/home/jovyan/ieegmovie/codes/preprocessing.py:25: RuntimeWarning: Limited 1 annotation(s) that were expanding outside the data range.\n",
      "  raw = read_raw_bids(bids_path, verbose=True)\n",
      "/home/jovyan/ieegmovie/codes/preprocessing.py:25: RuntimeWarning: The unit for channel(s) MKR+ has changed from V to NA.\n",
      "  raw = read_raw_bids(bids_path, verbose=True)\n",
      "/home/jovyan/ieegmovie/codes/preprocessing.py:25: RuntimeWarning: participants.tsv file not found for /home/jovyan/aws_ds003688/sub-07/ses-iemu/ieeg/sub-07_ses-iemu_task-film_acq-clinical_run-1_ieeg.vhdr\n",
      "  raw = read_raw_bids(bids_path, verbose=True)\n"
     ]
    },
    {
     "name": "stdout",
     "output_type": "stream",
     "text": [
      "Setting up band-stop filter\n",
      "\n",
      "FIR filter parameters\n",
      "---------------------\n",
      "Designing a one-pass, zero-phase, non-causal bandstop filter:\n",
      "- Windowed time-domain design (firwin) method\n",
      "- Hamming window with 0.0194 passband ripple and 53 dB stopband attenuation\n",
      "- Lower transition bandwidth: 0.50 Hz\n",
      "- Upper transition bandwidth: 0.50 Hz\n",
      "- Filter length: 3381 samples (6.604 sec)\n",
      "\n",
      "ECoG channel type selected for re-referencing\n",
      "Applying average reference.\n",
      "Applying a custom ('ECoG',) reference.\n",
      "Filtering raw data in 1 contiguous segment\n",
      "Setting up high-pass filter at 0.1 Hz\n",
      "\n",
      "FIR filter parameters\n",
      "---------------------\n",
      "Designing a one-pass, zero-phase, non-causal highpass filter:\n",
      "- Windowed time-domain design (firwin) method\n",
      "- Hamming window with 0.0194 passband ripple and 53 dB stopband attenuation\n",
      "- Lower passband edge: 0.10\n",
      "- Lower transition bandwidth: 0.10 Hz (-6 dB cutoff frequency: 0.05 Hz)\n",
      "- Filter length: 16897 samples (33.002 sec)\n",
      "\n",
      "Writing /home/jovyan/aws_ds003688/derivatives/CAR/sub-07_ses-iemu_task-film_acq-clinical_run-1_CAR_raw.fif\n",
      "Closing /home/jovyan/aws_ds003688/derivatives/CAR/sub-07_ses-iemu_task-film_acq-clinical_run-1_CAR_raw.fif\n",
      "[done]\n",
      "Extracting parameters from /home/jovyan/aws_ds003688/sub-07/ses-iemu/ieeg/sub-07_ses-iemu_task-film_acq-clinical_run-1_ieeg.vhdr...\n",
      "Setting channel info structure...\n",
      "Reading events from /home/jovyan/aws_ds003688/sub-07/ses-iemu/ieeg/sub-07_ses-iemu_task-film_run-1_events.tsv.\n",
      "Reading channel info from /home/jovyan/aws_ds003688/sub-07/ses-iemu/ieeg/sub-07_ses-iemu_task-film_acq-clinical_run-1_channels.tsv.\n",
      "Reading electrode coords from /home/jovyan/aws_ds003688/sub-07/ses-iemu/ieeg/sub-07_ses-iemu_acq-clinical_electrodes.tsv.\n",
      "Extracting parameters from /home/jovyan/aws_ds003688/sub-07/ses-iemu/ieeg/sub-07_ses-iemu_task-film_acq-clinical_run-1_ieeg.vhdr...\n",
      "Setting channel info structure...\n",
      "Reading events from /home/jovyan/aws_ds003688/sub-07/ses-iemu/ieeg/sub-07_ses-iemu_task-film_run-1_events.tsv.\n",
      "Reading channel info from /home/jovyan/aws_ds003688/sub-07/ses-iemu/ieeg/sub-07_ses-iemu_task-film_acq-clinical_run-1_channels.tsv.\n",
      "Reading electrode coords from /home/jovyan/aws_ds003688/sub-07/ses-iemu/ieeg/sub-07_ses-iemu_acq-clinical_electrodes.tsv.\n",
      "Reading 0 ... 219614  =      0.000 ...   428.934 secs...\n"
     ]
    },
    {
     "name": "stderr",
     "output_type": "stream",
     "text": [
      "/home/jovyan/ieegmovie/codes/preprocessing.py:23: RuntimeWarning: Limited 1 annotation(s) that were expanding outside the data range.\n",
      "  raw = read_raw_bids(bids_path, verbose=True)\n",
      "/home/jovyan/ieegmovie/codes/preprocessing.py:23: RuntimeWarning: The unit for channel(s) MKR+ has changed from V to NA.\n",
      "  raw = read_raw_bids(bids_path, verbose=True)\n",
      "/home/jovyan/ieegmovie/codes/preprocessing.py:23: RuntimeWarning: participants.tsv file not found for /home/jovyan/aws_ds003688/sub-07/ses-iemu/ieeg/sub-07_ses-iemu_task-film_acq-clinical_run-1_ieeg.vhdr\n",
      "  raw = read_raw_bids(bids_path, verbose=True)\n",
      "/home/jovyan/ieegmovie/codes/preprocessing.py:25: RuntimeWarning: Limited 1 annotation(s) that were expanding outside the data range.\n",
      "  raw = read_raw_bids(bids_path, verbose=True)\n",
      "/home/jovyan/ieegmovie/codes/preprocessing.py:25: RuntimeWarning: The unit for channel(s) MKR+ has changed from V to NA.\n",
      "  raw = read_raw_bids(bids_path, verbose=True)\n",
      "/home/jovyan/ieegmovie/codes/preprocessing.py:25: RuntimeWarning: participants.tsv file not found for /home/jovyan/aws_ds003688/sub-07/ses-iemu/ieeg/sub-07_ses-iemu_task-film_acq-clinical_run-1_ieeg.vhdr\n",
      "  raw = read_raw_bids(bids_path, verbose=True)\n"
     ]
    },
    {
     "name": "stdout",
     "output_type": "stream",
     "text": [
      "Doing notch filter\n",
      "Setting up band-stop filter\n",
      "\n",
      "FIR filter parameters\n",
      "---------------------\n",
      "Designing a one-pass, zero-phase, non-causal bandstop filter:\n",
      "- Windowed time-domain design (firwin) method\n",
      "- Hamming window with 0.0194 passband ripple and 53 dB stopband attenuation\n",
      "- Lower transition bandwidth: 0.50 Hz\n",
      "- Upper transition bandwidth: 0.50 Hz\n",
      "- Filter length: 3381 samples (6.604 sec)\n",
      "\n",
      "Doing CAR on\n",
      "average\n",
      "ECoG channel type selected for re-referencing\n",
      "Applying average reference.\n",
      "Applying a custom ('ECoG',) reference.\n",
      "Getting frequency bands for Hilbert transform\n",
      "Getting HighGamma band data\n",
      "Getting the raw data array\n"
     ]
    },
    {
     "name": "stderr",
     "output_type": "stream",
     "text": [
      "applying Hilbert transform...:   0%|          | 0/8 [00:00<?, ?it/s]/home/jovyan/ieegmovie/codes/ecog_preproc_utils.py:159: ComplexWarning: Casting complex values to real discards the imaginary part\n",
      "  raw.info['sfreq'], ct, sd)\n"
     ]
    },
    {
     "name": "stdout",
     "output_type": "stream",
     "text": [
      "Taking log transform of high gamma\n"
     ]
    },
    {
     "name": "stderr",
     "output_type": "stream",
     "text": [
      "applying Hilbert transform...:  12%|█▎        | 1/8 [00:04<00:33,  4.74s/it]"
     ]
    },
    {
     "name": "stdout",
     "output_type": "stream",
     "text": [
      "Taking log transform of high gamma\n"
     ]
    },
    {
     "name": "stderr",
     "output_type": "stream",
     "text": [
      "applying Hilbert transform...:  25%|██▌       | 2/8 [00:09<00:28,  4.68s/it]"
     ]
    },
    {
     "name": "stdout",
     "output_type": "stream",
     "text": [
      "Taking log transform of high gamma\n"
     ]
    },
    {
     "name": "stderr",
     "output_type": "stream",
     "text": [
      "applying Hilbert transform...:  38%|███▊      | 3/8 [00:14<00:23,  4.72s/it]"
     ]
    },
    {
     "name": "stdout",
     "output_type": "stream",
     "text": [
      "Taking log transform of high gamma\n"
     ]
    },
    {
     "name": "stderr",
     "output_type": "stream",
     "text": [
      "applying Hilbert transform...:  50%|█████     | 4/8 [00:21<00:22,  5.69s/it]"
     ]
    },
    {
     "name": "stdout",
     "output_type": "stream",
     "text": [
      "Taking log transform of high gamma\n"
     ]
    },
    {
     "name": "stderr",
     "output_type": "stream",
     "text": [
      "applying Hilbert transform...:  62%|██████▎   | 5/8 [00:27<00:17,  5.73s/it]"
     ]
    },
    {
     "name": "stdout",
     "output_type": "stream",
     "text": [
      "Taking log transform of high gamma\n"
     ]
    },
    {
     "name": "stderr",
     "output_type": "stream",
     "text": [
      "applying Hilbert transform...:  75%|███████▌  | 6/8 [00:31<00:10,  5.20s/it]"
     ]
    },
    {
     "name": "stdout",
     "output_type": "stream",
     "text": [
      "Taking log transform of high gamma\n"
     ]
    },
    {
     "name": "stderr",
     "output_type": "stream",
     "text": [
      "applying Hilbert transform...:  88%|████████▊ | 7/8 [00:35<00:04,  4.85s/it]"
     ]
    },
    {
     "name": "stdout",
     "output_type": "stream",
     "text": [
      "Taking log transform of high gamma\n"
     ]
    },
    {
     "name": "stderr",
     "output_type": "stream",
     "text": [
      "applying Hilbert transform...: 100%|██████████| 8/8 [00:39<00:00,  4.95s/it]\n"
     ]
    },
    {
     "name": "stdout",
     "output_type": "stream",
     "text": [
      "Taking the mean across 8 bands\n",
      "Z-scoring signal\n",
      "Creating RawArray with float64 data, n_channels=55, n_times=219615\n",
      "    Range : 0 ... 219614 =      0.000 ...   428.934 secs\n",
      "Ready.\n",
      "Writing /home/jovyan/aws_ds003688/derivatives/HighGamma/sub-07_ses-iemu_task-film_acq-clinical_run-1_HighGamma_raw.fif\n",
      "Closing /home/jovyan/aws_ds003688/derivatives/HighGamma/sub-07_ses-iemu_task-film_acq-clinical_run-1_HighGamma_raw.fif\n",
      "[done]\n",
      "Extracting parameters from /home/jovyan/aws_ds003688/sub-07/ses-iemu/ieeg/sub-07_ses-iemu_task-film_acq-clinical_run-1_ieeg.vhdr...\n",
      "Setting channel info structure...\n",
      "Reading events from /home/jovyan/aws_ds003688/sub-07/ses-iemu/ieeg/sub-07_ses-iemu_task-film_run-1_events.tsv.\n",
      "Reading channel info from /home/jovyan/aws_ds003688/sub-07/ses-iemu/ieeg/sub-07_ses-iemu_task-film_acq-clinical_run-1_channels.tsv.\n",
      "Reading electrode coords from /home/jovyan/aws_ds003688/sub-07/ses-iemu/ieeg/sub-07_ses-iemu_acq-clinical_electrodes.tsv.\n",
      "Extracting parameters from /home/jovyan/aws_ds003688/sub-07/ses-iemu/ieeg/sub-07_ses-iemu_task-film_acq-clinical_run-1_ieeg.vhdr...\n",
      "Setting channel info structure...\n",
      "Reading events from /home/jovyan/aws_ds003688/sub-07/ses-iemu/ieeg/sub-07_ses-iemu_task-film_run-1_events.tsv.\n",
      "Reading channel info from /home/jovyan/aws_ds003688/sub-07/ses-iemu/ieeg/sub-07_ses-iemu_task-film_acq-clinical_run-1_channels.tsv.\n",
      "Reading electrode coords from /home/jovyan/aws_ds003688/sub-07/ses-iemu/ieeg/sub-07_ses-iemu_acq-clinical_electrodes.tsv.\n",
      "Reading 0 ... 219614  =      0.000 ...   428.934 secs...\n"
     ]
    },
    {
     "name": "stderr",
     "output_type": "stream",
     "text": [
      "/home/jovyan/ieegmovie/codes/preprocessing.py:23: RuntimeWarning: Limited 1 annotation(s) that were expanding outside the data range.\n",
      "  raw = read_raw_bids(bids_path, verbose=True)\n",
      "/home/jovyan/ieegmovie/codes/preprocessing.py:23: RuntimeWarning: The unit for channel(s) MKR+ has changed from V to NA.\n",
      "  raw = read_raw_bids(bids_path, verbose=True)\n",
      "/home/jovyan/ieegmovie/codes/preprocessing.py:23: RuntimeWarning: participants.tsv file not found for /home/jovyan/aws_ds003688/sub-07/ses-iemu/ieeg/sub-07_ses-iemu_task-film_acq-clinical_run-1_ieeg.vhdr\n",
      "  raw = read_raw_bids(bids_path, verbose=True)\n",
      "/home/jovyan/ieegmovie/codes/preprocessing.py:25: RuntimeWarning: Limited 1 annotation(s) that were expanding outside the data range.\n",
      "  raw = read_raw_bids(bids_path, verbose=True)\n",
      "/home/jovyan/ieegmovie/codes/preprocessing.py:25: RuntimeWarning: The unit for channel(s) MKR+ has changed from V to NA.\n",
      "  raw = read_raw_bids(bids_path, verbose=True)\n",
      "/home/jovyan/ieegmovie/codes/preprocessing.py:25: RuntimeWarning: participants.tsv file not found for /home/jovyan/aws_ds003688/sub-07/ses-iemu/ieeg/sub-07_ses-iemu_task-film_acq-clinical_run-1_ieeg.vhdr\n",
      "  raw = read_raw_bids(bids_path, verbose=True)\n"
     ]
    },
    {
     "name": "stdout",
     "output_type": "stream",
     "text": [
      "Doing notch filter\n",
      "Setting up band-stop filter\n",
      "\n",
      "FIR filter parameters\n",
      "---------------------\n",
      "Designing a one-pass, zero-phase, non-causal bandstop filter:\n",
      "- Windowed time-domain design (firwin) method\n",
      "- Hamming window with 0.0194 passband ripple and 53 dB stopband attenuation\n",
      "- Lower transition bandwidth: 0.50 Hz\n",
      "- Upper transition bandwidth: 0.50 Hz\n",
      "- Filter length: 3381 samples (6.604 sec)\n",
      "\n",
      "Doing CAR on\n",
      "average\n",
      "ECoG channel type selected for re-referencing\n",
      "Applying average reference.\n",
      "Applying a custom ('ECoG',) reference.\n",
      "Getting frequency bands for Hilbert transform\n",
      "Filtering data in theta band from 4 to 8 Hz\n",
      "Note that this will *not* use the analytic amplitude like high gamma\n",
      "Filtering raw data in 1 contiguous segment\n",
      "Setting up band-pass filter from 4 - 8 Hz\n",
      "\n",
      "FIR filter parameters\n",
      "---------------------\n",
      "Designing a one-pass, zero-phase, non-causal bandpass filter:\n",
      "- Windowed time-domain design (firwin) method\n",
      "- Hamming window with 0.0194 passband ripple and 53 dB stopband attenuation\n",
      "- Lower passband edge: 4.00\n",
      "- Lower transition bandwidth: 2.00 Hz (-6 dB cutoff frequency: 3.00 Hz)\n",
      "- Upper passband edge: 8.00 Hz\n",
      "- Upper transition bandwidth: 2.00 Hz (-6 dB cutoff frequency: 9.00 Hz)\n",
      "- Filter length: 845 samples (1.650 sec)\n",
      "\n",
      "Writing /home/jovyan/aws_ds003688/derivatives/theta/sub-07_ses-iemu_task-film_acq-clinical_run-1_theta_raw.fif\n",
      "Closing /home/jovyan/aws_ds003688/derivatives/theta/sub-07_ses-iemu_task-film_acq-clinical_run-1_theta_raw.fif\n",
      "[done]\n",
      "Extracting parameters from /home/jovyan/aws_ds003688/sub-07/ses-iemu/ieeg/sub-07_ses-iemu_task-film_acq-clinical_run-1_ieeg.vhdr...\n",
      "Setting channel info structure...\n",
      "Reading events from /home/jovyan/aws_ds003688/sub-07/ses-iemu/ieeg/sub-07_ses-iemu_task-film_run-1_events.tsv.\n",
      "Reading channel info from /home/jovyan/aws_ds003688/sub-07/ses-iemu/ieeg/sub-07_ses-iemu_task-film_acq-clinical_run-1_channels.tsv.\n",
      "Reading electrode coords from /home/jovyan/aws_ds003688/sub-07/ses-iemu/ieeg/sub-07_ses-iemu_acq-clinical_electrodes.tsv.\n",
      "Extracting parameters from /home/jovyan/aws_ds003688/sub-07/ses-iemu/ieeg/sub-07_ses-iemu_task-film_acq-clinical_run-1_ieeg.vhdr...\n",
      "Setting channel info structure...\n",
      "Reading events from /home/jovyan/aws_ds003688/sub-07/ses-iemu/ieeg/sub-07_ses-iemu_task-film_run-1_events.tsv.\n",
      "Reading channel info from /home/jovyan/aws_ds003688/sub-07/ses-iemu/ieeg/sub-07_ses-iemu_task-film_acq-clinical_run-1_channels.tsv.\n",
      "Reading electrode coords from /home/jovyan/aws_ds003688/sub-07/ses-iemu/ieeg/sub-07_ses-iemu_acq-clinical_electrodes.tsv.\n",
      "Reading 0 ... 219614  =      0.000 ...   428.934 secs...\n"
     ]
    },
    {
     "name": "stderr",
     "output_type": "stream",
     "text": [
      "/home/jovyan/ieegmovie/codes/preprocessing.py:23: RuntimeWarning: Limited 1 annotation(s) that were expanding outside the data range.\n",
      "  raw = read_raw_bids(bids_path, verbose=True)\n",
      "/home/jovyan/ieegmovie/codes/preprocessing.py:23: RuntimeWarning: The unit for channel(s) MKR+ has changed from V to NA.\n",
      "  raw = read_raw_bids(bids_path, verbose=True)\n",
      "/home/jovyan/ieegmovie/codes/preprocessing.py:23: RuntimeWarning: participants.tsv file not found for /home/jovyan/aws_ds003688/sub-07/ses-iemu/ieeg/sub-07_ses-iemu_task-film_acq-clinical_run-1_ieeg.vhdr\n",
      "  raw = read_raw_bids(bids_path, verbose=True)\n",
      "/home/jovyan/ieegmovie/codes/preprocessing.py:25: RuntimeWarning: Limited 1 annotation(s) that were expanding outside the data range.\n",
      "  raw = read_raw_bids(bids_path, verbose=True)\n",
      "/home/jovyan/ieegmovie/codes/preprocessing.py:25: RuntimeWarning: The unit for channel(s) MKR+ has changed from V to NA.\n",
      "  raw = read_raw_bids(bids_path, verbose=True)\n",
      "/home/jovyan/ieegmovie/codes/preprocessing.py:25: RuntimeWarning: participants.tsv file not found for /home/jovyan/aws_ds003688/sub-07/ses-iemu/ieeg/sub-07_ses-iemu_task-film_acq-clinical_run-1_ieeg.vhdr\n",
      "  raw = read_raw_bids(bids_path, verbose=True)\n"
     ]
    },
    {
     "name": "stdout",
     "output_type": "stream",
     "text": [
      "Doing notch filter\n",
      "Setting up band-stop filter\n",
      "\n",
      "FIR filter parameters\n",
      "---------------------\n",
      "Designing a one-pass, zero-phase, non-causal bandstop filter:\n",
      "- Windowed time-domain design (firwin) method\n",
      "- Hamming window with 0.0194 passband ripple and 53 dB stopband attenuation\n",
      "- Lower transition bandwidth: 0.50 Hz\n",
      "- Upper transition bandwidth: 0.50 Hz\n",
      "- Filter length: 3381 samples (6.604 sec)\n",
      "\n",
      "Doing CAR on\n",
      "average\n",
      "ECoG channel type selected for re-referencing\n",
      "Applying average reference.\n",
      "Applying a custom ('ECoG',) reference.\n",
      "Getting frequency bands for Hilbert transform\n",
      "Filtering data in alpha band from 8 to 15 Hz\n",
      "Note that this will *not* use the analytic amplitude like high gamma\n",
      "Filtering raw data in 1 contiguous segment\n",
      "Setting up band-pass filter from 8 - 15 Hz\n",
      "\n",
      "FIR filter parameters\n",
      "---------------------\n",
      "Designing a one-pass, zero-phase, non-causal bandpass filter:\n",
      "- Windowed time-domain design (firwin) method\n",
      "- Hamming window with 0.0194 passband ripple and 53 dB stopband attenuation\n",
      "- Lower passband edge: 8.00\n",
      "- Lower transition bandwidth: 2.00 Hz (-6 dB cutoff frequency: 7.00 Hz)\n",
      "- Upper passband edge: 15.00 Hz\n",
      "- Upper transition bandwidth: 3.75 Hz (-6 dB cutoff frequency: 16.88 Hz)\n",
      "- Filter length: 845 samples (1.650 sec)\n",
      "\n",
      "Writing /home/jovyan/aws_ds003688/derivatives/alpha/sub-07_ses-iemu_task-film_acq-clinical_run-1_alpha_raw.fif\n",
      "Closing /home/jovyan/aws_ds003688/derivatives/alpha/sub-07_ses-iemu_task-film_acq-clinical_run-1_alpha_raw.fif\n",
      "[done]\n",
      "Extracting parameters from /home/jovyan/aws_ds003688/sub-16/ses-iemu/ieeg/sub-16_ses-iemu_task-film_acq-clinical_run-1_ieeg.vhdr...\n",
      "Setting channel info structure...\n",
      "Reading events from /home/jovyan/aws_ds003688/sub-16/ses-iemu/ieeg/sub-16_ses-iemu_task-film_run-1_events.tsv.\n",
      "Reading channel info from /home/jovyan/aws_ds003688/sub-16/ses-iemu/ieeg/sub-16_ses-iemu_task-film_acq-clinical_run-1_channels.tsv.\n",
      "Reading electrode coords from /home/jovyan/aws_ds003688/sub-16/ses-iemu/ieeg/sub-16_ses-iemu_acq-clinical_electrodes.tsv.\n",
      "Extracting parameters from /home/jovyan/aws_ds003688/sub-16/ses-iemu/ieeg/sub-16_ses-iemu_task-film_acq-clinical_run-1_ieeg.vhdr...\n",
      "Setting channel info structure...\n",
      "Reading events from /home/jovyan/aws_ds003688/sub-16/ses-iemu/ieeg/sub-16_ses-iemu_task-film_run-1_events.tsv.\n"
     ]
    },
    {
     "name": "stderr",
     "output_type": "stream",
     "text": [
      "/home/jovyan/ieegmovie/codes/preprocessing.py:23: RuntimeWarning: participants.tsv file not found for /home/jovyan/aws_ds003688/sub-16/ses-iemu/ieeg/sub-16_ses-iemu_task-film_acq-clinical_run-1_ieeg.vhdr\n",
      "  raw = read_raw_bids(bids_path, verbose=True)\n"
     ]
    },
    {
     "name": "stdout",
     "output_type": "stream",
     "text": [
      "Reading channel info from /home/jovyan/aws_ds003688/sub-16/ses-iemu/ieeg/sub-16_ses-iemu_task-film_acq-clinical_run-1_channels.tsv.\n",
      "Reading electrode coords from /home/jovyan/aws_ds003688/sub-16/ses-iemu/ieeg/sub-16_ses-iemu_acq-clinical_electrodes.tsv.\n",
      "Reading 0 ... 200192  =      0.000 ...   391.000 secs...\n"
     ]
    },
    {
     "name": "stderr",
     "output_type": "stream",
     "text": [
      "/home/jovyan/ieegmovie/codes/preprocessing.py:25: RuntimeWarning: participants.tsv file not found for /home/jovyan/aws_ds003688/sub-16/ses-iemu/ieeg/sub-16_ses-iemu_task-film_acq-clinical_run-1_ieeg.vhdr\n",
      "  raw = read_raw_bids(bids_path, verbose=True)\n"
     ]
    },
    {
     "name": "stdout",
     "output_type": "stream",
     "text": [
      "Setting up band-stop filter\n",
      "\n",
      "FIR filter parameters\n",
      "---------------------\n",
      "Designing a one-pass, zero-phase, non-causal bandstop filter:\n",
      "- Windowed time-domain design (firwin) method\n",
      "- Hamming window with 0.0194 passband ripple and 53 dB stopband attenuation\n",
      "- Lower transition bandwidth: 0.50 Hz\n",
      "- Upper transition bandwidth: 0.50 Hz\n",
      "- Filter length: 3381 samples (6.604 sec)\n",
      "\n",
      "ECoG channel type selected for re-referencing\n",
      "Applying average reference.\n",
      "Applying a custom ('ECoG',) reference.\n",
      "Filtering raw data in 1 contiguous segment\n",
      "Setting up high-pass filter at 0.1 Hz\n",
      "\n",
      "FIR filter parameters\n",
      "---------------------\n",
      "Designing a one-pass, zero-phase, non-causal highpass filter:\n",
      "- Windowed time-domain design (firwin) method\n",
      "- Hamming window with 0.0194 passband ripple and 53 dB stopband attenuation\n",
      "- Lower passband edge: 0.10\n",
      "- Lower transition bandwidth: 0.10 Hz (-6 dB cutoff frequency: 0.05 Hz)\n",
      "- Filter length: 16897 samples (33.002 sec)\n",
      "\n",
      "Writing /home/jovyan/aws_ds003688/derivatives/CAR/sub-16_ses-iemu_task-film_acq-clinical_run-1_CAR_raw.fif\n",
      "Closing /home/jovyan/aws_ds003688/derivatives/CAR/sub-16_ses-iemu_task-film_acq-clinical_run-1_CAR_raw.fif\n",
      "[done]\n",
      "Extracting parameters from /home/jovyan/aws_ds003688/sub-16/ses-iemu/ieeg/sub-16_ses-iemu_task-film_acq-clinical_run-1_ieeg.vhdr...\n",
      "Setting channel info structure...\n",
      "Reading events from /home/jovyan/aws_ds003688/sub-16/ses-iemu/ieeg/sub-16_ses-iemu_task-film_run-1_events.tsv.\n",
      "Reading channel info from /home/jovyan/aws_ds003688/sub-16/ses-iemu/ieeg/sub-16_ses-iemu_task-film_acq-clinical_run-1_channels.tsv.\n",
      "Reading electrode coords from /home/jovyan/aws_ds003688/sub-16/ses-iemu/ieeg/sub-16_ses-iemu_acq-clinical_electrodes.tsv.\n",
      "Extracting parameters from /home/jovyan/aws_ds003688/sub-16/ses-iemu/ieeg/sub-16_ses-iemu_task-film_acq-clinical_run-1_ieeg.vhdr...\n",
      "Setting channel info structure...\n",
      "Reading events from /home/jovyan/aws_ds003688/sub-16/ses-iemu/ieeg/sub-16_ses-iemu_task-film_run-1_events.tsv.\n",
      "Reading channel info from /home/jovyan/aws_ds003688/sub-16/ses-iemu/ieeg/sub-16_ses-iemu_task-film_acq-clinical_run-1_channels.tsv.\n",
      "Reading electrode coords from /home/jovyan/aws_ds003688/sub-16/ses-iemu/ieeg/sub-16_ses-iemu_acq-clinical_electrodes.tsv.\n",
      "Reading 0 ... 200192  =      0.000 ...   391.000 secs...\n"
     ]
    },
    {
     "name": "stderr",
     "output_type": "stream",
     "text": [
      "/home/jovyan/ieegmovie/codes/preprocessing.py:23: RuntimeWarning: participants.tsv file not found for /home/jovyan/aws_ds003688/sub-16/ses-iemu/ieeg/sub-16_ses-iemu_task-film_acq-clinical_run-1_ieeg.vhdr\n",
      "  raw = read_raw_bids(bids_path, verbose=True)\n",
      "/home/jovyan/ieegmovie/codes/preprocessing.py:25: RuntimeWarning: participants.tsv file not found for /home/jovyan/aws_ds003688/sub-16/ses-iemu/ieeg/sub-16_ses-iemu_task-film_acq-clinical_run-1_ieeg.vhdr\n",
      "  raw = read_raw_bids(bids_path, verbose=True)\n"
     ]
    },
    {
     "name": "stdout",
     "output_type": "stream",
     "text": [
      "Doing notch filter\n",
      "Setting up band-stop filter\n",
      "\n",
      "FIR filter parameters\n",
      "---------------------\n",
      "Designing a one-pass, zero-phase, non-causal bandstop filter:\n",
      "- Windowed time-domain design (firwin) method\n",
      "- Hamming window with 0.0194 passband ripple and 53 dB stopband attenuation\n",
      "- Lower transition bandwidth: 0.50 Hz\n",
      "- Upper transition bandwidth: 0.50 Hz\n",
      "- Filter length: 3381 samples (6.604 sec)\n",
      "\n",
      "Doing CAR on\n",
      "average\n",
      "ECoG channel type selected for re-referencing\n",
      "Applying average reference.\n",
      "Applying a custom ('ECoG',) reference.\n",
      "Getting frequency bands for Hilbert transform\n",
      "Getting HighGamma band data\n",
      "Getting the raw data array\n"
     ]
    },
    {
     "name": "stderr",
     "output_type": "stream",
     "text": [
      "applying Hilbert transform...:   0%|          | 0/8 [00:00<?, ?it/s]/home/jovyan/ieegmovie/codes/ecog_preproc_utils.py:159: ComplexWarning: Casting complex values to real discards the imaginary part\n",
      "  raw.info['sfreq'], ct, sd)\n"
     ]
    },
    {
     "name": "stdout",
     "output_type": "stream",
     "text": [
      "Taking log transform of high gamma\n"
     ]
    },
    {
     "name": "stderr",
     "output_type": "stream",
     "text": [
      "applying Hilbert transform...:  12%|█▎        | 1/8 [00:09<01:08,  9.85s/it]"
     ]
    },
    {
     "name": "stdout",
     "output_type": "stream",
     "text": [
      "Taking log transform of high gamma\n"
     ]
    },
    {
     "name": "stderr",
     "output_type": "stream",
     "text": [
      "applying Hilbert transform...:  25%|██▌       | 2/8 [00:19<00:59,  9.85s/it]"
     ]
    },
    {
     "name": "stdout",
     "output_type": "stream",
     "text": [
      "Taking log transform of high gamma\n"
     ]
    },
    {
     "name": "stderr",
     "output_type": "stream",
     "text": [
      "applying Hilbert transform...:  38%|███▊      | 3/8 [00:29<00:49,  9.87s/it]"
     ]
    },
    {
     "name": "stdout",
     "output_type": "stream",
     "text": [
      "Taking log transform of high gamma\n"
     ]
    },
    {
     "name": "stderr",
     "output_type": "stream",
     "text": [
      "applying Hilbert transform...:  50%|█████     | 4/8 [00:39<00:39,  9.86s/it]"
     ]
    },
    {
     "name": "stdout",
     "output_type": "stream",
     "text": [
      "Taking log transform of high gamma\n"
     ]
    },
    {
     "name": "stderr",
     "output_type": "stream",
     "text": [
      "applying Hilbert transform...:  62%|██████▎   | 5/8 [00:49<00:29,  9.82s/it]"
     ]
    },
    {
     "name": "stdout",
     "output_type": "stream",
     "text": [
      "Taking log transform of high gamma\n"
     ]
    },
    {
     "name": "stderr",
     "output_type": "stream",
     "text": [
      "applying Hilbert transform...:  75%|███████▌  | 6/8 [00:58<00:19,  9.82s/it]"
     ]
    },
    {
     "name": "stdout",
     "output_type": "stream",
     "text": [
      "Taking log transform of high gamma\n"
     ]
    },
    {
     "name": "stderr",
     "output_type": "stream",
     "text": [
      "applying Hilbert transform...:  88%|████████▊ | 7/8 [01:08<00:09,  9.87s/it]"
     ]
    },
    {
     "name": "stdout",
     "output_type": "stream",
     "text": [
      "Taking log transform of high gamma\n"
     ]
    },
    {
     "name": "stderr",
     "output_type": "stream",
     "text": [
      "applying Hilbert transform...: 100%|██████████| 8/8 [01:18<00:00,  9.84s/it]\n"
     ]
    },
    {
     "name": "stdout",
     "output_type": "stream",
     "text": [
      "Taking the mean across 8 bands\n",
      "Z-scoring signal\n",
      "Creating RawArray with float64 data, n_channels=103, n_times=200193\n",
      "    Range : 0 ... 200192 =      0.000 ...   391.000 secs\n",
      "Ready.\n",
      "Writing /home/jovyan/aws_ds003688/derivatives/HighGamma/sub-16_ses-iemu_task-film_acq-clinical_run-1_HighGamma_raw.fif\n",
      "Closing /home/jovyan/aws_ds003688/derivatives/HighGamma/sub-16_ses-iemu_task-film_acq-clinical_run-1_HighGamma_raw.fif\n",
      "[done]\n",
      "Extracting parameters from /home/jovyan/aws_ds003688/sub-16/ses-iemu/ieeg/sub-16_ses-iemu_task-film_acq-clinical_run-1_ieeg.vhdr...\n",
      "Setting channel info structure...\n",
      "Reading events from /home/jovyan/aws_ds003688/sub-16/ses-iemu/ieeg/sub-16_ses-iemu_task-film_run-1_events.tsv.\n",
      "Reading channel info from /home/jovyan/aws_ds003688/sub-16/ses-iemu/ieeg/sub-16_ses-iemu_task-film_acq-clinical_run-1_channels.tsv.\n",
      "Reading electrode coords from /home/jovyan/aws_ds003688/sub-16/ses-iemu/ieeg/sub-16_ses-iemu_acq-clinical_electrodes.tsv.\n",
      "Extracting parameters from /home/jovyan/aws_ds003688/sub-16/ses-iemu/ieeg/sub-16_ses-iemu_task-film_acq-clinical_run-1_ieeg.vhdr...\n",
      "Setting channel info structure...\n",
      "Reading events from /home/jovyan/aws_ds003688/sub-16/ses-iemu/ieeg/sub-16_ses-iemu_task-film_run-1_events.tsv.\n",
      "Reading channel info from /home/jovyan/aws_ds003688/sub-16/ses-iemu/ieeg/sub-16_ses-iemu_task-film_acq-clinical_run-1_channels.tsv.\n",
      "Reading electrode coords from /home/jovyan/aws_ds003688/sub-16/ses-iemu/ieeg/sub-16_ses-iemu_acq-clinical_electrodes.tsv.\n",
      "Reading 0 ... 200192  =      0.000 ...   391.000 secs...\n"
     ]
    },
    {
     "name": "stderr",
     "output_type": "stream",
     "text": [
      "/home/jovyan/ieegmovie/codes/preprocessing.py:23: RuntimeWarning: participants.tsv file not found for /home/jovyan/aws_ds003688/sub-16/ses-iemu/ieeg/sub-16_ses-iemu_task-film_acq-clinical_run-1_ieeg.vhdr\n",
      "  raw = read_raw_bids(bids_path, verbose=True)\n",
      "/home/jovyan/ieegmovie/codes/preprocessing.py:25: RuntimeWarning: participants.tsv file not found for /home/jovyan/aws_ds003688/sub-16/ses-iemu/ieeg/sub-16_ses-iemu_task-film_acq-clinical_run-1_ieeg.vhdr\n",
      "  raw = read_raw_bids(bids_path, verbose=True)\n"
     ]
    },
    {
     "name": "stdout",
     "output_type": "stream",
     "text": [
      "Doing notch filter\n",
      "Setting up band-stop filter\n",
      "\n",
      "FIR filter parameters\n",
      "---------------------\n",
      "Designing a one-pass, zero-phase, non-causal bandstop filter:\n",
      "- Windowed time-domain design (firwin) method\n",
      "- Hamming window with 0.0194 passband ripple and 53 dB stopband attenuation\n",
      "- Lower transition bandwidth: 0.50 Hz\n",
      "- Upper transition bandwidth: 0.50 Hz\n",
      "- Filter length: 3381 samples (6.604 sec)\n",
      "\n",
      "Doing CAR on\n",
      "average\n",
      "ECoG channel type selected for re-referencing\n",
      "Applying average reference.\n",
      "Applying a custom ('ECoG',) reference.\n",
      "Getting frequency bands for Hilbert transform\n",
      "Filtering data in theta band from 4 to 8 Hz\n",
      "Note that this will *not* use the analytic amplitude like high gamma\n",
      "Filtering raw data in 1 contiguous segment\n",
      "Setting up band-pass filter from 4 - 8 Hz\n",
      "\n",
      "FIR filter parameters\n",
      "---------------------\n",
      "Designing a one-pass, zero-phase, non-causal bandpass filter:\n",
      "- Windowed time-domain design (firwin) method\n",
      "- Hamming window with 0.0194 passband ripple and 53 dB stopband attenuation\n",
      "- Lower passband edge: 4.00\n",
      "- Lower transition bandwidth: 2.00 Hz (-6 dB cutoff frequency: 3.00 Hz)\n",
      "- Upper passband edge: 8.00 Hz\n",
      "- Upper transition bandwidth: 2.00 Hz (-6 dB cutoff frequency: 9.00 Hz)\n",
      "- Filter length: 845 samples (1.650 sec)\n",
      "\n",
      "Writing /home/jovyan/aws_ds003688/derivatives/theta/sub-16_ses-iemu_task-film_acq-clinical_run-1_theta_raw.fif\n",
      "Closing /home/jovyan/aws_ds003688/derivatives/theta/sub-16_ses-iemu_task-film_acq-clinical_run-1_theta_raw.fif\n",
      "[done]\n",
      "Extracting parameters from /home/jovyan/aws_ds003688/sub-16/ses-iemu/ieeg/sub-16_ses-iemu_task-film_acq-clinical_run-1_ieeg.vhdr...\n",
      "Setting channel info structure...\n",
      "Reading events from /home/jovyan/aws_ds003688/sub-16/ses-iemu/ieeg/sub-16_ses-iemu_task-film_run-1_events.tsv.\n",
      "Reading channel info from /home/jovyan/aws_ds003688/sub-16/ses-iemu/ieeg/sub-16_ses-iemu_task-film_acq-clinical_run-1_channels.tsv.\n",
      "Reading electrode coords from /home/jovyan/aws_ds003688/sub-16/ses-iemu/ieeg/sub-16_ses-iemu_acq-clinical_electrodes.tsv.\n",
      "Extracting parameters from /home/jovyan/aws_ds003688/sub-16/ses-iemu/ieeg/sub-16_ses-iemu_task-film_acq-clinical_run-1_ieeg.vhdr...\n",
      "Setting channel info structure...\n",
      "Reading events from /home/jovyan/aws_ds003688/sub-16/ses-iemu/ieeg/sub-16_ses-iemu_task-film_run-1_events.tsv.\n",
      "Reading channel info from /home/jovyan/aws_ds003688/sub-16/ses-iemu/ieeg/sub-16_ses-iemu_task-film_acq-clinical_run-1_channels.tsv.\n",
      "Reading electrode coords from /home/jovyan/aws_ds003688/sub-16/ses-iemu/ieeg/sub-16_ses-iemu_acq-clinical_electrodes.tsv.\n",
      "Reading 0 ... 200192  =      0.000 ...   391.000 secs...\n"
     ]
    },
    {
     "name": "stderr",
     "output_type": "stream",
     "text": [
      "/home/jovyan/ieegmovie/codes/preprocessing.py:23: RuntimeWarning: participants.tsv file not found for /home/jovyan/aws_ds003688/sub-16/ses-iemu/ieeg/sub-16_ses-iemu_task-film_acq-clinical_run-1_ieeg.vhdr\n",
      "  raw = read_raw_bids(bids_path, verbose=True)\n",
      "/home/jovyan/ieegmovie/codes/preprocessing.py:25: RuntimeWarning: participants.tsv file not found for /home/jovyan/aws_ds003688/sub-16/ses-iemu/ieeg/sub-16_ses-iemu_task-film_acq-clinical_run-1_ieeg.vhdr\n",
      "  raw = read_raw_bids(bids_path, verbose=True)\n"
     ]
    },
    {
     "name": "stdout",
     "output_type": "stream",
     "text": [
      "Doing notch filter\n",
      "Setting up band-stop filter\n",
      "\n",
      "FIR filter parameters\n",
      "---------------------\n",
      "Designing a one-pass, zero-phase, non-causal bandstop filter:\n",
      "- Windowed time-domain design (firwin) method\n",
      "- Hamming window with 0.0194 passband ripple and 53 dB stopband attenuation\n",
      "- Lower transition bandwidth: 0.50 Hz\n",
      "- Upper transition bandwidth: 0.50 Hz\n",
      "- Filter length: 3381 samples (6.604 sec)\n",
      "\n",
      "Doing CAR on\n",
      "average\n",
      "ECoG channel type selected for re-referencing\n",
      "Applying average reference.\n",
      "Applying a custom ('ECoG',) reference.\n",
      "Getting frequency bands for Hilbert transform\n",
      "Filtering data in alpha band from 8 to 15 Hz\n",
      "Note that this will *not* use the analytic amplitude like high gamma\n",
      "Filtering raw data in 1 contiguous segment\n",
      "Setting up band-pass filter from 8 - 15 Hz\n",
      "\n",
      "FIR filter parameters\n",
      "---------------------\n",
      "Designing a one-pass, zero-phase, non-causal bandpass filter:\n",
      "- Windowed time-domain design (firwin) method\n",
      "- Hamming window with 0.0194 passband ripple and 53 dB stopband attenuation\n",
      "- Lower passband edge: 8.00\n",
      "- Lower transition bandwidth: 2.00 Hz (-6 dB cutoff frequency: 7.00 Hz)\n",
      "- Upper passband edge: 15.00 Hz\n",
      "- Upper transition bandwidth: 3.75 Hz (-6 dB cutoff frequency: 16.88 Hz)\n",
      "- Filter length: 845 samples (1.650 sec)\n",
      "\n",
      "Writing /home/jovyan/aws_ds003688/derivatives/alpha/sub-16_ses-iemu_task-film_acq-clinical_run-1_alpha_raw.fif\n",
      "Closing /home/jovyan/aws_ds003688/derivatives/alpha/sub-16_ses-iemu_task-film_acq-clinical_run-1_alpha_raw.fif\n",
      "[done]\n",
      "Extracting parameters from /home/jovyan/aws_ds003688/sub-18/ses-iemu/ieeg/sub-18_ses-iemu_task-film_acq-clinical_run-1_ieeg.vhdr...\n",
      "Setting channel info structure...\n",
      "Reading events from /home/jovyan/aws_ds003688/sub-18/ses-iemu/ieeg/sub-18_ses-iemu_task-film_run-1_events.tsv.\n",
      "Reading channel info from /home/jovyan/aws_ds003688/sub-18/ses-iemu/ieeg/sub-18_ses-iemu_task-film_acq-clinical_run-1_channels.tsv.\n",
      "Reading electrode coords from /home/jovyan/aws_ds003688/sub-18/ses-iemu/ieeg/sub-18_ses-iemu_acq-clinical_electrodes.tsv.\n",
      "Extracting parameters from /home/jovyan/aws_ds003688/sub-18/ses-iemu/ieeg/sub-18_ses-iemu_task-film_acq-clinical_run-1_ieeg.vhdr...\n",
      "Setting channel info structure...\n",
      "Reading events from /home/jovyan/aws_ds003688/sub-18/ses-iemu/ieeg/sub-18_ses-iemu_task-film_run-1_events.tsv.\n",
      "Reading channel info from /home/jovyan/aws_ds003688/sub-18/ses-iemu/ieeg/sub-18_ses-iemu_task-film_acq-clinical_run-1_channels.tsv.\n",
      "Reading electrode coords from /home/jovyan/aws_ds003688/sub-18/ses-iemu/ieeg/sub-18_ses-iemu_acq-clinical_electrodes.tsv.\n",
      "Reading 0 ... 205452  =      0.000 ...   401.273 secs...\n"
     ]
    },
    {
     "name": "stderr",
     "output_type": "stream",
     "text": [
      "/home/jovyan/ieegmovie/codes/preprocessing.py:23: RuntimeWarning: The unit for channel(s) MKR1+, MKR2+ has changed from V to NA.\n",
      "  raw = read_raw_bids(bids_path, verbose=True)\n",
      "/home/jovyan/ieegmovie/codes/preprocessing.py:23: RuntimeWarning: participants.tsv file not found for /home/jovyan/aws_ds003688/sub-18/ses-iemu/ieeg/sub-18_ses-iemu_task-film_acq-clinical_run-1_ieeg.vhdr\n",
      "  raw = read_raw_bids(bids_path, verbose=True)\n",
      "/home/jovyan/ieegmovie/codes/preprocessing.py:25: RuntimeWarning: The unit for channel(s) MKR1+, MKR2+ has changed from V to NA.\n",
      "  raw = read_raw_bids(bids_path, verbose=True)\n",
      "/home/jovyan/ieegmovie/codes/preprocessing.py:25: RuntimeWarning: participants.tsv file not found for /home/jovyan/aws_ds003688/sub-18/ses-iemu/ieeg/sub-18_ses-iemu_task-film_acq-clinical_run-1_ieeg.vhdr\n",
      "  raw = read_raw_bids(bids_path, verbose=True)\n"
     ]
    },
    {
     "name": "stdout",
     "output_type": "stream",
     "text": [
      "Setting up band-stop filter\n",
      "\n",
      "FIR filter parameters\n",
      "---------------------\n",
      "Designing a one-pass, zero-phase, non-causal bandstop filter:\n",
      "- Windowed time-domain design (firwin) method\n",
      "- Hamming window with 0.0194 passband ripple and 53 dB stopband attenuation\n",
      "- Lower transition bandwidth: 0.50 Hz\n",
      "- Upper transition bandwidth: 0.50 Hz\n",
      "- Filter length: 3381 samples (6.604 sec)\n",
      "\n",
      "ECoG channel type selected for re-referencing\n",
      "Applying average reference.\n",
      "Applying a custom ('ECoG',) reference.\n",
      "Filtering raw data in 1 contiguous segment\n",
      "Setting up high-pass filter at 0.1 Hz\n",
      "\n",
      "FIR filter parameters\n",
      "---------------------\n",
      "Designing a one-pass, zero-phase, non-causal highpass filter:\n",
      "- Windowed time-domain design (firwin) method\n",
      "- Hamming window with 0.0194 passband ripple and 53 dB stopband attenuation\n",
      "- Lower passband edge: 0.10\n",
      "- Lower transition bandwidth: 0.10 Hz (-6 dB cutoff frequency: 0.05 Hz)\n",
      "- Filter length: 16897 samples (33.002 sec)\n",
      "\n",
      "Writing /home/jovyan/aws_ds003688/derivatives/CAR/sub-18_ses-iemu_task-film_acq-clinical_run-1_CAR_raw.fif\n",
      "Closing /home/jovyan/aws_ds003688/derivatives/CAR/sub-18_ses-iemu_task-film_acq-clinical_run-1_CAR_raw.fif\n",
      "[done]\n",
      "Extracting parameters from /home/jovyan/aws_ds003688/sub-18/ses-iemu/ieeg/sub-18_ses-iemu_task-film_acq-clinical_run-1_ieeg.vhdr...\n",
      "Setting channel info structure...\n",
      "Reading events from /home/jovyan/aws_ds003688/sub-18/ses-iemu/ieeg/sub-18_ses-iemu_task-film_run-1_events.tsv.\n",
      "Reading channel info from /home/jovyan/aws_ds003688/sub-18/ses-iemu/ieeg/sub-18_ses-iemu_task-film_acq-clinical_run-1_channels.tsv.\n",
      "Reading electrode coords from /home/jovyan/aws_ds003688/sub-18/ses-iemu/ieeg/sub-18_ses-iemu_acq-clinical_electrodes.tsv.\n",
      "Extracting parameters from /home/jovyan/aws_ds003688/sub-18/ses-iemu/ieeg/sub-18_ses-iemu_task-film_acq-clinical_run-1_ieeg.vhdr...\n",
      "Setting channel info structure...\n",
      "Reading events from /home/jovyan/aws_ds003688/sub-18/ses-iemu/ieeg/sub-18_ses-iemu_task-film_run-1_events.tsv.\n",
      "Reading channel info from /home/jovyan/aws_ds003688/sub-18/ses-iemu/ieeg/sub-18_ses-iemu_task-film_acq-clinical_run-1_channels.tsv.\n",
      "Reading electrode coords from /home/jovyan/aws_ds003688/sub-18/ses-iemu/ieeg/sub-18_ses-iemu_acq-clinical_electrodes.tsv.\n",
      "Reading 0 ... 205452  =      0.000 ...   401.273 secs...\n"
     ]
    },
    {
     "name": "stderr",
     "output_type": "stream",
     "text": [
      "/home/jovyan/ieegmovie/codes/preprocessing.py:23: RuntimeWarning: The unit for channel(s) MKR1+, MKR2+ has changed from V to NA.\n",
      "  raw = read_raw_bids(bids_path, verbose=True)\n",
      "/home/jovyan/ieegmovie/codes/preprocessing.py:23: RuntimeWarning: participants.tsv file not found for /home/jovyan/aws_ds003688/sub-18/ses-iemu/ieeg/sub-18_ses-iemu_task-film_acq-clinical_run-1_ieeg.vhdr\n",
      "  raw = read_raw_bids(bids_path, verbose=True)\n",
      "/home/jovyan/ieegmovie/codes/preprocessing.py:25: RuntimeWarning: The unit for channel(s) MKR1+, MKR2+ has changed from V to NA.\n",
      "  raw = read_raw_bids(bids_path, verbose=True)\n",
      "/home/jovyan/ieegmovie/codes/preprocessing.py:25: RuntimeWarning: participants.tsv file not found for /home/jovyan/aws_ds003688/sub-18/ses-iemu/ieeg/sub-18_ses-iemu_task-film_acq-clinical_run-1_ieeg.vhdr\n",
      "  raw = read_raw_bids(bids_path, verbose=True)\n"
     ]
    },
    {
     "name": "stdout",
     "output_type": "stream",
     "text": [
      "Doing notch filter\n",
      "Setting up band-stop filter\n",
      "\n",
      "FIR filter parameters\n",
      "---------------------\n",
      "Designing a one-pass, zero-phase, non-causal bandstop filter:\n",
      "- Windowed time-domain design (firwin) method\n",
      "- Hamming window with 0.0194 passband ripple and 53 dB stopband attenuation\n",
      "- Lower transition bandwidth: 0.50 Hz\n",
      "- Upper transition bandwidth: 0.50 Hz\n",
      "- Filter length: 3381 samples (6.604 sec)\n",
      "\n",
      "Doing CAR on\n",
      "average\n",
      "ECoG channel type selected for re-referencing\n",
      "Applying average reference.\n",
      "Applying a custom ('ECoG',) reference.\n",
      "Getting frequency bands for Hilbert transform\n",
      "Getting HighGamma band data\n",
      "Getting the raw data array\n"
     ]
    },
    {
     "name": "stderr",
     "output_type": "stream",
     "text": [
      "applying Hilbert transform...:   0%|          | 0/8 [00:00<?, ?it/s]/home/jovyan/ieegmovie/codes/ecog_preproc_utils.py:159: ComplexWarning: Casting complex values to real discards the imaginary part\n",
      "  raw.info['sfreq'], ct, sd)\n"
     ]
    },
    {
     "name": "stdout",
     "output_type": "stream",
     "text": [
      "Taking log transform of high gamma\n"
     ]
    },
    {
     "name": "stderr",
     "output_type": "stream",
     "text": [
      "applying Hilbert transform...:  12%|█▎        | 1/8 [00:10<01:11, 10.15s/it]"
     ]
    },
    {
     "name": "stdout",
     "output_type": "stream",
     "text": [
      "Taking log transform of high gamma\n"
     ]
    },
    {
     "name": "stderr",
     "output_type": "stream",
     "text": [
      "applying Hilbert transform...:  25%|██▌       | 2/8 [00:20<01:00, 10.10s/it]"
     ]
    },
    {
     "name": "stdout",
     "output_type": "stream",
     "text": [
      "Taking log transform of high gamma\n"
     ]
    },
    {
     "name": "stderr",
     "output_type": "stream",
     "text": [
      "applying Hilbert transform...:  38%|███▊      | 3/8 [00:30<00:50, 10.09s/it]"
     ]
    },
    {
     "name": "stdout",
     "output_type": "stream",
     "text": [
      "Taking log transform of high gamma\n"
     ]
    },
    {
     "name": "stderr",
     "output_type": "stream",
     "text": [
      "applying Hilbert transform...:  50%|█████     | 4/8 [00:40<00:40, 10.06s/it]"
     ]
    },
    {
     "name": "stdout",
     "output_type": "stream",
     "text": [
      "Taking log transform of high gamma\n"
     ]
    },
    {
     "name": "stderr",
     "output_type": "stream",
     "text": [
      "applying Hilbert transform...:  62%|██████▎   | 5/8 [00:50<00:30, 10.03s/it]"
     ]
    },
    {
     "name": "stdout",
     "output_type": "stream",
     "text": [
      "Taking log transform of high gamma\n"
     ]
    },
    {
     "name": "stderr",
     "output_type": "stream",
     "text": [
      "applying Hilbert transform...:  75%|███████▌  | 6/8 [01:00<00:20, 10.01s/it]"
     ]
    },
    {
     "name": "stdout",
     "output_type": "stream",
     "text": [
      "Taking log transform of high gamma\n"
     ]
    },
    {
     "name": "stderr",
     "output_type": "stream",
     "text": [
      "applying Hilbert transform...:  88%|████████▊ | 7/8 [01:10<00:10, 10.05s/it]"
     ]
    },
    {
     "name": "stdout",
     "output_type": "stream",
     "text": [
      "Taking log transform of high gamma\n"
     ]
    },
    {
     "name": "stderr",
     "output_type": "stream",
     "text": [
      "applying Hilbert transform...: 100%|██████████| 8/8 [01:20<00:00, 10.06s/it]\n"
     ]
    },
    {
     "name": "stdout",
     "output_type": "stream",
     "text": [
      "Taking the mean across 8 bands\n",
      "Z-scoring signal\n",
      "Creating RawArray with float64 data, n_channels=61, n_times=205453\n",
      "    Range : 0 ... 205452 =      0.000 ...   401.273 secs\n",
      "Ready.\n",
      "Writing /home/jovyan/aws_ds003688/derivatives/HighGamma/sub-18_ses-iemu_task-film_acq-clinical_run-1_HighGamma_raw.fif\n",
      "Closing /home/jovyan/aws_ds003688/derivatives/HighGamma/sub-18_ses-iemu_task-film_acq-clinical_run-1_HighGamma_raw.fif\n",
      "[done]\n",
      "Extracting parameters from /home/jovyan/aws_ds003688/sub-18/ses-iemu/ieeg/sub-18_ses-iemu_task-film_acq-clinical_run-1_ieeg.vhdr...\n",
      "Setting channel info structure...\n",
      "Reading events from /home/jovyan/aws_ds003688/sub-18/ses-iemu/ieeg/sub-18_ses-iemu_task-film_run-1_events.tsv.\n",
      "Reading channel info from /home/jovyan/aws_ds003688/sub-18/ses-iemu/ieeg/sub-18_ses-iemu_task-film_acq-clinical_run-1_channels.tsv.\n",
      "Reading electrode coords from /home/jovyan/aws_ds003688/sub-18/ses-iemu/ieeg/sub-18_ses-iemu_acq-clinical_electrodes.tsv.\n",
      "Extracting parameters from /home/jovyan/aws_ds003688/sub-18/ses-iemu/ieeg/sub-18_ses-iemu_task-film_acq-clinical_run-1_ieeg.vhdr...\n",
      "Setting channel info structure...\n",
      "Reading events from /home/jovyan/aws_ds003688/sub-18/ses-iemu/ieeg/sub-18_ses-iemu_task-film_run-1_events.tsv.\n",
      "Reading channel info from /home/jovyan/aws_ds003688/sub-18/ses-iemu/ieeg/sub-18_ses-iemu_task-film_acq-clinical_run-1_channels.tsv.\n",
      "Reading electrode coords from /home/jovyan/aws_ds003688/sub-18/ses-iemu/ieeg/sub-18_ses-iemu_acq-clinical_electrodes.tsv.\n",
      "Reading 0 ... 205452  =      0.000 ...   401.273 secs...\n"
     ]
    },
    {
     "name": "stderr",
     "output_type": "stream",
     "text": [
      "/home/jovyan/ieegmovie/codes/preprocessing.py:23: RuntimeWarning: The unit for channel(s) MKR1+, MKR2+ has changed from V to NA.\n",
      "  raw = read_raw_bids(bids_path, verbose=True)\n",
      "/home/jovyan/ieegmovie/codes/preprocessing.py:23: RuntimeWarning: participants.tsv file not found for /home/jovyan/aws_ds003688/sub-18/ses-iemu/ieeg/sub-18_ses-iemu_task-film_acq-clinical_run-1_ieeg.vhdr\n",
      "  raw = read_raw_bids(bids_path, verbose=True)\n",
      "/home/jovyan/ieegmovie/codes/preprocessing.py:25: RuntimeWarning: The unit for channel(s) MKR1+, MKR2+ has changed from V to NA.\n",
      "  raw = read_raw_bids(bids_path, verbose=True)\n",
      "/home/jovyan/ieegmovie/codes/preprocessing.py:25: RuntimeWarning: participants.tsv file not found for /home/jovyan/aws_ds003688/sub-18/ses-iemu/ieeg/sub-18_ses-iemu_task-film_acq-clinical_run-1_ieeg.vhdr\n",
      "  raw = read_raw_bids(bids_path, verbose=True)\n"
     ]
    },
    {
     "name": "stdout",
     "output_type": "stream",
     "text": [
      "Doing notch filter\n",
      "Setting up band-stop filter\n",
      "\n",
      "FIR filter parameters\n",
      "---------------------\n",
      "Designing a one-pass, zero-phase, non-causal bandstop filter:\n",
      "- Windowed time-domain design (firwin) method\n",
      "- Hamming window with 0.0194 passband ripple and 53 dB stopband attenuation\n",
      "- Lower transition bandwidth: 0.50 Hz\n",
      "- Upper transition bandwidth: 0.50 Hz\n",
      "- Filter length: 3381 samples (6.604 sec)\n",
      "\n",
      "Doing CAR on\n",
      "average\n",
      "ECoG channel type selected for re-referencing\n",
      "Applying average reference.\n",
      "Applying a custom ('ECoG',) reference.\n",
      "Getting frequency bands for Hilbert transform\n",
      "Filtering data in theta band from 4 to 8 Hz\n",
      "Note that this will *not* use the analytic amplitude like high gamma\n",
      "Filtering raw data in 1 contiguous segment\n",
      "Setting up band-pass filter from 4 - 8 Hz\n",
      "\n",
      "FIR filter parameters\n",
      "---------------------\n",
      "Designing a one-pass, zero-phase, non-causal bandpass filter:\n",
      "- Windowed time-domain design (firwin) method\n",
      "- Hamming window with 0.0194 passband ripple and 53 dB stopband attenuation\n",
      "- Lower passband edge: 4.00\n",
      "- Lower transition bandwidth: 2.00 Hz (-6 dB cutoff frequency: 3.00 Hz)\n",
      "- Upper passband edge: 8.00 Hz\n",
      "- Upper transition bandwidth: 2.00 Hz (-6 dB cutoff frequency: 9.00 Hz)\n",
      "- Filter length: 845 samples (1.650 sec)\n",
      "\n",
      "Writing /home/jovyan/aws_ds003688/derivatives/theta/sub-18_ses-iemu_task-film_acq-clinical_run-1_theta_raw.fif\n",
      "Closing /home/jovyan/aws_ds003688/derivatives/theta/sub-18_ses-iemu_task-film_acq-clinical_run-1_theta_raw.fif\n",
      "[done]\n",
      "Extracting parameters from /home/jovyan/aws_ds003688/sub-18/ses-iemu/ieeg/sub-18_ses-iemu_task-film_acq-clinical_run-1_ieeg.vhdr...\n",
      "Setting channel info structure...\n",
      "Reading events from /home/jovyan/aws_ds003688/sub-18/ses-iemu/ieeg/sub-18_ses-iemu_task-film_run-1_events.tsv.\n",
      "Reading channel info from /home/jovyan/aws_ds003688/sub-18/ses-iemu/ieeg/sub-18_ses-iemu_task-film_acq-clinical_run-1_channels.tsv.\n",
      "Reading electrode coords from /home/jovyan/aws_ds003688/sub-18/ses-iemu/ieeg/sub-18_ses-iemu_acq-clinical_electrodes.tsv.\n",
      "Extracting parameters from /home/jovyan/aws_ds003688/sub-18/ses-iemu/ieeg/sub-18_ses-iemu_task-film_acq-clinical_run-1_ieeg.vhdr...\n",
      "Setting channel info structure...\n",
      "Reading events from /home/jovyan/aws_ds003688/sub-18/ses-iemu/ieeg/sub-18_ses-iemu_task-film_run-1_events.tsv.\n",
      "Reading channel info from /home/jovyan/aws_ds003688/sub-18/ses-iemu/ieeg/sub-18_ses-iemu_task-film_acq-clinical_run-1_channels.tsv.\n",
      "Reading electrode coords from /home/jovyan/aws_ds003688/sub-18/ses-iemu/ieeg/sub-18_ses-iemu_acq-clinical_electrodes.tsv.\n",
      "Reading 0 ... 205452  =      0.000 ...   401.273 secs...\n"
     ]
    },
    {
     "name": "stderr",
     "output_type": "stream",
     "text": [
      "/home/jovyan/ieegmovie/codes/preprocessing.py:23: RuntimeWarning: The unit for channel(s) MKR1+, MKR2+ has changed from V to NA.\n",
      "  raw = read_raw_bids(bids_path, verbose=True)\n",
      "/home/jovyan/ieegmovie/codes/preprocessing.py:23: RuntimeWarning: participants.tsv file not found for /home/jovyan/aws_ds003688/sub-18/ses-iemu/ieeg/sub-18_ses-iemu_task-film_acq-clinical_run-1_ieeg.vhdr\n",
      "  raw = read_raw_bids(bids_path, verbose=True)\n",
      "/home/jovyan/ieegmovie/codes/preprocessing.py:25: RuntimeWarning: The unit for channel(s) MKR1+, MKR2+ has changed from V to NA.\n",
      "  raw = read_raw_bids(bids_path, verbose=True)\n",
      "/home/jovyan/ieegmovie/codes/preprocessing.py:25: RuntimeWarning: participants.tsv file not found for /home/jovyan/aws_ds003688/sub-18/ses-iemu/ieeg/sub-18_ses-iemu_task-film_acq-clinical_run-1_ieeg.vhdr\n",
      "  raw = read_raw_bids(bids_path, verbose=True)\n"
     ]
    },
    {
     "name": "stdout",
     "output_type": "stream",
     "text": [
      "Doing notch filter\n",
      "Setting up band-stop filter\n",
      "\n",
      "FIR filter parameters\n",
      "---------------------\n",
      "Designing a one-pass, zero-phase, non-causal bandstop filter:\n",
      "- Windowed time-domain design (firwin) method\n",
      "- Hamming window with 0.0194 passband ripple and 53 dB stopband attenuation\n",
      "- Lower transition bandwidth: 0.50 Hz\n",
      "- Upper transition bandwidth: 0.50 Hz\n",
      "- Filter length: 3381 samples (6.604 sec)\n",
      "\n",
      "Doing CAR on\n",
      "average\n",
      "ECoG channel type selected for re-referencing\n",
      "Applying average reference.\n",
      "Applying a custom ('ECoG',) reference.\n",
      "Getting frequency bands for Hilbert transform\n",
      "Filtering data in alpha band from 8 to 15 Hz\n",
      "Note that this will *not* use the analytic amplitude like high gamma\n",
      "Filtering raw data in 1 contiguous segment\n",
      "Setting up band-pass filter from 8 - 15 Hz\n",
      "\n",
      "FIR filter parameters\n",
      "---------------------\n",
      "Designing a one-pass, zero-phase, non-causal bandpass filter:\n",
      "- Windowed time-domain design (firwin) method\n",
      "- Hamming window with 0.0194 passband ripple and 53 dB stopband attenuation\n",
      "- Lower passband edge: 8.00\n",
      "- Lower transition bandwidth: 2.00 Hz (-6 dB cutoff frequency: 7.00 Hz)\n",
      "- Upper passband edge: 15.00 Hz\n",
      "- Upper transition bandwidth: 3.75 Hz (-6 dB cutoff frequency: 16.88 Hz)\n",
      "- Filter length: 845 samples (1.650 sec)\n",
      "\n",
      "Writing /home/jovyan/aws_ds003688/derivatives/alpha/sub-18_ses-iemu_task-film_acq-clinical_run-1_alpha_raw.fif\n",
      "Closing /home/jovyan/aws_ds003688/derivatives/alpha/sub-18_ses-iemu_task-film_acq-clinical_run-1_alpha_raw.fif\n",
      "[done]\n",
      "Extracting parameters from /home/jovyan/aws_ds003688/sub-22/ses-iemu/ieeg/sub-22_ses-iemu_task-film_acq-clinical_run-1_ieeg.vhdr...\n",
      "Setting channel info structure...\n",
      "Reading events from /home/jovyan/aws_ds003688/sub-22/ses-iemu/ieeg/sub-22_ses-iemu_task-film_run-1_events.tsv.\n",
      "Reading channel info from /home/jovyan/aws_ds003688/sub-22/ses-iemu/ieeg/sub-22_ses-iemu_task-film_acq-clinical_run-1_channels.tsv.\n",
      "Reading electrode coords from /home/jovyan/aws_ds003688/sub-22/ses-iemu/ieeg/sub-22_ses-iemu_acq-clinical_electrodes.tsv.\n",
      "Extracting parameters from /home/jovyan/aws_ds003688/sub-22/ses-iemu/ieeg/sub-22_ses-iemu_task-film_acq-clinical_run-1_ieeg.vhdr...\n",
      "Setting channel info structure...\n",
      "Reading events from /home/jovyan/aws_ds003688/sub-22/ses-iemu/ieeg/sub-22_ses-iemu_task-film_run-1_events.tsv.\n",
      "Reading channel info from /home/jovyan/aws_ds003688/sub-22/ses-iemu/ieeg/sub-22_ses-iemu_task-film_acq-clinical_run-1_channels.tsv.\n",
      "Reading electrode coords from /home/jovyan/aws_ds003688/sub-22/ses-iemu/ieeg/sub-22_ses-iemu_acq-clinical_electrodes.tsv.\n",
      "Reading 0 ... 260797  =      0.000 ...   509.369 secs...\n"
     ]
    },
    {
     "name": "stderr",
     "output_type": "stream",
     "text": [
      "/home/jovyan/ieegmovie/codes/preprocessing.py:23: RuntimeWarning: The unit for channel(s) MKR+ has changed from V to NA.\n",
      "  raw = read_raw_bids(bids_path, verbose=True)\n",
      "/home/jovyan/ieegmovie/codes/preprocessing.py:23: RuntimeWarning: participants.tsv file not found for /home/jovyan/aws_ds003688/sub-22/ses-iemu/ieeg/sub-22_ses-iemu_task-film_acq-clinical_run-1_ieeg.vhdr\n",
      "  raw = read_raw_bids(bids_path, verbose=True)\n",
      "/home/jovyan/ieegmovie/codes/preprocessing.py:25: RuntimeWarning: The unit for channel(s) MKR+ has changed from V to NA.\n",
      "  raw = read_raw_bids(bids_path, verbose=True)\n",
      "/home/jovyan/ieegmovie/codes/preprocessing.py:25: RuntimeWarning: participants.tsv file not found for /home/jovyan/aws_ds003688/sub-22/ses-iemu/ieeg/sub-22_ses-iemu_task-film_acq-clinical_run-1_ieeg.vhdr\n",
      "  raw = read_raw_bids(bids_path, verbose=True)\n"
     ]
    },
    {
     "name": "stdout",
     "output_type": "stream",
     "text": [
      "Setting up band-stop filter\n",
      "\n",
      "FIR filter parameters\n",
      "---------------------\n",
      "Designing a one-pass, zero-phase, non-causal bandstop filter:\n",
      "- Windowed time-domain design (firwin) method\n",
      "- Hamming window with 0.0194 passband ripple and 53 dB stopband attenuation\n",
      "- Lower transition bandwidth: 0.50 Hz\n",
      "- Upper transition bandwidth: 0.50 Hz\n",
      "- Filter length: 3381 samples (6.604 sec)\n",
      "\n",
      "ECoG channel type selected for re-referencing\n",
      "Applying average reference.\n",
      "Applying a custom ('ECoG',) reference.\n",
      "Filtering raw data in 1 contiguous segment\n",
      "Setting up high-pass filter at 0.1 Hz\n",
      "\n",
      "FIR filter parameters\n",
      "---------------------\n",
      "Designing a one-pass, zero-phase, non-causal highpass filter:\n",
      "- Windowed time-domain design (firwin) method\n",
      "- Hamming window with 0.0194 passband ripple and 53 dB stopband attenuation\n",
      "- Lower passband edge: 0.10\n",
      "- Lower transition bandwidth: 0.10 Hz (-6 dB cutoff frequency: 0.05 Hz)\n",
      "- Filter length: 16897 samples (33.002 sec)\n",
      "\n",
      "Writing /home/jovyan/aws_ds003688/derivatives/CAR/sub-22_ses-iemu_task-film_acq-clinical_run-1_CAR_raw.fif\n",
      "Closing /home/jovyan/aws_ds003688/derivatives/CAR/sub-22_ses-iemu_task-film_acq-clinical_run-1_CAR_raw.fif\n",
      "[done]\n",
      "Extracting parameters from /home/jovyan/aws_ds003688/sub-22/ses-iemu/ieeg/sub-22_ses-iemu_task-film_acq-clinical_run-1_ieeg.vhdr...\n",
      "Setting channel info structure...\n",
      "Reading events from /home/jovyan/aws_ds003688/sub-22/ses-iemu/ieeg/sub-22_ses-iemu_task-film_run-1_events.tsv.\n",
      "Reading channel info from /home/jovyan/aws_ds003688/sub-22/ses-iemu/ieeg/sub-22_ses-iemu_task-film_acq-clinical_run-1_channels.tsv.\n",
      "Reading electrode coords from /home/jovyan/aws_ds003688/sub-22/ses-iemu/ieeg/sub-22_ses-iemu_acq-clinical_electrodes.tsv.\n",
      "Extracting parameters from /home/jovyan/aws_ds003688/sub-22/ses-iemu/ieeg/sub-22_ses-iemu_task-film_acq-clinical_run-1_ieeg.vhdr...\n",
      "Setting channel info structure...\n",
      "Reading events from /home/jovyan/aws_ds003688/sub-22/ses-iemu/ieeg/sub-22_ses-iemu_task-film_run-1_events.tsv.\n",
      "Reading channel info from /home/jovyan/aws_ds003688/sub-22/ses-iemu/ieeg/sub-22_ses-iemu_task-film_acq-clinical_run-1_channels.tsv.\n",
      "Reading electrode coords from /home/jovyan/aws_ds003688/sub-22/ses-iemu/ieeg/sub-22_ses-iemu_acq-clinical_electrodes.tsv.\n",
      "Reading 0 ... 260797  =      0.000 ...   509.369 secs...\n"
     ]
    },
    {
     "name": "stderr",
     "output_type": "stream",
     "text": [
      "/home/jovyan/ieegmovie/codes/preprocessing.py:23: RuntimeWarning: The unit for channel(s) MKR+ has changed from V to NA.\n",
      "  raw = read_raw_bids(bids_path, verbose=True)\n",
      "/home/jovyan/ieegmovie/codes/preprocessing.py:23: RuntimeWarning: participants.tsv file not found for /home/jovyan/aws_ds003688/sub-22/ses-iemu/ieeg/sub-22_ses-iemu_task-film_acq-clinical_run-1_ieeg.vhdr\n",
      "  raw = read_raw_bids(bids_path, verbose=True)\n",
      "/home/jovyan/ieegmovie/codes/preprocessing.py:25: RuntimeWarning: The unit for channel(s) MKR+ has changed from V to NA.\n",
      "  raw = read_raw_bids(bids_path, verbose=True)\n",
      "/home/jovyan/ieegmovie/codes/preprocessing.py:25: RuntimeWarning: participants.tsv file not found for /home/jovyan/aws_ds003688/sub-22/ses-iemu/ieeg/sub-22_ses-iemu_task-film_acq-clinical_run-1_ieeg.vhdr\n",
      "  raw = read_raw_bids(bids_path, verbose=True)\n"
     ]
    },
    {
     "name": "stdout",
     "output_type": "stream",
     "text": [
      "Doing notch filter\n",
      "Setting up band-stop filter\n",
      "\n",
      "FIR filter parameters\n",
      "---------------------\n",
      "Designing a one-pass, zero-phase, non-causal bandstop filter:\n",
      "- Windowed time-domain design (firwin) method\n",
      "- Hamming window with 0.0194 passband ripple and 53 dB stopband attenuation\n",
      "- Lower transition bandwidth: 0.50 Hz\n",
      "- Upper transition bandwidth: 0.50 Hz\n",
      "- Filter length: 3381 samples (6.604 sec)\n",
      "\n",
      "Doing CAR on\n",
      "average\n",
      "ECoG channel type selected for re-referencing\n",
      "Applying average reference.\n",
      "Applying a custom ('ECoG',) reference.\n",
      "Getting frequency bands for Hilbert transform\n",
      "Getting HighGamma band data\n",
      "Getting the raw data array\n"
     ]
    },
    {
     "name": "stderr",
     "output_type": "stream",
     "text": [
      "applying Hilbert transform...:   0%|          | 0/8 [00:00<?, ?it/s]/home/jovyan/ieegmovie/codes/ecog_preproc_utils.py:159: ComplexWarning: Casting complex values to real discards the imaginary part\n",
      "  raw.info['sfreq'], ct, sd)\n"
     ]
    },
    {
     "name": "stdout",
     "output_type": "stream",
     "text": [
      "Taking log transform of high gamma\n"
     ]
    },
    {
     "name": "stderr",
     "output_type": "stream",
     "text": [
      "applying Hilbert transform...:  12%|█▎        | 1/8 [00:08<01:02,  8.98s/it]"
     ]
    },
    {
     "name": "stdout",
     "output_type": "stream",
     "text": [
      "Taking log transform of high gamma\n"
     ]
    },
    {
     "name": "stderr",
     "output_type": "stream",
     "text": [
      "applying Hilbert transform...:  25%|██▌       | 2/8 [00:18<00:54,  9.01s/it]"
     ]
    },
    {
     "name": "stdout",
     "output_type": "stream",
     "text": [
      "Taking log transform of high gamma\n"
     ]
    },
    {
     "name": "stderr",
     "output_type": "stream",
     "text": [
      "applying Hilbert transform...:  38%|███▊      | 3/8 [00:27<00:45,  9.05s/it]"
     ]
    },
    {
     "name": "stdout",
     "output_type": "stream",
     "text": [
      "Taking log transform of high gamma\n"
     ]
    },
    {
     "name": "stderr",
     "output_type": "stream",
     "text": [
      "applying Hilbert transform...:  50%|█████     | 4/8 [00:36<00:36,  9.04s/it]"
     ]
    },
    {
     "name": "stdout",
     "output_type": "stream",
     "text": [
      "Taking log transform of high gamma\n"
     ]
    },
    {
     "name": "stderr",
     "output_type": "stream",
     "text": [
      "applying Hilbert transform...:  62%|██████▎   | 5/8 [00:45<00:27,  9.01s/it]"
     ]
    },
    {
     "name": "stdout",
     "output_type": "stream",
     "text": [
      "Taking log transform of high gamma\n"
     ]
    },
    {
     "name": "stderr",
     "output_type": "stream",
     "text": [
      "applying Hilbert transform...:  75%|███████▌  | 6/8 [00:54<00:18,  9.00s/it]"
     ]
    },
    {
     "name": "stdout",
     "output_type": "stream",
     "text": [
      "Taking log transform of high gamma\n"
     ]
    },
    {
     "name": "stderr",
     "output_type": "stream",
     "text": [
      "applying Hilbert transform...:  88%|████████▊ | 7/8 [01:03<00:08,  8.98s/it]"
     ]
    },
    {
     "name": "stdout",
     "output_type": "stream",
     "text": [
      "Taking log transform of high gamma\n"
     ]
    },
    {
     "name": "stderr",
     "output_type": "stream",
     "text": [
      "applying Hilbert transform...: 100%|██████████| 8/8 [01:12<00:00,  9.00s/it]\n"
     ]
    },
    {
     "name": "stdout",
     "output_type": "stream",
     "text": [
      "Taking the mean across 8 bands\n",
      "Z-scoring signal\n",
      "Creating RawArray with float64 data, n_channels=45, n_times=260798\n",
      "    Range : 0 ... 260797 =      0.000 ...   509.369 secs\n",
      "Ready.\n",
      "Writing /home/jovyan/aws_ds003688/derivatives/HighGamma/sub-22_ses-iemu_task-film_acq-clinical_run-1_HighGamma_raw.fif\n",
      "Closing /home/jovyan/aws_ds003688/derivatives/HighGamma/sub-22_ses-iemu_task-film_acq-clinical_run-1_HighGamma_raw.fif\n",
      "[done]\n",
      "Extracting parameters from /home/jovyan/aws_ds003688/sub-22/ses-iemu/ieeg/sub-22_ses-iemu_task-film_acq-clinical_run-1_ieeg.vhdr...\n",
      "Setting channel info structure...\n",
      "Reading events from /home/jovyan/aws_ds003688/sub-22/ses-iemu/ieeg/sub-22_ses-iemu_task-film_run-1_events.tsv.\n",
      "Reading channel info from /home/jovyan/aws_ds003688/sub-22/ses-iemu/ieeg/sub-22_ses-iemu_task-film_acq-clinical_run-1_channels.tsv.\n",
      "Reading electrode coords from /home/jovyan/aws_ds003688/sub-22/ses-iemu/ieeg/sub-22_ses-iemu_acq-clinical_electrodes.tsv.\n",
      "Extracting parameters from /home/jovyan/aws_ds003688/sub-22/ses-iemu/ieeg/sub-22_ses-iemu_task-film_acq-clinical_run-1_ieeg.vhdr...\n",
      "Setting channel info structure...\n",
      "Reading events from /home/jovyan/aws_ds003688/sub-22/ses-iemu/ieeg/sub-22_ses-iemu_task-film_run-1_events.tsv.\n",
      "Reading channel info from /home/jovyan/aws_ds003688/sub-22/ses-iemu/ieeg/sub-22_ses-iemu_task-film_acq-clinical_run-1_channels.tsv.\n",
      "Reading electrode coords from /home/jovyan/aws_ds003688/sub-22/ses-iemu/ieeg/sub-22_ses-iemu_acq-clinical_electrodes.tsv.\n",
      "Reading 0 ... 260797  =      0.000 ...   509.369 secs...\n"
     ]
    },
    {
     "name": "stderr",
     "output_type": "stream",
     "text": [
      "/home/jovyan/ieegmovie/codes/preprocessing.py:23: RuntimeWarning: The unit for channel(s) MKR+ has changed from V to NA.\n",
      "  raw = read_raw_bids(bids_path, verbose=True)\n",
      "/home/jovyan/ieegmovie/codes/preprocessing.py:23: RuntimeWarning: participants.tsv file not found for /home/jovyan/aws_ds003688/sub-22/ses-iemu/ieeg/sub-22_ses-iemu_task-film_acq-clinical_run-1_ieeg.vhdr\n",
      "  raw = read_raw_bids(bids_path, verbose=True)\n",
      "/home/jovyan/ieegmovie/codes/preprocessing.py:25: RuntimeWarning: The unit for channel(s) MKR+ has changed from V to NA.\n",
      "  raw = read_raw_bids(bids_path, verbose=True)\n",
      "/home/jovyan/ieegmovie/codes/preprocessing.py:25: RuntimeWarning: participants.tsv file not found for /home/jovyan/aws_ds003688/sub-22/ses-iemu/ieeg/sub-22_ses-iemu_task-film_acq-clinical_run-1_ieeg.vhdr\n",
      "  raw = read_raw_bids(bids_path, verbose=True)\n"
     ]
    },
    {
     "name": "stdout",
     "output_type": "stream",
     "text": [
      "Doing notch filter\n",
      "Setting up band-stop filter\n",
      "\n",
      "FIR filter parameters\n",
      "---------------------\n",
      "Designing a one-pass, zero-phase, non-causal bandstop filter:\n",
      "- Windowed time-domain design (firwin) method\n",
      "- Hamming window with 0.0194 passband ripple and 53 dB stopband attenuation\n",
      "- Lower transition bandwidth: 0.50 Hz\n",
      "- Upper transition bandwidth: 0.50 Hz\n",
      "- Filter length: 3381 samples (6.604 sec)\n",
      "\n",
      "Doing CAR on\n",
      "average\n",
      "ECoG channel type selected for re-referencing\n",
      "Applying average reference.\n",
      "Applying a custom ('ECoG',) reference.\n",
      "Getting frequency bands for Hilbert transform\n",
      "Filtering data in theta band from 4 to 8 Hz\n",
      "Note that this will *not* use the analytic amplitude like high gamma\n",
      "Filtering raw data in 1 contiguous segment\n",
      "Setting up band-pass filter from 4 - 8 Hz\n",
      "\n",
      "FIR filter parameters\n",
      "---------------------\n",
      "Designing a one-pass, zero-phase, non-causal bandpass filter:\n",
      "- Windowed time-domain design (firwin) method\n",
      "- Hamming window with 0.0194 passband ripple and 53 dB stopband attenuation\n",
      "- Lower passband edge: 4.00\n",
      "- Lower transition bandwidth: 2.00 Hz (-6 dB cutoff frequency: 3.00 Hz)\n",
      "- Upper passband edge: 8.00 Hz\n",
      "- Upper transition bandwidth: 2.00 Hz (-6 dB cutoff frequency: 9.00 Hz)\n",
      "- Filter length: 845 samples (1.650 sec)\n",
      "\n",
      "Writing /home/jovyan/aws_ds003688/derivatives/theta/sub-22_ses-iemu_task-film_acq-clinical_run-1_theta_raw.fif\n",
      "Closing /home/jovyan/aws_ds003688/derivatives/theta/sub-22_ses-iemu_task-film_acq-clinical_run-1_theta_raw.fif\n",
      "[done]\n",
      "Extracting parameters from /home/jovyan/aws_ds003688/sub-22/ses-iemu/ieeg/sub-22_ses-iemu_task-film_acq-clinical_run-1_ieeg.vhdr...\n",
      "Setting channel info structure...\n",
      "Reading events from /home/jovyan/aws_ds003688/sub-22/ses-iemu/ieeg/sub-22_ses-iemu_task-film_run-1_events.tsv.\n",
      "Reading channel info from /home/jovyan/aws_ds003688/sub-22/ses-iemu/ieeg/sub-22_ses-iemu_task-film_acq-clinical_run-1_channels.tsv.\n",
      "Reading electrode coords from /home/jovyan/aws_ds003688/sub-22/ses-iemu/ieeg/sub-22_ses-iemu_acq-clinical_electrodes.tsv.\n",
      "Extracting parameters from /home/jovyan/aws_ds003688/sub-22/ses-iemu/ieeg/sub-22_ses-iemu_task-film_acq-clinical_run-1_ieeg.vhdr...\n",
      "Setting channel info structure...\n",
      "Reading events from /home/jovyan/aws_ds003688/sub-22/ses-iemu/ieeg/sub-22_ses-iemu_task-film_run-1_events.tsv.\n",
      "Reading channel info from /home/jovyan/aws_ds003688/sub-22/ses-iemu/ieeg/sub-22_ses-iemu_task-film_acq-clinical_run-1_channels.tsv.\n",
      "Reading electrode coords from /home/jovyan/aws_ds003688/sub-22/ses-iemu/ieeg/sub-22_ses-iemu_acq-clinical_electrodes.tsv.\n",
      "Reading 0 ... 260797  =      0.000 ...   509.369 secs...\n"
     ]
    },
    {
     "name": "stderr",
     "output_type": "stream",
     "text": [
      "/home/jovyan/ieegmovie/codes/preprocessing.py:23: RuntimeWarning: The unit for channel(s) MKR+ has changed from V to NA.\n",
      "  raw = read_raw_bids(bids_path, verbose=True)\n",
      "/home/jovyan/ieegmovie/codes/preprocessing.py:23: RuntimeWarning: participants.tsv file not found for /home/jovyan/aws_ds003688/sub-22/ses-iemu/ieeg/sub-22_ses-iemu_task-film_acq-clinical_run-1_ieeg.vhdr\n",
      "  raw = read_raw_bids(bids_path, verbose=True)\n",
      "/home/jovyan/ieegmovie/codes/preprocessing.py:25: RuntimeWarning: The unit for channel(s) MKR+ has changed from V to NA.\n",
      "  raw = read_raw_bids(bids_path, verbose=True)\n",
      "/home/jovyan/ieegmovie/codes/preprocessing.py:25: RuntimeWarning: participants.tsv file not found for /home/jovyan/aws_ds003688/sub-22/ses-iemu/ieeg/sub-22_ses-iemu_task-film_acq-clinical_run-1_ieeg.vhdr\n",
      "  raw = read_raw_bids(bids_path, verbose=True)\n"
     ]
    },
    {
     "name": "stdout",
     "output_type": "stream",
     "text": [
      "Doing notch filter\n",
      "Setting up band-stop filter\n",
      "\n",
      "FIR filter parameters\n",
      "---------------------\n",
      "Designing a one-pass, zero-phase, non-causal bandstop filter:\n",
      "- Windowed time-domain design (firwin) method\n",
      "- Hamming window with 0.0194 passband ripple and 53 dB stopband attenuation\n",
      "- Lower transition bandwidth: 0.50 Hz\n",
      "- Upper transition bandwidth: 0.50 Hz\n",
      "- Filter length: 3381 samples (6.604 sec)\n",
      "\n",
      "Doing CAR on\n",
      "average\n",
      "ECoG channel type selected for re-referencing\n",
      "Applying average reference.\n",
      "Applying a custom ('ECoG',) reference.\n",
      "Getting frequency bands for Hilbert transform\n",
      "Filtering data in alpha band from 8 to 15 Hz\n",
      "Note that this will *not* use the analytic amplitude like high gamma\n",
      "Filtering raw data in 1 contiguous segment\n",
      "Setting up band-pass filter from 8 - 15 Hz\n",
      "\n",
      "FIR filter parameters\n",
      "---------------------\n",
      "Designing a one-pass, zero-phase, non-causal bandpass filter:\n",
      "- Windowed time-domain design (firwin) method\n",
      "- Hamming window with 0.0194 passband ripple and 53 dB stopband attenuation\n",
      "- Lower passband edge: 8.00\n",
      "- Lower transition bandwidth: 2.00 Hz (-6 dB cutoff frequency: 7.00 Hz)\n",
      "- Upper passband edge: 15.00 Hz\n",
      "- Upper transition bandwidth: 3.75 Hz (-6 dB cutoff frequency: 16.88 Hz)\n",
      "- Filter length: 845 samples (1.650 sec)\n",
      "\n",
      "Writing /home/jovyan/aws_ds003688/derivatives/alpha/sub-22_ses-iemu_task-film_acq-clinical_run-1_alpha_raw.fif\n",
      "Closing /home/jovyan/aws_ds003688/derivatives/alpha/sub-22_ses-iemu_task-film_acq-clinical_run-1_alpha_raw.fif\n",
      "[done]\n",
      "Extracting parameters from /home/jovyan/aws_ds003688/sub-24/ses-iemu/ieeg/sub-24_ses-iemu_task-film_acq-clinical_run-1_ieeg.vhdr...\n",
      "Setting channel info structure...\n",
      "Reading events from /home/jovyan/aws_ds003688/sub-24/ses-iemu/ieeg/sub-24_ses-iemu_task-film_run-1_events.tsv.\n",
      "Reading channel info from /home/jovyan/aws_ds003688/sub-24/ses-iemu/ieeg/sub-24_ses-iemu_task-film_acq-clinical_run-1_channels.tsv.\n",
      "Reading electrode coords from /home/jovyan/aws_ds003688/sub-24/ses-iemu/ieeg/sub-24_ses-iemu_acq-clinical_electrodes.tsv.\n",
      "Extracting parameters from /home/jovyan/aws_ds003688/sub-24/ses-iemu/ieeg/sub-24_ses-iemu_task-film_acq-clinical_run-1_ieeg.vhdr...\n",
      "Setting channel info structure...\n",
      "Reading events from /home/jovyan/aws_ds003688/sub-24/ses-iemu/ieeg/sub-24_ses-iemu_task-film_run-1_events.tsv.\n",
      "Reading channel info from /home/jovyan/aws_ds003688/sub-24/ses-iemu/ieeg/sub-24_ses-iemu_task-film_acq-clinical_run-1_channels.tsv.\n",
      "Reading electrode coords from /home/jovyan/aws_ds003688/sub-24/ses-iemu/ieeg/sub-24_ses-iemu_acq-clinical_electrodes.tsv.\n",
      "Reading 0 ... 202167  =      0.000 ...   394.857 secs...\n"
     ]
    },
    {
     "name": "stderr",
     "output_type": "stream",
     "text": [
      "/home/jovyan/ieegmovie/codes/preprocessing.py:23: RuntimeWarning: participants.tsv file not found for /home/jovyan/aws_ds003688/sub-24/ses-iemu/ieeg/sub-24_ses-iemu_task-film_acq-clinical_run-1_ieeg.vhdr\n",
      "  raw = read_raw_bids(bids_path, verbose=True)\n",
      "/home/jovyan/ieegmovie/codes/preprocessing.py:25: RuntimeWarning: participants.tsv file not found for /home/jovyan/aws_ds003688/sub-24/ses-iemu/ieeg/sub-24_ses-iemu_task-film_acq-clinical_run-1_ieeg.vhdr\n",
      "  raw = read_raw_bids(bids_path, verbose=True)\n"
     ]
    },
    {
     "name": "stdout",
     "output_type": "stream",
     "text": [
      "Setting up band-stop filter\n",
      "\n",
      "FIR filter parameters\n",
      "---------------------\n",
      "Designing a one-pass, zero-phase, non-causal bandstop filter:\n",
      "- Windowed time-domain design (firwin) method\n",
      "- Hamming window with 0.0194 passband ripple and 53 dB stopband attenuation\n",
      "- Lower transition bandwidth: 0.50 Hz\n",
      "- Upper transition bandwidth: 0.50 Hz\n",
      "- Filter length: 3381 samples (6.604 sec)\n",
      "\n",
      "ECoG channel type selected for re-referencing\n",
      "Applying average reference.\n",
      "Applying a custom ('ECoG',) reference.\n",
      "Filtering raw data in 1 contiguous segment\n",
      "Setting up high-pass filter at 0.1 Hz\n",
      "\n",
      "FIR filter parameters\n",
      "---------------------\n",
      "Designing a one-pass, zero-phase, non-causal highpass filter:\n",
      "- Windowed time-domain design (firwin) method\n",
      "- Hamming window with 0.0194 passband ripple and 53 dB stopband attenuation\n",
      "- Lower passband edge: 0.10\n",
      "- Lower transition bandwidth: 0.10 Hz (-6 dB cutoff frequency: 0.05 Hz)\n",
      "- Filter length: 16897 samples (33.002 sec)\n",
      "\n",
      "Writing /home/jovyan/aws_ds003688/derivatives/CAR/sub-24_ses-iemu_task-film_acq-clinical_run-1_CAR_raw.fif\n",
      "Closing /home/jovyan/aws_ds003688/derivatives/CAR/sub-24_ses-iemu_task-film_acq-clinical_run-1_CAR_raw.fif\n",
      "[done]\n",
      "Extracting parameters from /home/jovyan/aws_ds003688/sub-24/ses-iemu/ieeg/sub-24_ses-iemu_task-film_acq-clinical_run-1_ieeg.vhdr...\n",
      "Setting channel info structure...\n",
      "Reading events from /home/jovyan/aws_ds003688/sub-24/ses-iemu/ieeg/sub-24_ses-iemu_task-film_run-1_events.tsv.\n",
      "Reading channel info from /home/jovyan/aws_ds003688/sub-24/ses-iemu/ieeg/sub-24_ses-iemu_task-film_acq-clinical_run-1_channels.tsv.\n",
      "Reading electrode coords from /home/jovyan/aws_ds003688/sub-24/ses-iemu/ieeg/sub-24_ses-iemu_acq-clinical_electrodes.tsv.\n",
      "Extracting parameters from /home/jovyan/aws_ds003688/sub-24/ses-iemu/ieeg/sub-24_ses-iemu_task-film_acq-clinical_run-1_ieeg.vhdr...\n",
      "Setting channel info structure...\n",
      "Reading events from /home/jovyan/aws_ds003688/sub-24/ses-iemu/ieeg/sub-24_ses-iemu_task-film_run-1_events.tsv.\n",
      "Reading channel info from /home/jovyan/aws_ds003688/sub-24/ses-iemu/ieeg/sub-24_ses-iemu_task-film_acq-clinical_run-1_channels.tsv.\n",
      "Reading electrode coords from /home/jovyan/aws_ds003688/sub-24/ses-iemu/ieeg/sub-24_ses-iemu_acq-clinical_electrodes.tsv.\n",
      "Reading 0 ... 202167  =      0.000 ...   394.857 secs...\n"
     ]
    },
    {
     "name": "stderr",
     "output_type": "stream",
     "text": [
      "/home/jovyan/ieegmovie/codes/preprocessing.py:23: RuntimeWarning: participants.tsv file not found for /home/jovyan/aws_ds003688/sub-24/ses-iemu/ieeg/sub-24_ses-iemu_task-film_acq-clinical_run-1_ieeg.vhdr\n",
      "  raw = read_raw_bids(bids_path, verbose=True)\n",
      "/home/jovyan/ieegmovie/codes/preprocessing.py:25: RuntimeWarning: participants.tsv file not found for /home/jovyan/aws_ds003688/sub-24/ses-iemu/ieeg/sub-24_ses-iemu_task-film_acq-clinical_run-1_ieeg.vhdr\n",
      "  raw = read_raw_bids(bids_path, verbose=True)\n"
     ]
    },
    {
     "name": "stdout",
     "output_type": "stream",
     "text": [
      "Doing notch filter\n",
      "Setting up band-stop filter\n",
      "\n",
      "FIR filter parameters\n",
      "---------------------\n",
      "Designing a one-pass, zero-phase, non-causal bandstop filter:\n",
      "- Windowed time-domain design (firwin) method\n",
      "- Hamming window with 0.0194 passband ripple and 53 dB stopband attenuation\n",
      "- Lower transition bandwidth: 0.50 Hz\n",
      "- Upper transition bandwidth: 0.50 Hz\n",
      "- Filter length: 3381 samples (6.604 sec)\n",
      "\n",
      "Doing CAR on\n",
      "average\n",
      "ECoG channel type selected for re-referencing\n",
      "Applying average reference.\n",
      "Applying a custom ('ECoG',) reference.\n",
      "Getting frequency bands for Hilbert transform\n",
      "Getting HighGamma band data\n",
      "Getting the raw data array\n"
     ]
    },
    {
     "name": "stderr",
     "output_type": "stream",
     "text": [
      "applying Hilbert transform...:   0%|          | 0/8 [00:00<?, ?it/s]/home/jovyan/ieegmovie/codes/ecog_preproc_utils.py:159: ComplexWarning: Casting complex values to real discards the imaginary part\n",
      "  raw.info['sfreq'], ct, sd)\n"
     ]
    },
    {
     "name": "stdout",
     "output_type": "stream",
     "text": [
      "Taking log transform of high gamma\n"
     ]
    },
    {
     "name": "stderr",
     "output_type": "stream",
     "text": [
      "applying Hilbert transform...:  12%|█▎        | 1/8 [00:06<00:45,  6.53s/it]"
     ]
    },
    {
     "name": "stdout",
     "output_type": "stream",
     "text": [
      "Taking log transform of high gamma\n"
     ]
    },
    {
     "name": "stderr",
     "output_type": "stream",
     "text": [
      "applying Hilbert transform...:  25%|██▌       | 2/8 [00:13<00:39,  6.52s/it]"
     ]
    },
    {
     "name": "stdout",
     "output_type": "stream",
     "text": [
      "Taking log transform of high gamma\n"
     ]
    },
    {
     "name": "stderr",
     "output_type": "stream",
     "text": [
      "applying Hilbert transform...:  38%|███▊      | 3/8 [00:19<00:32,  6.54s/it]"
     ]
    },
    {
     "name": "stdout",
     "output_type": "stream",
     "text": [
      "Taking log transform of high gamma\n"
     ]
    },
    {
     "name": "stderr",
     "output_type": "stream",
     "text": [
      "applying Hilbert transform...:  50%|█████     | 4/8 [00:26<00:26,  6.55s/it]"
     ]
    },
    {
     "name": "stdout",
     "output_type": "stream",
     "text": [
      "Taking log transform of high gamma\n"
     ]
    },
    {
     "name": "stderr",
     "output_type": "stream",
     "text": [
      "applying Hilbert transform...:  62%|██████▎   | 5/8 [00:32<00:19,  6.53s/it]"
     ]
    },
    {
     "name": "stdout",
     "output_type": "stream",
     "text": [
      "Taking log transform of high gamma\n"
     ]
    },
    {
     "name": "stderr",
     "output_type": "stream",
     "text": [
      "applying Hilbert transform...:  75%|███████▌  | 6/8 [00:39<00:12,  6.48s/it]"
     ]
    },
    {
     "name": "stdout",
     "output_type": "stream",
     "text": [
      "Taking log transform of high gamma\n"
     ]
    },
    {
     "name": "stderr",
     "output_type": "stream",
     "text": [
      "applying Hilbert transform...:  88%|████████▊ | 7/8 [00:45<00:06,  6.46s/it]"
     ]
    },
    {
     "name": "stdout",
     "output_type": "stream",
     "text": [
      "Taking log transform of high gamma\n"
     ]
    },
    {
     "name": "stderr",
     "output_type": "stream",
     "text": [
      "applying Hilbert transform...: 100%|██████████| 8/8 [00:51<00:00,  6.48s/it]\n"
     ]
    },
    {
     "name": "stdout",
     "output_type": "stream",
     "text": [
      "Taking the mean across 8 bands\n",
      "Z-scoring signal\n",
      "Creating RawArray with float64 data, n_channels=71, n_times=202168\n",
      "    Range : 0 ... 202167 =      0.000 ...   394.857 secs\n",
      "Ready.\n",
      "Writing /home/jovyan/aws_ds003688/derivatives/HighGamma/sub-24_ses-iemu_task-film_acq-clinical_run-1_HighGamma_raw.fif\n",
      "Closing /home/jovyan/aws_ds003688/derivatives/HighGamma/sub-24_ses-iemu_task-film_acq-clinical_run-1_HighGamma_raw.fif\n",
      "[done]\n",
      "Extracting parameters from /home/jovyan/aws_ds003688/sub-24/ses-iemu/ieeg/sub-24_ses-iemu_task-film_acq-clinical_run-1_ieeg.vhdr...\n",
      "Setting channel info structure...\n",
      "Reading events from /home/jovyan/aws_ds003688/sub-24/ses-iemu/ieeg/sub-24_ses-iemu_task-film_run-1_events.tsv.\n",
      "Reading channel info from /home/jovyan/aws_ds003688/sub-24/ses-iemu/ieeg/sub-24_ses-iemu_task-film_acq-clinical_run-1_channels.tsv.\n",
      "Reading electrode coords from /home/jovyan/aws_ds003688/sub-24/ses-iemu/ieeg/sub-24_ses-iemu_acq-clinical_electrodes.tsv.\n",
      "Extracting parameters from /home/jovyan/aws_ds003688/sub-24/ses-iemu/ieeg/sub-24_ses-iemu_task-film_acq-clinical_run-1_ieeg.vhdr...\n",
      "Setting channel info structure...\n",
      "Reading events from /home/jovyan/aws_ds003688/sub-24/ses-iemu/ieeg/sub-24_ses-iemu_task-film_run-1_events.tsv.\n",
      "Reading channel info from /home/jovyan/aws_ds003688/sub-24/ses-iemu/ieeg/sub-24_ses-iemu_task-film_acq-clinical_run-1_channels.tsv.\n",
      "Reading electrode coords from /home/jovyan/aws_ds003688/sub-24/ses-iemu/ieeg/sub-24_ses-iemu_acq-clinical_electrodes.tsv.\n",
      "Reading 0 ... 202167  =      0.000 ...   394.857 secs...\n"
     ]
    },
    {
     "name": "stderr",
     "output_type": "stream",
     "text": [
      "/home/jovyan/ieegmovie/codes/preprocessing.py:23: RuntimeWarning: participants.tsv file not found for /home/jovyan/aws_ds003688/sub-24/ses-iemu/ieeg/sub-24_ses-iemu_task-film_acq-clinical_run-1_ieeg.vhdr\n",
      "  raw = read_raw_bids(bids_path, verbose=True)\n",
      "/home/jovyan/ieegmovie/codes/preprocessing.py:25: RuntimeWarning: participants.tsv file not found for /home/jovyan/aws_ds003688/sub-24/ses-iemu/ieeg/sub-24_ses-iemu_task-film_acq-clinical_run-1_ieeg.vhdr\n",
      "  raw = read_raw_bids(bids_path, verbose=True)\n"
     ]
    },
    {
     "name": "stdout",
     "output_type": "stream",
     "text": [
      "Doing notch filter\n",
      "Setting up band-stop filter\n",
      "\n",
      "FIR filter parameters\n",
      "---------------------\n",
      "Designing a one-pass, zero-phase, non-causal bandstop filter:\n",
      "- Windowed time-domain design (firwin) method\n",
      "- Hamming window with 0.0194 passband ripple and 53 dB stopband attenuation\n",
      "- Lower transition bandwidth: 0.50 Hz\n",
      "- Upper transition bandwidth: 0.50 Hz\n",
      "- Filter length: 3381 samples (6.604 sec)\n",
      "\n",
      "Doing CAR on\n",
      "average\n",
      "ECoG channel type selected for re-referencing\n",
      "Applying average reference.\n",
      "Applying a custom ('ECoG',) reference.\n",
      "Getting frequency bands for Hilbert transform\n",
      "Filtering data in theta band from 4 to 8 Hz\n",
      "Note that this will *not* use the analytic amplitude like high gamma\n",
      "Filtering raw data in 1 contiguous segment\n",
      "Setting up band-pass filter from 4 - 8 Hz\n",
      "\n",
      "FIR filter parameters\n",
      "---------------------\n",
      "Designing a one-pass, zero-phase, non-causal bandpass filter:\n",
      "- Windowed time-domain design (firwin) method\n",
      "- Hamming window with 0.0194 passband ripple and 53 dB stopband attenuation\n",
      "- Lower passband edge: 4.00\n",
      "- Lower transition bandwidth: 2.00 Hz (-6 dB cutoff frequency: 3.00 Hz)\n",
      "- Upper passband edge: 8.00 Hz\n",
      "- Upper transition bandwidth: 2.00 Hz (-6 dB cutoff frequency: 9.00 Hz)\n",
      "- Filter length: 845 samples (1.650 sec)\n",
      "\n",
      "Writing /home/jovyan/aws_ds003688/derivatives/theta/sub-24_ses-iemu_task-film_acq-clinical_run-1_theta_raw.fif\n",
      "Closing /home/jovyan/aws_ds003688/derivatives/theta/sub-24_ses-iemu_task-film_acq-clinical_run-1_theta_raw.fif\n",
      "[done]\n",
      "Extracting parameters from /home/jovyan/aws_ds003688/sub-24/ses-iemu/ieeg/sub-24_ses-iemu_task-film_acq-clinical_run-1_ieeg.vhdr...\n",
      "Setting channel info structure...\n",
      "Reading events from /home/jovyan/aws_ds003688/sub-24/ses-iemu/ieeg/sub-24_ses-iemu_task-film_run-1_events.tsv.\n",
      "Reading channel info from /home/jovyan/aws_ds003688/sub-24/ses-iemu/ieeg/sub-24_ses-iemu_task-film_acq-clinical_run-1_channels.tsv.\n",
      "Reading electrode coords from /home/jovyan/aws_ds003688/sub-24/ses-iemu/ieeg/sub-24_ses-iemu_acq-clinical_electrodes.tsv.\n",
      "Extracting parameters from /home/jovyan/aws_ds003688/sub-24/ses-iemu/ieeg/sub-24_ses-iemu_task-film_acq-clinical_run-1_ieeg.vhdr...\n",
      "Setting channel info structure...\n",
      "Reading events from /home/jovyan/aws_ds003688/sub-24/ses-iemu/ieeg/sub-24_ses-iemu_task-film_run-1_events.tsv.\n",
      "Reading channel info from /home/jovyan/aws_ds003688/sub-24/ses-iemu/ieeg/sub-24_ses-iemu_task-film_acq-clinical_run-1_channels.tsv.\n",
      "Reading electrode coords from /home/jovyan/aws_ds003688/sub-24/ses-iemu/ieeg/sub-24_ses-iemu_acq-clinical_electrodes.tsv.\n",
      "Reading 0 ... 202167  =      0.000 ...   394.857 secs...\n"
     ]
    },
    {
     "name": "stderr",
     "output_type": "stream",
     "text": [
      "/home/jovyan/ieegmovie/codes/preprocessing.py:23: RuntimeWarning: participants.tsv file not found for /home/jovyan/aws_ds003688/sub-24/ses-iemu/ieeg/sub-24_ses-iemu_task-film_acq-clinical_run-1_ieeg.vhdr\n",
      "  raw = read_raw_bids(bids_path, verbose=True)\n",
      "/home/jovyan/ieegmovie/codes/preprocessing.py:25: RuntimeWarning: participants.tsv file not found for /home/jovyan/aws_ds003688/sub-24/ses-iemu/ieeg/sub-24_ses-iemu_task-film_acq-clinical_run-1_ieeg.vhdr\n",
      "  raw = read_raw_bids(bids_path, verbose=True)\n"
     ]
    },
    {
     "name": "stdout",
     "output_type": "stream",
     "text": [
      "Doing notch filter\n",
      "Setting up band-stop filter\n",
      "\n",
      "FIR filter parameters\n",
      "---------------------\n",
      "Designing a one-pass, zero-phase, non-causal bandstop filter:\n",
      "- Windowed time-domain design (firwin) method\n",
      "- Hamming window with 0.0194 passband ripple and 53 dB stopband attenuation\n",
      "- Lower transition bandwidth: 0.50 Hz\n",
      "- Upper transition bandwidth: 0.50 Hz\n",
      "- Filter length: 3381 samples (6.604 sec)\n",
      "\n",
      "Doing CAR on\n",
      "average\n",
      "ECoG channel type selected for re-referencing\n",
      "Applying average reference.\n",
      "Applying a custom ('ECoG',) reference.\n",
      "Getting frequency bands for Hilbert transform\n",
      "Filtering data in alpha band from 8 to 15 Hz\n",
      "Note that this will *not* use the analytic amplitude like high gamma\n",
      "Filtering raw data in 1 contiguous segment\n",
      "Setting up band-pass filter from 8 - 15 Hz\n",
      "\n",
      "FIR filter parameters\n",
      "---------------------\n",
      "Designing a one-pass, zero-phase, non-causal bandpass filter:\n",
      "- Windowed time-domain design (firwin) method\n",
      "- Hamming window with 0.0194 passband ripple and 53 dB stopband attenuation\n",
      "- Lower passband edge: 8.00\n",
      "- Lower transition bandwidth: 2.00 Hz (-6 dB cutoff frequency: 7.00 Hz)\n",
      "- Upper passband edge: 15.00 Hz\n",
      "- Upper transition bandwidth: 3.75 Hz (-6 dB cutoff frequency: 16.88 Hz)\n",
      "- Filter length: 845 samples (1.650 sec)\n",
      "\n",
      "Writing /home/jovyan/aws_ds003688/derivatives/alpha/sub-24_ses-iemu_task-film_acq-clinical_run-1_alpha_raw.fif\n",
      "Closing /home/jovyan/aws_ds003688/derivatives/alpha/sub-24_ses-iemu_task-film_acq-clinical_run-1_alpha_raw.fif\n",
      "[done]\n",
      "Extracting parameters from /home/jovyan/aws_ds003688/sub-27/ses-iemu/ieeg/sub-27_ses-iemu_task-film_acq-clinical_run-1_ieeg.vhdr...\n",
      "Setting channel info structure...\n",
      "Reading events from /home/jovyan/aws_ds003688/sub-27/ses-iemu/ieeg/sub-27_ses-iemu_task-film_run-1_events.tsv.\n",
      "Reading channel info from /home/jovyan/aws_ds003688/sub-27/ses-iemu/ieeg/sub-27_ses-iemu_task-film_acq-clinical_run-1_channels.tsv.\n",
      "Reading electrode coords from /home/jovyan/aws_ds003688/sub-27/ses-iemu/ieeg/sub-27_ses-iemu_acq-clinical_electrodes.tsv.\n",
      "Extracting parameters from /home/jovyan/aws_ds003688/sub-27/ses-iemu/ieeg/sub-27_ses-iemu_task-film_acq-clinical_run-1_ieeg.vhdr...\n",
      "Setting channel info structure...\n",
      "Reading events from /home/jovyan/aws_ds003688/sub-27/ses-iemu/ieeg/sub-27_ses-iemu_task-film_run-1_events.tsv.\n",
      "Reading channel info from /home/jovyan/aws_ds003688/sub-27/ses-iemu/ieeg/sub-27_ses-iemu_task-film_acq-clinical_run-1_channels.tsv.\n",
      "Reading electrode coords from /home/jovyan/aws_ds003688/sub-27/ses-iemu/ieeg/sub-27_ses-iemu_acq-clinical_electrodes.tsv.\n",
      "Reading 0 ... 202853  =      0.000 ...   396.197 secs...\n"
     ]
    },
    {
     "name": "stderr",
     "output_type": "stream",
     "text": [
      "/home/jovyan/ieegmovie/codes/preprocessing.py:23: RuntimeWarning: The unit for channel(s) MKR1+, MKR2+ has changed from V to NA.\n",
      "  raw = read_raw_bids(bids_path, verbose=True)\n",
      "/home/jovyan/ieegmovie/codes/preprocessing.py:23: RuntimeWarning: participants.tsv file not found for /home/jovyan/aws_ds003688/sub-27/ses-iemu/ieeg/sub-27_ses-iemu_task-film_acq-clinical_run-1_ieeg.vhdr\n",
      "  raw = read_raw_bids(bids_path, verbose=True)\n",
      "/home/jovyan/ieegmovie/codes/preprocessing.py:25: RuntimeWarning: The unit for channel(s) MKR1+, MKR2+ has changed from V to NA.\n",
      "  raw = read_raw_bids(bids_path, verbose=True)\n",
      "/home/jovyan/ieegmovie/codes/preprocessing.py:25: RuntimeWarning: participants.tsv file not found for /home/jovyan/aws_ds003688/sub-27/ses-iemu/ieeg/sub-27_ses-iemu_task-film_acq-clinical_run-1_ieeg.vhdr\n",
      "  raw = read_raw_bids(bids_path, verbose=True)\n"
     ]
    },
    {
     "name": "stdout",
     "output_type": "stream",
     "text": [
      "Setting up band-stop filter\n",
      "\n",
      "FIR filter parameters\n",
      "---------------------\n",
      "Designing a one-pass, zero-phase, non-causal bandstop filter:\n",
      "- Windowed time-domain design (firwin) method\n",
      "- Hamming window with 0.0194 passband ripple and 53 dB stopband attenuation\n",
      "- Lower transition bandwidth: 0.50 Hz\n",
      "- Upper transition bandwidth: 0.50 Hz\n",
      "- Filter length: 3381 samples (6.604 sec)\n",
      "\n",
      "ECoG channel type selected for re-referencing\n",
      "Applying average reference.\n",
      "Applying a custom ('ECoG',) reference.\n",
      "Filtering raw data in 1 contiguous segment\n",
      "Setting up high-pass filter at 0.1 Hz\n",
      "\n",
      "FIR filter parameters\n",
      "---------------------\n",
      "Designing a one-pass, zero-phase, non-causal highpass filter:\n",
      "- Windowed time-domain design (firwin) method\n",
      "- Hamming window with 0.0194 passband ripple and 53 dB stopband attenuation\n",
      "- Lower passband edge: 0.10\n",
      "- Lower transition bandwidth: 0.10 Hz (-6 dB cutoff frequency: 0.05 Hz)\n",
      "- Filter length: 16897 samples (33.002 sec)\n",
      "\n",
      "Writing /home/jovyan/aws_ds003688/derivatives/CAR/sub-27_ses-iemu_task-film_acq-clinical_run-1_CAR_raw.fif\n",
      "Closing /home/jovyan/aws_ds003688/derivatives/CAR/sub-27_ses-iemu_task-film_acq-clinical_run-1_CAR_raw.fif\n",
      "[done]\n",
      "Extracting parameters from /home/jovyan/aws_ds003688/sub-27/ses-iemu/ieeg/sub-27_ses-iemu_task-film_acq-clinical_run-1_ieeg.vhdr...\n",
      "Setting channel info structure...\n",
      "Reading events from /home/jovyan/aws_ds003688/sub-27/ses-iemu/ieeg/sub-27_ses-iemu_task-film_run-1_events.tsv.\n",
      "Reading channel info from /home/jovyan/aws_ds003688/sub-27/ses-iemu/ieeg/sub-27_ses-iemu_task-film_acq-clinical_run-1_channels.tsv.\n",
      "Reading electrode coords from /home/jovyan/aws_ds003688/sub-27/ses-iemu/ieeg/sub-27_ses-iemu_acq-clinical_electrodes.tsv.\n",
      "Extracting parameters from /home/jovyan/aws_ds003688/sub-27/ses-iemu/ieeg/sub-27_ses-iemu_task-film_acq-clinical_run-1_ieeg.vhdr...\n",
      "Setting channel info structure...\n",
      "Reading events from /home/jovyan/aws_ds003688/sub-27/ses-iemu/ieeg/sub-27_ses-iemu_task-film_run-1_events.tsv.\n",
      "Reading channel info from /home/jovyan/aws_ds003688/sub-27/ses-iemu/ieeg/sub-27_ses-iemu_task-film_acq-clinical_run-1_channels.tsv.\n",
      "Reading electrode coords from /home/jovyan/aws_ds003688/sub-27/ses-iemu/ieeg/sub-27_ses-iemu_acq-clinical_electrodes.tsv.\n",
      "Reading 0 ... 202853  =      0.000 ...   396.197 secs...\n"
     ]
    },
    {
     "name": "stderr",
     "output_type": "stream",
     "text": [
      "/home/jovyan/ieegmovie/codes/preprocessing.py:23: RuntimeWarning: The unit for channel(s) MKR1+, MKR2+ has changed from V to NA.\n",
      "  raw = read_raw_bids(bids_path, verbose=True)\n",
      "/home/jovyan/ieegmovie/codes/preprocessing.py:23: RuntimeWarning: participants.tsv file not found for /home/jovyan/aws_ds003688/sub-27/ses-iemu/ieeg/sub-27_ses-iemu_task-film_acq-clinical_run-1_ieeg.vhdr\n",
      "  raw = read_raw_bids(bids_path, verbose=True)\n",
      "/home/jovyan/ieegmovie/codes/preprocessing.py:25: RuntimeWarning: The unit for channel(s) MKR1+, MKR2+ has changed from V to NA.\n",
      "  raw = read_raw_bids(bids_path, verbose=True)\n",
      "/home/jovyan/ieegmovie/codes/preprocessing.py:25: RuntimeWarning: participants.tsv file not found for /home/jovyan/aws_ds003688/sub-27/ses-iemu/ieeg/sub-27_ses-iemu_task-film_acq-clinical_run-1_ieeg.vhdr\n",
      "  raw = read_raw_bids(bids_path, verbose=True)\n"
     ]
    },
    {
     "name": "stdout",
     "output_type": "stream",
     "text": [
      "Doing notch filter\n",
      "Setting up band-stop filter\n",
      "\n",
      "FIR filter parameters\n",
      "---------------------\n",
      "Designing a one-pass, zero-phase, non-causal bandstop filter:\n",
      "- Windowed time-domain design (firwin) method\n",
      "- Hamming window with 0.0194 passband ripple and 53 dB stopband attenuation\n",
      "- Lower transition bandwidth: 0.50 Hz\n",
      "- Upper transition bandwidth: 0.50 Hz\n",
      "- Filter length: 3381 samples (6.604 sec)\n",
      "\n",
      "Doing CAR on\n",
      "average\n",
      "ECoG channel type selected for re-referencing\n",
      "Applying average reference.\n",
      "Applying a custom ('ECoG',) reference.\n",
      "Getting frequency bands for Hilbert transform\n",
      "Getting HighGamma band data\n",
      "Getting the raw data array\n"
     ]
    },
    {
     "name": "stderr",
     "output_type": "stream",
     "text": [
      "applying Hilbert transform...:   0%|          | 0/8 [00:00<?, ?it/s]/home/jovyan/ieegmovie/codes/ecog_preproc_utils.py:159: ComplexWarning: Casting complex values to real discards the imaginary part\n",
      "  raw.info['sfreq'], ct, sd)\n"
     ]
    },
    {
     "name": "stdout",
     "output_type": "stream",
     "text": [
      "Taking log transform of high gamma\n"
     ]
    },
    {
     "name": "stderr",
     "output_type": "stream",
     "text": [
      "applying Hilbert transform...:  12%|█▎        | 1/8 [00:10<01:15, 10.78s/it]"
     ]
    },
    {
     "name": "stdout",
     "output_type": "stream",
     "text": [
      "Taking log transform of high gamma\n"
     ]
    },
    {
     "name": "stderr",
     "output_type": "stream",
     "text": [
      "applying Hilbert transform...:  25%|██▌       | 2/8 [00:21<01:02, 10.46s/it]"
     ]
    },
    {
     "name": "stdout",
     "output_type": "stream",
     "text": [
      "Taking log transform of high gamma\n"
     ]
    },
    {
     "name": "stderr",
     "output_type": "stream",
     "text": [
      "applying Hilbert transform...:  38%|███▊      | 3/8 [00:30<00:49,  9.93s/it]"
     ]
    },
    {
     "name": "stdout",
     "output_type": "stream",
     "text": [
      "Taking log transform of high gamma\n"
     ]
    },
    {
     "name": "stderr",
     "output_type": "stream",
     "text": [
      "applying Hilbert transform...:  50%|█████     | 4/8 [00:39<00:38,  9.70s/it]"
     ]
    },
    {
     "name": "stdout",
     "output_type": "stream",
     "text": [
      "Taking log transform of high gamma\n"
     ]
    },
    {
     "name": "stderr",
     "output_type": "stream",
     "text": [
      "applying Hilbert transform...:  62%|██████▎   | 5/8 [00:48<00:28,  9.53s/it]"
     ]
    },
    {
     "name": "stdout",
     "output_type": "stream",
     "text": [
      "Taking log transform of high gamma\n"
     ]
    },
    {
     "name": "stderr",
     "output_type": "stream",
     "text": [
      "applying Hilbert transform...:  75%|███████▌  | 6/8 [00:58<00:18,  9.43s/it]"
     ]
    },
    {
     "name": "stdout",
     "output_type": "stream",
     "text": [
      "Taking log transform of high gamma\n"
     ]
    },
    {
     "name": "stderr",
     "output_type": "stream",
     "text": [
      "applying Hilbert transform...:  88%|████████▊ | 7/8 [01:07<00:09,  9.39s/it]"
     ]
    },
    {
     "name": "stdout",
     "output_type": "stream",
     "text": [
      "Taking log transform of high gamma\n"
     ]
    },
    {
     "name": "stderr",
     "output_type": "stream",
     "text": [
      "applying Hilbert transform...: 100%|██████████| 8/8 [01:16<00:00,  9.58s/it]\n"
     ]
    },
    {
     "name": "stdout",
     "output_type": "stream",
     "text": [
      "Taking the mean across 8 bands\n",
      "Z-scoring signal\n",
      "Creating RawArray with float64 data, n_channels=91, n_times=202854\n",
      "    Range : 0 ... 202853 =      0.000 ...   396.197 secs\n",
      "Ready.\n",
      "Writing /home/jovyan/aws_ds003688/derivatives/HighGamma/sub-27_ses-iemu_task-film_acq-clinical_run-1_HighGamma_raw.fif\n",
      "Closing /home/jovyan/aws_ds003688/derivatives/HighGamma/sub-27_ses-iemu_task-film_acq-clinical_run-1_HighGamma_raw.fif\n",
      "[done]\n",
      "Extracting parameters from /home/jovyan/aws_ds003688/sub-27/ses-iemu/ieeg/sub-27_ses-iemu_task-film_acq-clinical_run-1_ieeg.vhdr...\n",
      "Setting channel info structure...\n",
      "Reading events from /home/jovyan/aws_ds003688/sub-27/ses-iemu/ieeg/sub-27_ses-iemu_task-film_run-1_events.tsv.\n",
      "Reading channel info from /home/jovyan/aws_ds003688/sub-27/ses-iemu/ieeg/sub-27_ses-iemu_task-film_acq-clinical_run-1_channels.tsv.\n",
      "Reading electrode coords from /home/jovyan/aws_ds003688/sub-27/ses-iemu/ieeg/sub-27_ses-iemu_acq-clinical_electrodes.tsv.\n",
      "Extracting parameters from /home/jovyan/aws_ds003688/sub-27/ses-iemu/ieeg/sub-27_ses-iemu_task-film_acq-clinical_run-1_ieeg.vhdr...\n",
      "Setting channel info structure...\n",
      "Reading events from /home/jovyan/aws_ds003688/sub-27/ses-iemu/ieeg/sub-27_ses-iemu_task-film_run-1_events.tsv.\n",
      "Reading channel info from /home/jovyan/aws_ds003688/sub-27/ses-iemu/ieeg/sub-27_ses-iemu_task-film_acq-clinical_run-1_channels.tsv.\n",
      "Reading electrode coords from /home/jovyan/aws_ds003688/sub-27/ses-iemu/ieeg/sub-27_ses-iemu_acq-clinical_electrodes.tsv.\n",
      "Reading 0 ... 202853  =      0.000 ...   396.197 secs...\n"
     ]
    },
    {
     "name": "stderr",
     "output_type": "stream",
     "text": [
      "/home/jovyan/ieegmovie/codes/preprocessing.py:23: RuntimeWarning: The unit for channel(s) MKR1+, MKR2+ has changed from V to NA.\n",
      "  raw = read_raw_bids(bids_path, verbose=True)\n",
      "/home/jovyan/ieegmovie/codes/preprocessing.py:23: RuntimeWarning: participants.tsv file not found for /home/jovyan/aws_ds003688/sub-27/ses-iemu/ieeg/sub-27_ses-iemu_task-film_acq-clinical_run-1_ieeg.vhdr\n",
      "  raw = read_raw_bids(bids_path, verbose=True)\n",
      "/home/jovyan/ieegmovie/codes/preprocessing.py:25: RuntimeWarning: The unit for channel(s) MKR1+, MKR2+ has changed from V to NA.\n",
      "  raw = read_raw_bids(bids_path, verbose=True)\n",
      "/home/jovyan/ieegmovie/codes/preprocessing.py:25: RuntimeWarning: participants.tsv file not found for /home/jovyan/aws_ds003688/sub-27/ses-iemu/ieeg/sub-27_ses-iemu_task-film_acq-clinical_run-1_ieeg.vhdr\n",
      "  raw = read_raw_bids(bids_path, verbose=True)\n"
     ]
    },
    {
     "name": "stdout",
     "output_type": "stream",
     "text": [
      "Doing notch filter\n",
      "Setting up band-stop filter\n",
      "\n",
      "FIR filter parameters\n",
      "---------------------\n",
      "Designing a one-pass, zero-phase, non-causal bandstop filter:\n",
      "- Windowed time-domain design (firwin) method\n",
      "- Hamming window with 0.0194 passband ripple and 53 dB stopband attenuation\n",
      "- Lower transition bandwidth: 0.50 Hz\n",
      "- Upper transition bandwidth: 0.50 Hz\n",
      "- Filter length: 3381 samples (6.604 sec)\n",
      "\n",
      "Doing CAR on\n",
      "average\n",
      "ECoG channel type selected for re-referencing\n",
      "Applying average reference.\n",
      "Applying a custom ('ECoG',) reference.\n",
      "Getting frequency bands for Hilbert transform\n",
      "Filtering data in theta band from 4 to 8 Hz\n",
      "Note that this will *not* use the analytic amplitude like high gamma\n",
      "Filtering raw data in 1 contiguous segment\n",
      "Setting up band-pass filter from 4 - 8 Hz\n",
      "\n",
      "FIR filter parameters\n",
      "---------------------\n",
      "Designing a one-pass, zero-phase, non-causal bandpass filter:\n",
      "- Windowed time-domain design (firwin) method\n",
      "- Hamming window with 0.0194 passband ripple and 53 dB stopband attenuation\n",
      "- Lower passband edge: 4.00\n",
      "- Lower transition bandwidth: 2.00 Hz (-6 dB cutoff frequency: 3.00 Hz)\n",
      "- Upper passband edge: 8.00 Hz\n",
      "- Upper transition bandwidth: 2.00 Hz (-6 dB cutoff frequency: 9.00 Hz)\n",
      "- Filter length: 845 samples (1.650 sec)\n",
      "\n",
      "Writing /home/jovyan/aws_ds003688/derivatives/theta/sub-27_ses-iemu_task-film_acq-clinical_run-1_theta_raw.fif\n",
      "Closing /home/jovyan/aws_ds003688/derivatives/theta/sub-27_ses-iemu_task-film_acq-clinical_run-1_theta_raw.fif\n",
      "[done]\n",
      "Extracting parameters from /home/jovyan/aws_ds003688/sub-27/ses-iemu/ieeg/sub-27_ses-iemu_task-film_acq-clinical_run-1_ieeg.vhdr...\n",
      "Setting channel info structure...\n",
      "Reading events from /home/jovyan/aws_ds003688/sub-27/ses-iemu/ieeg/sub-27_ses-iemu_task-film_run-1_events.tsv.\n",
      "Reading channel info from /home/jovyan/aws_ds003688/sub-27/ses-iemu/ieeg/sub-27_ses-iemu_task-film_acq-clinical_run-1_channels.tsv.\n",
      "Reading electrode coords from /home/jovyan/aws_ds003688/sub-27/ses-iemu/ieeg/sub-27_ses-iemu_acq-clinical_electrodes.tsv.\n",
      "Extracting parameters from /home/jovyan/aws_ds003688/sub-27/ses-iemu/ieeg/sub-27_ses-iemu_task-film_acq-clinical_run-1_ieeg.vhdr...\n",
      "Setting channel info structure...\n",
      "Reading events from /home/jovyan/aws_ds003688/sub-27/ses-iemu/ieeg/sub-27_ses-iemu_task-film_run-1_events.tsv.\n",
      "Reading channel info from /home/jovyan/aws_ds003688/sub-27/ses-iemu/ieeg/sub-27_ses-iemu_task-film_acq-clinical_run-1_channels.tsv.\n",
      "Reading electrode coords from /home/jovyan/aws_ds003688/sub-27/ses-iemu/ieeg/sub-27_ses-iemu_acq-clinical_electrodes.tsv.\n",
      "Reading 0 ... 202853  =      0.000 ...   396.197 secs...\n"
     ]
    },
    {
     "name": "stderr",
     "output_type": "stream",
     "text": [
      "/home/jovyan/ieegmovie/codes/preprocessing.py:23: RuntimeWarning: The unit for channel(s) MKR1+, MKR2+ has changed from V to NA.\n",
      "  raw = read_raw_bids(bids_path, verbose=True)\n",
      "/home/jovyan/ieegmovie/codes/preprocessing.py:23: RuntimeWarning: participants.tsv file not found for /home/jovyan/aws_ds003688/sub-27/ses-iemu/ieeg/sub-27_ses-iemu_task-film_acq-clinical_run-1_ieeg.vhdr\n",
      "  raw = read_raw_bids(bids_path, verbose=True)\n",
      "/home/jovyan/ieegmovie/codes/preprocessing.py:25: RuntimeWarning: The unit for channel(s) MKR1+, MKR2+ has changed from V to NA.\n",
      "  raw = read_raw_bids(bids_path, verbose=True)\n",
      "/home/jovyan/ieegmovie/codes/preprocessing.py:25: RuntimeWarning: participants.tsv file not found for /home/jovyan/aws_ds003688/sub-27/ses-iemu/ieeg/sub-27_ses-iemu_task-film_acq-clinical_run-1_ieeg.vhdr\n",
      "  raw = read_raw_bids(bids_path, verbose=True)\n"
     ]
    },
    {
     "name": "stdout",
     "output_type": "stream",
     "text": [
      "Doing notch filter\n",
      "Setting up band-stop filter\n",
      "\n",
      "FIR filter parameters\n",
      "---------------------\n",
      "Designing a one-pass, zero-phase, non-causal bandstop filter:\n",
      "- Windowed time-domain design (firwin) method\n",
      "- Hamming window with 0.0194 passband ripple and 53 dB stopband attenuation\n",
      "- Lower transition bandwidth: 0.50 Hz\n",
      "- Upper transition bandwidth: 0.50 Hz\n",
      "- Filter length: 3381 samples (6.604 sec)\n",
      "\n",
      "Doing CAR on\n",
      "average\n",
      "ECoG channel type selected for re-referencing\n",
      "Applying average reference.\n",
      "Applying a custom ('ECoG',) reference.\n",
      "Getting frequency bands for Hilbert transform\n",
      "Filtering data in alpha band from 8 to 15 Hz\n",
      "Note that this will *not* use the analytic amplitude like high gamma\n",
      "Filtering raw data in 1 contiguous segment\n",
      "Setting up band-pass filter from 8 - 15 Hz\n",
      "\n",
      "FIR filter parameters\n",
      "---------------------\n",
      "Designing a one-pass, zero-phase, non-causal bandpass filter:\n",
      "- Windowed time-domain design (firwin) method\n",
      "- Hamming window with 0.0194 passband ripple and 53 dB stopband attenuation\n",
      "- Lower passband edge: 8.00\n",
      "- Lower transition bandwidth: 2.00 Hz (-6 dB cutoff frequency: 7.00 Hz)\n",
      "- Upper passband edge: 15.00 Hz\n",
      "- Upper transition bandwidth: 3.75 Hz (-6 dB cutoff frequency: 16.88 Hz)\n",
      "- Filter length: 845 samples (1.650 sec)\n",
      "\n",
      "Writing /home/jovyan/aws_ds003688/derivatives/alpha/sub-27_ses-iemu_task-film_acq-clinical_run-1_alpha_raw.fif\n",
      "Closing /home/jovyan/aws_ds003688/derivatives/alpha/sub-27_ses-iemu_task-film_acq-clinical_run-1_alpha_raw.fif\n",
      "[done]\n",
      "Extracting parameters from /home/jovyan/aws_ds003688/sub-41/ses-iemu/ieeg/sub-41_ses-iemu_task-film_acq-clinical_run-1_ieeg.vhdr...\n",
      "Setting channel info structure...\n",
      "Reading events from /home/jovyan/aws_ds003688/sub-41/ses-iemu/ieeg/sub-41_ses-iemu_task-film_run-1_events.tsv.\n",
      "Reading channel info from /home/jovyan/aws_ds003688/sub-41/ses-iemu/ieeg/sub-41_ses-iemu_task-film_acq-clinical_run-1_channels.tsv.\n",
      "Reading electrode coords from /home/jovyan/aws_ds003688/sub-41/ses-iemu/ieeg/sub-41_ses-iemu_acq-clinical_electrodes.tsv.\n",
      "Extracting parameters from /home/jovyan/aws_ds003688/sub-41/ses-iemu/ieeg/sub-41_ses-iemu_task-film_acq-clinical_run-1_ieeg.vhdr...\n",
      "Setting channel info structure...\n",
      "Reading events from /home/jovyan/aws_ds003688/sub-41/ses-iemu/ieeg/sub-41_ses-iemu_task-film_run-1_events.tsv.\n",
      "Reading channel info from /home/jovyan/aws_ds003688/sub-41/ses-iemu/ieeg/sub-41_ses-iemu_task-film_acq-clinical_run-1_channels.tsv.\n",
      "Reading electrode coords from /home/jovyan/aws_ds003688/sub-41/ses-iemu/ieeg/sub-41_ses-iemu_acq-clinical_electrodes.tsv.\n",
      "Reading 0 ... 200191  =      0.000 ...   390.998 secs...\n"
     ]
    },
    {
     "name": "stderr",
     "output_type": "stream",
     "text": [
      "/home/jovyan/ieegmovie/codes/preprocessing.py:23: RuntimeWarning: participants.tsv file not found for /home/jovyan/aws_ds003688/sub-41/ses-iemu/ieeg/sub-41_ses-iemu_task-film_acq-clinical_run-1_ieeg.vhdr\n",
      "  raw = read_raw_bids(bids_path, verbose=True)\n",
      "/home/jovyan/ieegmovie/codes/preprocessing.py:25: RuntimeWarning: participants.tsv file not found for /home/jovyan/aws_ds003688/sub-41/ses-iemu/ieeg/sub-41_ses-iemu_task-film_acq-clinical_run-1_ieeg.vhdr\n",
      "  raw = read_raw_bids(bids_path, verbose=True)\n"
     ]
    },
    {
     "name": "stdout",
     "output_type": "stream",
     "text": [
      "Setting up band-stop filter\n",
      "\n",
      "FIR filter parameters\n",
      "---------------------\n",
      "Designing a one-pass, zero-phase, non-causal bandstop filter:\n",
      "- Windowed time-domain design (firwin) method\n",
      "- Hamming window with 0.0194 passband ripple and 53 dB stopband attenuation\n",
      "- Lower transition bandwidth: 0.50 Hz\n",
      "- Upper transition bandwidth: 0.50 Hz\n",
      "- Filter length: 3381 samples (6.604 sec)\n",
      "\n",
      "ECoG channel type selected for re-referencing\n",
      "Applying average reference.\n",
      "Applying a custom ('ECoG',) reference.\n",
      "Filtering raw data in 1 contiguous segment\n",
      "Setting up high-pass filter at 0.1 Hz\n",
      "\n",
      "FIR filter parameters\n",
      "---------------------\n",
      "Designing a one-pass, zero-phase, non-causal highpass filter:\n",
      "- Windowed time-domain design (firwin) method\n",
      "- Hamming window with 0.0194 passband ripple and 53 dB stopband attenuation\n",
      "- Lower passband edge: 0.10\n",
      "- Lower transition bandwidth: 0.10 Hz (-6 dB cutoff frequency: 0.05 Hz)\n",
      "- Filter length: 16897 samples (33.002 sec)\n",
      "\n",
      "Writing /home/jovyan/aws_ds003688/derivatives/CAR/sub-41_ses-iemu_task-film_acq-clinical_run-1_CAR_raw.fif\n",
      "Closing /home/jovyan/aws_ds003688/derivatives/CAR/sub-41_ses-iemu_task-film_acq-clinical_run-1_CAR_raw.fif\n",
      "[done]\n",
      "Extracting parameters from /home/jovyan/aws_ds003688/sub-41/ses-iemu/ieeg/sub-41_ses-iemu_task-film_acq-clinical_run-1_ieeg.vhdr...\n",
      "Setting channel info structure...\n",
      "Reading events from /home/jovyan/aws_ds003688/sub-41/ses-iemu/ieeg/sub-41_ses-iemu_task-film_run-1_events.tsv.\n",
      "Reading channel info from /home/jovyan/aws_ds003688/sub-41/ses-iemu/ieeg/sub-41_ses-iemu_task-film_acq-clinical_run-1_channels.tsv.\n",
      "Reading electrode coords from /home/jovyan/aws_ds003688/sub-41/ses-iemu/ieeg/sub-41_ses-iemu_acq-clinical_electrodes.tsv.\n",
      "Extracting parameters from /home/jovyan/aws_ds003688/sub-41/ses-iemu/ieeg/sub-41_ses-iemu_task-film_acq-clinical_run-1_ieeg.vhdr...\n",
      "Setting channel info structure...\n",
      "Reading events from /home/jovyan/aws_ds003688/sub-41/ses-iemu/ieeg/sub-41_ses-iemu_task-film_run-1_events.tsv.\n",
      "Reading channel info from /home/jovyan/aws_ds003688/sub-41/ses-iemu/ieeg/sub-41_ses-iemu_task-film_acq-clinical_run-1_channels.tsv.\n",
      "Reading electrode coords from /home/jovyan/aws_ds003688/sub-41/ses-iemu/ieeg/sub-41_ses-iemu_acq-clinical_electrodes.tsv.\n",
      "Reading 0 ... 200191  =      0.000 ...   390.998 secs...\n"
     ]
    },
    {
     "name": "stderr",
     "output_type": "stream",
     "text": [
      "/home/jovyan/ieegmovie/codes/preprocessing.py:23: RuntimeWarning: participants.tsv file not found for /home/jovyan/aws_ds003688/sub-41/ses-iemu/ieeg/sub-41_ses-iemu_task-film_acq-clinical_run-1_ieeg.vhdr\n",
      "  raw = read_raw_bids(bids_path, verbose=True)\n",
      "/home/jovyan/ieegmovie/codes/preprocessing.py:25: RuntimeWarning: participants.tsv file not found for /home/jovyan/aws_ds003688/sub-41/ses-iemu/ieeg/sub-41_ses-iemu_task-film_acq-clinical_run-1_ieeg.vhdr\n",
      "  raw = read_raw_bids(bids_path, verbose=True)\n"
     ]
    },
    {
     "name": "stdout",
     "output_type": "stream",
     "text": [
      "Doing notch filter\n",
      "Setting up band-stop filter\n",
      "\n",
      "FIR filter parameters\n",
      "---------------------\n",
      "Designing a one-pass, zero-phase, non-causal bandstop filter:\n",
      "- Windowed time-domain design (firwin) method\n",
      "- Hamming window with 0.0194 passband ripple and 53 dB stopband attenuation\n",
      "- Lower transition bandwidth: 0.50 Hz\n",
      "- Upper transition bandwidth: 0.50 Hz\n",
      "- Filter length: 3381 samples (6.604 sec)\n",
      "\n",
      "Doing CAR on\n",
      "average\n",
      "ECoG channel type selected for re-referencing\n",
      "Applying average reference.\n",
      "Applying a custom ('ECoG',) reference.\n",
      "Getting frequency bands for Hilbert transform\n",
      "Getting HighGamma band data\n",
      "Getting the raw data array\n"
     ]
    },
    {
     "name": "stderr",
     "output_type": "stream",
     "text": [
      "applying Hilbert transform...:   0%|          | 0/8 [00:00<?, ?it/s]/home/jovyan/ieegmovie/codes/ecog_preproc_utils.py:159: ComplexWarning: Casting complex values to real discards the imaginary part\n",
      "  raw.info['sfreq'], ct, sd)\n"
     ]
    },
    {
     "name": "stdout",
     "output_type": "stream",
     "text": [
      "Taking log transform of high gamma\n"
     ]
    },
    {
     "name": "stderr",
     "output_type": "stream",
     "text": [
      "applying Hilbert transform...:  12%|█▎        | 1/8 [00:03<00:25,  3.65s/it]"
     ]
    },
    {
     "name": "stdout",
     "output_type": "stream",
     "text": [
      "Taking log transform of high gamma\n"
     ]
    },
    {
     "name": "stderr",
     "output_type": "stream",
     "text": [
      "applying Hilbert transform...:  25%|██▌       | 2/8 [00:07<00:21,  3.62s/it]"
     ]
    },
    {
     "name": "stdout",
     "output_type": "stream",
     "text": [
      "Taking log transform of high gamma\n"
     ]
    },
    {
     "name": "stderr",
     "output_type": "stream",
     "text": [
      "applying Hilbert transform...:  38%|███▊      | 3/8 [00:10<00:18,  3.60s/it]"
     ]
    },
    {
     "name": "stdout",
     "output_type": "stream",
     "text": [
      "Taking log transform of high gamma\n"
     ]
    },
    {
     "name": "stderr",
     "output_type": "stream",
     "text": [
      "applying Hilbert transform...:  50%|█████     | 4/8 [00:14<00:14,  3.62s/it]"
     ]
    },
    {
     "name": "stdout",
     "output_type": "stream",
     "text": [
      "Taking log transform of high gamma\n"
     ]
    },
    {
     "name": "stderr",
     "output_type": "stream",
     "text": [
      "applying Hilbert transform...:  62%|██████▎   | 5/8 [00:17<00:10,  3.51s/it]"
     ]
    },
    {
     "name": "stdout",
     "output_type": "stream",
     "text": [
      "Taking log transform of high gamma\n"
     ]
    },
    {
     "name": "stderr",
     "output_type": "stream",
     "text": [
      "applying Hilbert transform...:  75%|███████▌  | 6/8 [00:21<00:06,  3.46s/it]"
     ]
    },
    {
     "name": "stdout",
     "output_type": "stream",
     "text": [
      "Taking log transform of high gamma\n"
     ]
    },
    {
     "name": "stderr",
     "output_type": "stream",
     "text": [
      "applying Hilbert transform...:  88%|████████▊ | 7/8 [00:24<00:03,  3.44s/it]"
     ]
    },
    {
     "name": "stdout",
     "output_type": "stream",
     "text": [
      "Taking log transform of high gamma\n"
     ]
    },
    {
     "name": "stderr",
     "output_type": "stream",
     "text": [
      "applying Hilbert transform...: 100%|██████████| 8/8 [00:27<00:00,  3.48s/it]\n"
     ]
    },
    {
     "name": "stdout",
     "output_type": "stream",
     "text": [
      "Taking the mean across 8 bands\n",
      "Z-scoring signal\n",
      "Creating RawArray with float64 data, n_channels=79, n_times=200192\n",
      "    Range : 0 ... 200191 =      0.000 ...   390.998 secs\n",
      "Ready.\n",
      "Writing /home/jovyan/aws_ds003688/derivatives/HighGamma/sub-41_ses-iemu_task-film_acq-clinical_run-1_HighGamma_raw.fif\n",
      "Closing /home/jovyan/aws_ds003688/derivatives/HighGamma/sub-41_ses-iemu_task-film_acq-clinical_run-1_HighGamma_raw.fif\n",
      "[done]\n",
      "Extracting parameters from /home/jovyan/aws_ds003688/sub-41/ses-iemu/ieeg/sub-41_ses-iemu_task-film_acq-clinical_run-1_ieeg.vhdr...\n",
      "Setting channel info structure...\n",
      "Reading events from /home/jovyan/aws_ds003688/sub-41/ses-iemu/ieeg/sub-41_ses-iemu_task-film_run-1_events.tsv.\n",
      "Reading channel info from /home/jovyan/aws_ds003688/sub-41/ses-iemu/ieeg/sub-41_ses-iemu_task-film_acq-clinical_run-1_channels.tsv.\n",
      "Reading electrode coords from /home/jovyan/aws_ds003688/sub-41/ses-iemu/ieeg/sub-41_ses-iemu_acq-clinical_electrodes.tsv.\n",
      "Extracting parameters from /home/jovyan/aws_ds003688/sub-41/ses-iemu/ieeg/sub-41_ses-iemu_task-film_acq-clinical_run-1_ieeg.vhdr...\n",
      "Setting channel info structure...\n",
      "Reading events from /home/jovyan/aws_ds003688/sub-41/ses-iemu/ieeg/sub-41_ses-iemu_task-film_run-1_events.tsv.\n",
      "Reading channel info from /home/jovyan/aws_ds003688/sub-41/ses-iemu/ieeg/sub-41_ses-iemu_task-film_acq-clinical_run-1_channels.tsv.\n",
      "Reading electrode coords from /home/jovyan/aws_ds003688/sub-41/ses-iemu/ieeg/sub-41_ses-iemu_acq-clinical_electrodes.tsv.\n",
      "Reading 0 ... 200191  =      0.000 ...   390.998 secs...\n"
     ]
    },
    {
     "name": "stderr",
     "output_type": "stream",
     "text": [
      "/home/jovyan/ieegmovie/codes/preprocessing.py:23: RuntimeWarning: participants.tsv file not found for /home/jovyan/aws_ds003688/sub-41/ses-iemu/ieeg/sub-41_ses-iemu_task-film_acq-clinical_run-1_ieeg.vhdr\n",
      "  raw = read_raw_bids(bids_path, verbose=True)\n",
      "/home/jovyan/ieegmovie/codes/preprocessing.py:25: RuntimeWarning: participants.tsv file not found for /home/jovyan/aws_ds003688/sub-41/ses-iemu/ieeg/sub-41_ses-iemu_task-film_acq-clinical_run-1_ieeg.vhdr\n",
      "  raw = read_raw_bids(bids_path, verbose=True)\n"
     ]
    },
    {
     "name": "stdout",
     "output_type": "stream",
     "text": [
      "Doing notch filter\n",
      "Setting up band-stop filter\n",
      "\n",
      "FIR filter parameters\n",
      "---------------------\n",
      "Designing a one-pass, zero-phase, non-causal bandstop filter:\n",
      "- Windowed time-domain design (firwin) method\n",
      "- Hamming window with 0.0194 passband ripple and 53 dB stopband attenuation\n",
      "- Lower transition bandwidth: 0.50 Hz\n",
      "- Upper transition bandwidth: 0.50 Hz\n",
      "- Filter length: 3381 samples (6.604 sec)\n",
      "\n",
      "Doing CAR on\n",
      "average\n",
      "ECoG channel type selected for re-referencing\n",
      "Applying average reference.\n",
      "Applying a custom ('ECoG',) reference.\n",
      "Getting frequency bands for Hilbert transform\n",
      "Filtering data in theta band from 4 to 8 Hz\n",
      "Note that this will *not* use the analytic amplitude like high gamma\n",
      "Filtering raw data in 1 contiguous segment\n",
      "Setting up band-pass filter from 4 - 8 Hz\n",
      "\n",
      "FIR filter parameters\n",
      "---------------------\n",
      "Designing a one-pass, zero-phase, non-causal bandpass filter:\n",
      "- Windowed time-domain design (firwin) method\n",
      "- Hamming window with 0.0194 passband ripple and 53 dB stopband attenuation\n",
      "- Lower passband edge: 4.00\n",
      "- Lower transition bandwidth: 2.00 Hz (-6 dB cutoff frequency: 3.00 Hz)\n",
      "- Upper passband edge: 8.00 Hz\n",
      "- Upper transition bandwidth: 2.00 Hz (-6 dB cutoff frequency: 9.00 Hz)\n",
      "- Filter length: 845 samples (1.650 sec)\n",
      "\n",
      "Writing /home/jovyan/aws_ds003688/derivatives/theta/sub-41_ses-iemu_task-film_acq-clinical_run-1_theta_raw.fif\n",
      "Closing /home/jovyan/aws_ds003688/derivatives/theta/sub-41_ses-iemu_task-film_acq-clinical_run-1_theta_raw.fif\n",
      "[done]\n",
      "Extracting parameters from /home/jovyan/aws_ds003688/sub-41/ses-iemu/ieeg/sub-41_ses-iemu_task-film_acq-clinical_run-1_ieeg.vhdr...\n",
      "Setting channel info structure...\n",
      "Reading events from /home/jovyan/aws_ds003688/sub-41/ses-iemu/ieeg/sub-41_ses-iemu_task-film_run-1_events.tsv.\n",
      "Reading channel info from /home/jovyan/aws_ds003688/sub-41/ses-iemu/ieeg/sub-41_ses-iemu_task-film_acq-clinical_run-1_channels.tsv.\n",
      "Reading electrode coords from /home/jovyan/aws_ds003688/sub-41/ses-iemu/ieeg/sub-41_ses-iemu_acq-clinical_electrodes.tsv.\n",
      "Extracting parameters from /home/jovyan/aws_ds003688/sub-41/ses-iemu/ieeg/sub-41_ses-iemu_task-film_acq-clinical_run-1_ieeg.vhdr...\n",
      "Setting channel info structure...\n",
      "Reading events from /home/jovyan/aws_ds003688/sub-41/ses-iemu/ieeg/sub-41_ses-iemu_task-film_run-1_events.tsv.\n",
      "Reading channel info from /home/jovyan/aws_ds003688/sub-41/ses-iemu/ieeg/sub-41_ses-iemu_task-film_acq-clinical_run-1_channels.tsv.\n",
      "Reading electrode coords from /home/jovyan/aws_ds003688/sub-41/ses-iemu/ieeg/sub-41_ses-iemu_acq-clinical_electrodes.tsv.\n",
      "Reading 0 ... 200191  =      0.000 ...   390.998 secs...\n"
     ]
    },
    {
     "name": "stderr",
     "output_type": "stream",
     "text": [
      "/home/jovyan/ieegmovie/codes/preprocessing.py:23: RuntimeWarning: participants.tsv file not found for /home/jovyan/aws_ds003688/sub-41/ses-iemu/ieeg/sub-41_ses-iemu_task-film_acq-clinical_run-1_ieeg.vhdr\n",
      "  raw = read_raw_bids(bids_path, verbose=True)\n",
      "/home/jovyan/ieegmovie/codes/preprocessing.py:25: RuntimeWarning: participants.tsv file not found for /home/jovyan/aws_ds003688/sub-41/ses-iemu/ieeg/sub-41_ses-iemu_task-film_acq-clinical_run-1_ieeg.vhdr\n",
      "  raw = read_raw_bids(bids_path, verbose=True)\n"
     ]
    },
    {
     "name": "stdout",
     "output_type": "stream",
     "text": [
      "Doing notch filter\n",
      "Setting up band-stop filter\n",
      "\n",
      "FIR filter parameters\n",
      "---------------------\n",
      "Designing a one-pass, zero-phase, non-causal bandstop filter:\n",
      "- Windowed time-domain design (firwin) method\n",
      "- Hamming window with 0.0194 passband ripple and 53 dB stopband attenuation\n",
      "- Lower transition bandwidth: 0.50 Hz\n",
      "- Upper transition bandwidth: 0.50 Hz\n",
      "- Filter length: 3381 samples (6.604 sec)\n",
      "\n",
      "Doing CAR on\n",
      "average\n",
      "ECoG channel type selected for re-referencing\n",
      "Applying average reference.\n",
      "Applying a custom ('ECoG',) reference.\n",
      "Getting frequency bands for Hilbert transform\n",
      "Filtering data in alpha band from 8 to 15 Hz\n",
      "Note that this will *not* use the analytic amplitude like high gamma\n",
      "Filtering raw data in 1 contiguous segment\n",
      "Setting up band-pass filter from 8 - 15 Hz\n",
      "\n",
      "FIR filter parameters\n",
      "---------------------\n",
      "Designing a one-pass, zero-phase, non-causal bandpass filter:\n",
      "- Windowed time-domain design (firwin) method\n",
      "- Hamming window with 0.0194 passband ripple and 53 dB stopband attenuation\n",
      "- Lower passband edge: 8.00\n",
      "- Lower transition bandwidth: 2.00 Hz (-6 dB cutoff frequency: 7.00 Hz)\n",
      "- Upper passband edge: 15.00 Hz\n",
      "- Upper transition bandwidth: 3.75 Hz (-6 dB cutoff frequency: 16.88 Hz)\n",
      "- Filter length: 845 samples (1.650 sec)\n",
      "\n",
      "Writing /home/jovyan/aws_ds003688/derivatives/alpha/sub-41_ses-iemu_task-film_acq-clinical_run-1_alpha_raw.fif\n",
      "Closing /home/jovyan/aws_ds003688/derivatives/alpha/sub-41_ses-iemu_task-film_acq-clinical_run-1_alpha_raw.fif\n",
      "[done]\n",
      "Extracting parameters from /home/jovyan/aws_ds003688/sub-45/ses-iemu/ieeg/sub-45_ses-iemu_task-film_acq-clinical_run-1_ieeg.vhdr...\n",
      "Setting channel info structure...\n",
      "Reading events from /home/jovyan/aws_ds003688/sub-45/ses-iemu/ieeg/sub-45_ses-iemu_task-film_run-1_events.tsv.\n",
      "Reading channel info from /home/jovyan/aws_ds003688/sub-45/ses-iemu/ieeg/sub-45_ses-iemu_task-film_acq-clinical_run-1_channels.tsv.\n",
      "Reading electrode coords from /home/jovyan/aws_ds003688/sub-45/ses-iemu/ieeg/sub-45_ses-iemu_acq-clinical_electrodes.tsv.\n",
      "Extracting parameters from /home/jovyan/aws_ds003688/sub-45/ses-iemu/ieeg/sub-45_ses-iemu_task-film_acq-clinical_run-1_ieeg.vhdr...\n",
      "Setting channel info structure...\n",
      "Reading events from /home/jovyan/aws_ds003688/sub-45/ses-iemu/ieeg/sub-45_ses-iemu_task-film_run-1_events.tsv.\n",
      "Reading channel info from /home/jovyan/aws_ds003688/sub-45/ses-iemu/ieeg/sub-45_ses-iemu_task-film_acq-clinical_run-1_channels.tsv.\n",
      "Reading electrode coords from /home/jovyan/aws_ds003688/sub-45/ses-iemu/ieeg/sub-45_ses-iemu_acq-clinical_electrodes.tsv.\n",
      "Reading 0 ... 230141  =      0.000 ...   449.494 secs...\n"
     ]
    },
    {
     "name": "stderr",
     "output_type": "stream",
     "text": [
      "/home/jovyan/ieegmovie/codes/preprocessing.py:23: RuntimeWarning: The unit for channel(s) MKR1+, MKR2+ has changed from V to NA.\n",
      "  raw = read_raw_bids(bids_path, verbose=True)\n",
      "/home/jovyan/ieegmovie/codes/preprocessing.py:23: RuntimeWarning: participants.tsv file not found for /home/jovyan/aws_ds003688/sub-45/ses-iemu/ieeg/sub-45_ses-iemu_task-film_acq-clinical_run-1_ieeg.vhdr\n",
      "  raw = read_raw_bids(bids_path, verbose=True)\n",
      "/home/jovyan/ieegmovie/codes/preprocessing.py:25: RuntimeWarning: The unit for channel(s) MKR1+, MKR2+ has changed from V to NA.\n",
      "  raw = read_raw_bids(bids_path, verbose=True)\n",
      "/home/jovyan/ieegmovie/codes/preprocessing.py:25: RuntimeWarning: participants.tsv file not found for /home/jovyan/aws_ds003688/sub-45/ses-iemu/ieeg/sub-45_ses-iemu_task-film_acq-clinical_run-1_ieeg.vhdr\n",
      "  raw = read_raw_bids(bids_path, verbose=True)\n"
     ]
    },
    {
     "name": "stdout",
     "output_type": "stream",
     "text": [
      "Setting up band-stop filter\n",
      "\n",
      "FIR filter parameters\n",
      "---------------------\n",
      "Designing a one-pass, zero-phase, non-causal bandstop filter:\n",
      "- Windowed time-domain design (firwin) method\n",
      "- Hamming window with 0.0194 passband ripple and 53 dB stopband attenuation\n",
      "- Lower transition bandwidth: 0.50 Hz\n",
      "- Upper transition bandwidth: 0.50 Hz\n",
      "- Filter length: 3381 samples (6.604 sec)\n",
      "\n",
      "ECoG channel type selected for re-referencing\n",
      "Applying average reference.\n",
      "Applying a custom ('ECoG',) reference.\n",
      "Filtering raw data in 1 contiguous segment\n",
      "Setting up high-pass filter at 0.1 Hz\n",
      "\n",
      "FIR filter parameters\n",
      "---------------------\n",
      "Designing a one-pass, zero-phase, non-causal highpass filter:\n",
      "- Windowed time-domain design (firwin) method\n",
      "- Hamming window with 0.0194 passband ripple and 53 dB stopband attenuation\n",
      "- Lower passband edge: 0.10\n",
      "- Lower transition bandwidth: 0.10 Hz (-6 dB cutoff frequency: 0.05 Hz)\n",
      "- Filter length: 16897 samples (33.002 sec)\n",
      "\n",
      "Writing /home/jovyan/aws_ds003688/derivatives/CAR/sub-45_ses-iemu_task-film_acq-clinical_run-1_CAR_raw.fif\n",
      "Closing /home/jovyan/aws_ds003688/derivatives/CAR/sub-45_ses-iemu_task-film_acq-clinical_run-1_CAR_raw.fif\n",
      "[done]\n",
      "Extracting parameters from /home/jovyan/aws_ds003688/sub-45/ses-iemu/ieeg/sub-45_ses-iemu_task-film_acq-clinical_run-1_ieeg.vhdr...\n",
      "Setting channel info structure...\n",
      "Reading events from /home/jovyan/aws_ds003688/sub-45/ses-iemu/ieeg/sub-45_ses-iemu_task-film_run-1_events.tsv.\n",
      "Reading channel info from /home/jovyan/aws_ds003688/sub-45/ses-iemu/ieeg/sub-45_ses-iemu_task-film_acq-clinical_run-1_channels.tsv.\n",
      "Reading electrode coords from /home/jovyan/aws_ds003688/sub-45/ses-iemu/ieeg/sub-45_ses-iemu_acq-clinical_electrodes.tsv.\n",
      "Extracting parameters from /home/jovyan/aws_ds003688/sub-45/ses-iemu/ieeg/sub-45_ses-iemu_task-film_acq-clinical_run-1_ieeg.vhdr...\n",
      "Setting channel info structure...\n",
      "Reading events from /home/jovyan/aws_ds003688/sub-45/ses-iemu/ieeg/sub-45_ses-iemu_task-film_run-1_events.tsv.\n",
      "Reading channel info from /home/jovyan/aws_ds003688/sub-45/ses-iemu/ieeg/sub-45_ses-iemu_task-film_acq-clinical_run-1_channels.tsv.\n",
      "Reading electrode coords from /home/jovyan/aws_ds003688/sub-45/ses-iemu/ieeg/sub-45_ses-iemu_acq-clinical_electrodes.tsv.\n",
      "Reading 0 ... 230141  =      0.000 ...   449.494 secs...\n"
     ]
    },
    {
     "name": "stderr",
     "output_type": "stream",
     "text": [
      "/home/jovyan/ieegmovie/codes/preprocessing.py:23: RuntimeWarning: The unit for channel(s) MKR1+, MKR2+ has changed from V to NA.\n",
      "  raw = read_raw_bids(bids_path, verbose=True)\n",
      "/home/jovyan/ieegmovie/codes/preprocessing.py:23: RuntimeWarning: participants.tsv file not found for /home/jovyan/aws_ds003688/sub-45/ses-iemu/ieeg/sub-45_ses-iemu_task-film_acq-clinical_run-1_ieeg.vhdr\n",
      "  raw = read_raw_bids(bids_path, verbose=True)\n",
      "/home/jovyan/ieegmovie/codes/preprocessing.py:25: RuntimeWarning: The unit for channel(s) MKR1+, MKR2+ has changed from V to NA.\n",
      "  raw = read_raw_bids(bids_path, verbose=True)\n",
      "/home/jovyan/ieegmovie/codes/preprocessing.py:25: RuntimeWarning: participants.tsv file not found for /home/jovyan/aws_ds003688/sub-45/ses-iemu/ieeg/sub-45_ses-iemu_task-film_acq-clinical_run-1_ieeg.vhdr\n",
      "  raw = read_raw_bids(bids_path, verbose=True)\n"
     ]
    },
    {
     "name": "stdout",
     "output_type": "stream",
     "text": [
      "Doing notch filter\n",
      "Setting up band-stop filter\n",
      "\n",
      "FIR filter parameters\n",
      "---------------------\n",
      "Designing a one-pass, zero-phase, non-causal bandstop filter:\n",
      "- Windowed time-domain design (firwin) method\n",
      "- Hamming window with 0.0194 passband ripple and 53 dB stopband attenuation\n",
      "- Lower transition bandwidth: 0.50 Hz\n",
      "- Upper transition bandwidth: 0.50 Hz\n",
      "- Filter length: 3381 samples (6.604 sec)\n",
      "\n",
      "Doing CAR on\n",
      "average\n",
      "ECoG channel type selected for re-referencing\n",
      "Applying average reference.\n",
      "Applying a custom ('ECoG',) reference.\n",
      "Getting frequency bands for Hilbert transform\n",
      "Getting HighGamma band data\n",
      "Getting the raw data array\n"
     ]
    },
    {
     "name": "stderr",
     "output_type": "stream",
     "text": [
      "applying Hilbert transform...:   0%|          | 0/8 [00:00<?, ?it/s]/home/jovyan/ieegmovie/codes/ecog_preproc_utils.py:159: ComplexWarning: Casting complex values to real discards the imaginary part\n",
      "  raw.info['sfreq'], ct, sd)\n"
     ]
    },
    {
     "name": "stdout",
     "output_type": "stream",
     "text": [
      "Taking log transform of high gamma\n"
     ]
    },
    {
     "name": "stderr",
     "output_type": "stream",
     "text": [
      "applying Hilbert transform...:  12%|█▎        | 1/8 [00:06<00:48,  6.86s/it]"
     ]
    },
    {
     "name": "stdout",
     "output_type": "stream",
     "text": [
      "Taking log transform of high gamma\n"
     ]
    },
    {
     "name": "stderr",
     "output_type": "stream",
     "text": [
      "applying Hilbert transform...:  25%|██▌       | 2/8 [00:13<00:40,  6.83s/it]"
     ]
    },
    {
     "name": "stdout",
     "output_type": "stream",
     "text": [
      "Taking log transform of high gamma\n"
     ]
    },
    {
     "name": "stderr",
     "output_type": "stream",
     "text": [
      "applying Hilbert transform...:  38%|███▊      | 3/8 [00:20<00:34,  6.86s/it]"
     ]
    },
    {
     "name": "stdout",
     "output_type": "stream",
     "text": [
      "Taking log transform of high gamma\n"
     ]
    },
    {
     "name": "stderr",
     "output_type": "stream",
     "text": [
      "applying Hilbert transform...:  50%|█████     | 4/8 [00:27<00:27,  6.84s/it]"
     ]
    },
    {
     "name": "stdout",
     "output_type": "stream",
     "text": [
      "Taking log transform of high gamma\n"
     ]
    },
    {
     "name": "stderr",
     "output_type": "stream",
     "text": [
      "applying Hilbert transform...:  62%|██████▎   | 5/8 [00:34<00:20,  6.81s/it]"
     ]
    },
    {
     "name": "stdout",
     "output_type": "stream",
     "text": [
      "Taking log transform of high gamma\n"
     ]
    },
    {
     "name": "stderr",
     "output_type": "stream",
     "text": [
      "applying Hilbert transform...:  75%|███████▌  | 6/8 [00:40<00:13,  6.78s/it]"
     ]
    },
    {
     "name": "stdout",
     "output_type": "stream",
     "text": [
      "Taking log transform of high gamma\n"
     ]
    },
    {
     "name": "stderr",
     "output_type": "stream",
     "text": [
      "applying Hilbert transform...:  88%|████████▊ | 7/8 [00:47<00:06,  6.75s/it]"
     ]
    },
    {
     "name": "stdout",
     "output_type": "stream",
     "text": [
      "Taking log transform of high gamma\n"
     ]
    },
    {
     "name": "stderr",
     "output_type": "stream",
     "text": [
      "applying Hilbert transform...: 100%|██████████| 8/8 [00:54<00:00,  6.78s/it]\n"
     ]
    },
    {
     "name": "stdout",
     "output_type": "stream",
     "text": [
      "Taking the mean across 8 bands\n",
      "Z-scoring signal\n",
      "Creating RawArray with float64 data, n_channels=77, n_times=230142\n",
      "    Range : 0 ... 230141 =      0.000 ...   449.494 secs\n",
      "Ready.\n",
      "Writing /home/jovyan/aws_ds003688/derivatives/HighGamma/sub-45_ses-iemu_task-film_acq-clinical_run-1_HighGamma_raw.fif\n",
      "Closing /home/jovyan/aws_ds003688/derivatives/HighGamma/sub-45_ses-iemu_task-film_acq-clinical_run-1_HighGamma_raw.fif\n",
      "[done]\n",
      "Extracting parameters from /home/jovyan/aws_ds003688/sub-45/ses-iemu/ieeg/sub-45_ses-iemu_task-film_acq-clinical_run-1_ieeg.vhdr...\n",
      "Setting channel info structure...\n",
      "Reading events from /home/jovyan/aws_ds003688/sub-45/ses-iemu/ieeg/sub-45_ses-iemu_task-film_run-1_events.tsv.\n",
      "Reading channel info from /home/jovyan/aws_ds003688/sub-45/ses-iemu/ieeg/sub-45_ses-iemu_task-film_acq-clinical_run-1_channels.tsv.\n",
      "Reading electrode coords from /home/jovyan/aws_ds003688/sub-45/ses-iemu/ieeg/sub-45_ses-iemu_acq-clinical_electrodes.tsv.\n",
      "Extracting parameters from /home/jovyan/aws_ds003688/sub-45/ses-iemu/ieeg/sub-45_ses-iemu_task-film_acq-clinical_run-1_ieeg.vhdr...\n",
      "Setting channel info structure...\n",
      "Reading events from /home/jovyan/aws_ds003688/sub-45/ses-iemu/ieeg/sub-45_ses-iemu_task-film_run-1_events.tsv.\n",
      "Reading channel info from /home/jovyan/aws_ds003688/sub-45/ses-iemu/ieeg/sub-45_ses-iemu_task-film_acq-clinical_run-1_channels.tsv.\n",
      "Reading electrode coords from /home/jovyan/aws_ds003688/sub-45/ses-iemu/ieeg/sub-45_ses-iemu_acq-clinical_electrodes.tsv.\n",
      "Reading 0 ... 230141  =      0.000 ...   449.494 secs...\n"
     ]
    },
    {
     "name": "stderr",
     "output_type": "stream",
     "text": [
      "/home/jovyan/ieegmovie/codes/preprocessing.py:23: RuntimeWarning: The unit for channel(s) MKR1+, MKR2+ has changed from V to NA.\n",
      "  raw = read_raw_bids(bids_path, verbose=True)\n",
      "/home/jovyan/ieegmovie/codes/preprocessing.py:23: RuntimeWarning: participants.tsv file not found for /home/jovyan/aws_ds003688/sub-45/ses-iemu/ieeg/sub-45_ses-iemu_task-film_acq-clinical_run-1_ieeg.vhdr\n",
      "  raw = read_raw_bids(bids_path, verbose=True)\n",
      "/home/jovyan/ieegmovie/codes/preprocessing.py:25: RuntimeWarning: The unit for channel(s) MKR1+, MKR2+ has changed from V to NA.\n",
      "  raw = read_raw_bids(bids_path, verbose=True)\n",
      "/home/jovyan/ieegmovie/codes/preprocessing.py:25: RuntimeWarning: participants.tsv file not found for /home/jovyan/aws_ds003688/sub-45/ses-iemu/ieeg/sub-45_ses-iemu_task-film_acq-clinical_run-1_ieeg.vhdr\n",
      "  raw = read_raw_bids(bids_path, verbose=True)\n"
     ]
    },
    {
     "name": "stdout",
     "output_type": "stream",
     "text": [
      "Doing notch filter\n",
      "Setting up band-stop filter\n",
      "\n",
      "FIR filter parameters\n",
      "---------------------\n",
      "Designing a one-pass, zero-phase, non-causal bandstop filter:\n",
      "- Windowed time-domain design (firwin) method\n",
      "- Hamming window with 0.0194 passband ripple and 53 dB stopband attenuation\n",
      "- Lower transition bandwidth: 0.50 Hz\n",
      "- Upper transition bandwidth: 0.50 Hz\n",
      "- Filter length: 3381 samples (6.604 sec)\n",
      "\n",
      "Doing CAR on\n",
      "average\n",
      "ECoG channel type selected for re-referencing\n",
      "Applying average reference.\n",
      "Applying a custom ('ECoG',) reference.\n",
      "Getting frequency bands for Hilbert transform\n",
      "Filtering data in theta band from 4 to 8 Hz\n",
      "Note that this will *not* use the analytic amplitude like high gamma\n",
      "Filtering raw data in 1 contiguous segment\n",
      "Setting up band-pass filter from 4 - 8 Hz\n",
      "\n",
      "FIR filter parameters\n",
      "---------------------\n",
      "Designing a one-pass, zero-phase, non-causal bandpass filter:\n",
      "- Windowed time-domain design (firwin) method\n",
      "- Hamming window with 0.0194 passband ripple and 53 dB stopband attenuation\n",
      "- Lower passband edge: 4.00\n",
      "- Lower transition bandwidth: 2.00 Hz (-6 dB cutoff frequency: 3.00 Hz)\n",
      "- Upper passband edge: 8.00 Hz\n",
      "- Upper transition bandwidth: 2.00 Hz (-6 dB cutoff frequency: 9.00 Hz)\n",
      "- Filter length: 845 samples (1.650 sec)\n",
      "\n",
      "Writing /home/jovyan/aws_ds003688/derivatives/theta/sub-45_ses-iemu_task-film_acq-clinical_run-1_theta_raw.fif\n",
      "Closing /home/jovyan/aws_ds003688/derivatives/theta/sub-45_ses-iemu_task-film_acq-clinical_run-1_theta_raw.fif\n",
      "[done]\n",
      "Extracting parameters from /home/jovyan/aws_ds003688/sub-45/ses-iemu/ieeg/sub-45_ses-iemu_task-film_acq-clinical_run-1_ieeg.vhdr...\n",
      "Setting channel info structure...\n",
      "Reading events from /home/jovyan/aws_ds003688/sub-45/ses-iemu/ieeg/sub-45_ses-iemu_task-film_run-1_events.tsv.\n",
      "Reading channel info from /home/jovyan/aws_ds003688/sub-45/ses-iemu/ieeg/sub-45_ses-iemu_task-film_acq-clinical_run-1_channels.tsv.\n",
      "Reading electrode coords from /home/jovyan/aws_ds003688/sub-45/ses-iemu/ieeg/sub-45_ses-iemu_acq-clinical_electrodes.tsv.\n",
      "Extracting parameters from /home/jovyan/aws_ds003688/sub-45/ses-iemu/ieeg/sub-45_ses-iemu_task-film_acq-clinical_run-1_ieeg.vhdr...\n",
      "Setting channel info structure...\n",
      "Reading events from /home/jovyan/aws_ds003688/sub-45/ses-iemu/ieeg/sub-45_ses-iemu_task-film_run-1_events.tsv.\n",
      "Reading channel info from /home/jovyan/aws_ds003688/sub-45/ses-iemu/ieeg/sub-45_ses-iemu_task-film_acq-clinical_run-1_channels.tsv.\n",
      "Reading electrode coords from /home/jovyan/aws_ds003688/sub-45/ses-iemu/ieeg/sub-45_ses-iemu_acq-clinical_electrodes.tsv.\n",
      "Reading 0 ... 230141  =      0.000 ...   449.494 secs...\n"
     ]
    },
    {
     "name": "stderr",
     "output_type": "stream",
     "text": [
      "/home/jovyan/ieegmovie/codes/preprocessing.py:23: RuntimeWarning: The unit for channel(s) MKR1+, MKR2+ has changed from V to NA.\n",
      "  raw = read_raw_bids(bids_path, verbose=True)\n",
      "/home/jovyan/ieegmovie/codes/preprocessing.py:23: RuntimeWarning: participants.tsv file not found for /home/jovyan/aws_ds003688/sub-45/ses-iemu/ieeg/sub-45_ses-iemu_task-film_acq-clinical_run-1_ieeg.vhdr\n",
      "  raw = read_raw_bids(bids_path, verbose=True)\n",
      "/home/jovyan/ieegmovie/codes/preprocessing.py:25: RuntimeWarning: The unit for channel(s) MKR1+, MKR2+ has changed from V to NA.\n",
      "  raw = read_raw_bids(bids_path, verbose=True)\n",
      "/home/jovyan/ieegmovie/codes/preprocessing.py:25: RuntimeWarning: participants.tsv file not found for /home/jovyan/aws_ds003688/sub-45/ses-iemu/ieeg/sub-45_ses-iemu_task-film_acq-clinical_run-1_ieeg.vhdr\n",
      "  raw = read_raw_bids(bids_path, verbose=True)\n"
     ]
    },
    {
     "name": "stdout",
     "output_type": "stream",
     "text": [
      "Doing notch filter\n",
      "Setting up band-stop filter\n",
      "\n",
      "FIR filter parameters\n",
      "---------------------\n",
      "Designing a one-pass, zero-phase, non-causal bandstop filter:\n",
      "- Windowed time-domain design (firwin) method\n",
      "- Hamming window with 0.0194 passband ripple and 53 dB stopband attenuation\n",
      "- Lower transition bandwidth: 0.50 Hz\n",
      "- Upper transition bandwidth: 0.50 Hz\n",
      "- Filter length: 3381 samples (6.604 sec)\n",
      "\n",
      "Doing CAR on\n",
      "average\n",
      "ECoG channel type selected for re-referencing\n",
      "Applying average reference.\n",
      "Applying a custom ('ECoG',) reference.\n",
      "Getting frequency bands for Hilbert transform\n",
      "Filtering data in alpha band from 8 to 15 Hz\n",
      "Note that this will *not* use the analytic amplitude like high gamma\n",
      "Filtering raw data in 1 contiguous segment\n",
      "Setting up band-pass filter from 8 - 15 Hz\n",
      "\n",
      "FIR filter parameters\n",
      "---------------------\n",
      "Designing a one-pass, zero-phase, non-causal bandpass filter:\n",
      "- Windowed time-domain design (firwin) method\n",
      "- Hamming window with 0.0194 passband ripple and 53 dB stopband attenuation\n",
      "- Lower passband edge: 8.00\n",
      "- Lower transition bandwidth: 2.00 Hz (-6 dB cutoff frequency: 7.00 Hz)\n",
      "- Upper passband edge: 15.00 Hz\n",
      "- Upper transition bandwidth: 3.75 Hz (-6 dB cutoff frequency: 16.88 Hz)\n",
      "- Filter length: 845 samples (1.650 sec)\n",
      "\n",
      "Writing /home/jovyan/aws_ds003688/derivatives/alpha/sub-45_ses-iemu_task-film_acq-clinical_run-1_alpha_raw.fif\n",
      "Closing /home/jovyan/aws_ds003688/derivatives/alpha/sub-45_ses-iemu_task-film_acq-clinical_run-1_alpha_raw.fif\n",
      "[done]\n",
      "Extracting parameters from /home/jovyan/aws_ds003688/sub-46/ses-iemu/ieeg/sub-46_ses-iemu_task-film_acq-clinical_run-1_ieeg.vhdr...\n",
      "Setting channel info structure...\n",
      "Reading events from /home/jovyan/aws_ds003688/sub-46/ses-iemu/ieeg/sub-46_ses-iemu_task-film_run-1_events.tsv.\n",
      "Reading channel info from /home/jovyan/aws_ds003688/sub-46/ses-iemu/ieeg/sub-46_ses-iemu_task-film_acq-clinical_run-1_channels.tsv.\n",
      "Reading electrode coords from /home/jovyan/aws_ds003688/sub-46/ses-iemu/ieeg/sub-46_ses-iemu_acq-clinical_electrodes.tsv.\n",
      "Extracting parameters from /home/jovyan/aws_ds003688/sub-46/ses-iemu/ieeg/sub-46_ses-iemu_task-film_acq-clinical_run-1_ieeg.vhdr...\n",
      "Setting channel info structure...\n",
      "Reading events from /home/jovyan/aws_ds003688/sub-46/ses-iemu/ieeg/sub-46_ses-iemu_task-film_run-1_events.tsv.\n",
      "Reading channel info from /home/jovyan/aws_ds003688/sub-46/ses-iemu/ieeg/sub-46_ses-iemu_task-film_acq-clinical_run-1_channels.tsv.\n",
      "Reading electrode coords from /home/jovyan/aws_ds003688/sub-46/ses-iemu/ieeg/sub-46_ses-iemu_acq-clinical_electrodes.tsv.\n",
      "Reading 0 ... 207133  =      0.000 ...   404.557 secs...\n"
     ]
    },
    {
     "name": "stderr",
     "output_type": "stream",
     "text": [
      "/home/jovyan/ieegmovie/codes/preprocessing.py:23: RuntimeWarning: Limited 1 annotation(s) that were expanding outside the data range.\n",
      "  raw = read_raw_bids(bids_path, verbose=True)\n",
      "/home/jovyan/ieegmovie/codes/preprocessing.py:23: RuntimeWarning: The unit for channel(s) MKR1+, MKR2+ has changed from V to NA.\n",
      "  raw = read_raw_bids(bids_path, verbose=True)\n",
      "/home/jovyan/ieegmovie/codes/preprocessing.py:23: RuntimeWarning: participants.tsv file not found for /home/jovyan/aws_ds003688/sub-46/ses-iemu/ieeg/sub-46_ses-iemu_task-film_acq-clinical_run-1_ieeg.vhdr\n",
      "  raw = read_raw_bids(bids_path, verbose=True)\n",
      "/home/jovyan/ieegmovie/codes/preprocessing.py:25: RuntimeWarning: Limited 1 annotation(s) that were expanding outside the data range.\n",
      "  raw = read_raw_bids(bids_path, verbose=True)\n",
      "/home/jovyan/ieegmovie/codes/preprocessing.py:25: RuntimeWarning: The unit for channel(s) MKR1+, MKR2+ has changed from V to NA.\n",
      "  raw = read_raw_bids(bids_path, verbose=True)\n",
      "/home/jovyan/ieegmovie/codes/preprocessing.py:25: RuntimeWarning: participants.tsv file not found for /home/jovyan/aws_ds003688/sub-46/ses-iemu/ieeg/sub-46_ses-iemu_task-film_acq-clinical_run-1_ieeg.vhdr\n",
      "  raw = read_raw_bids(bids_path, verbose=True)\n"
     ]
    },
    {
     "name": "stdout",
     "output_type": "stream",
     "text": [
      "Setting up band-stop filter\n",
      "\n",
      "FIR filter parameters\n",
      "---------------------\n",
      "Designing a one-pass, zero-phase, non-causal bandstop filter:\n",
      "- Windowed time-domain design (firwin) method\n",
      "- Hamming window with 0.0194 passband ripple and 53 dB stopband attenuation\n",
      "- Lower transition bandwidth: 0.50 Hz\n",
      "- Upper transition bandwidth: 0.50 Hz\n",
      "- Filter length: 3381 samples (6.604 sec)\n",
      "\n",
      "ECoG channel type selected for re-referencing\n",
      "Applying average reference.\n",
      "Applying a custom ('ECoG',) reference.\n",
      "Filtering raw data in 1 contiguous segment\n",
      "Setting up high-pass filter at 0.1 Hz\n",
      "\n",
      "FIR filter parameters\n",
      "---------------------\n",
      "Designing a one-pass, zero-phase, non-causal highpass filter:\n",
      "- Windowed time-domain design (firwin) method\n",
      "- Hamming window with 0.0194 passband ripple and 53 dB stopband attenuation\n",
      "- Lower passband edge: 0.10\n",
      "- Lower transition bandwidth: 0.10 Hz (-6 dB cutoff frequency: 0.05 Hz)\n",
      "- Filter length: 16897 samples (33.002 sec)\n",
      "\n",
      "Writing /home/jovyan/aws_ds003688/derivatives/CAR/sub-46_ses-iemu_task-film_acq-clinical_run-1_CAR_raw.fif\n",
      "Closing /home/jovyan/aws_ds003688/derivatives/CAR/sub-46_ses-iemu_task-film_acq-clinical_run-1_CAR_raw.fif\n",
      "[done]\n",
      "Extracting parameters from /home/jovyan/aws_ds003688/sub-46/ses-iemu/ieeg/sub-46_ses-iemu_task-film_acq-clinical_run-1_ieeg.vhdr...\n",
      "Setting channel info structure...\n",
      "Reading events from /home/jovyan/aws_ds003688/sub-46/ses-iemu/ieeg/sub-46_ses-iemu_task-film_run-1_events.tsv.\n",
      "Reading channel info from /home/jovyan/aws_ds003688/sub-46/ses-iemu/ieeg/sub-46_ses-iemu_task-film_acq-clinical_run-1_channels.tsv.\n",
      "Reading electrode coords from /home/jovyan/aws_ds003688/sub-46/ses-iemu/ieeg/sub-46_ses-iemu_acq-clinical_electrodes.tsv.\n",
      "Extracting parameters from /home/jovyan/aws_ds003688/sub-46/ses-iemu/ieeg/sub-46_ses-iemu_task-film_acq-clinical_run-1_ieeg.vhdr...\n",
      "Setting channel info structure...\n",
      "Reading events from /home/jovyan/aws_ds003688/sub-46/ses-iemu/ieeg/sub-46_ses-iemu_task-film_run-1_events.tsv.\n",
      "Reading channel info from /home/jovyan/aws_ds003688/sub-46/ses-iemu/ieeg/sub-46_ses-iemu_task-film_acq-clinical_run-1_channels.tsv.\n",
      "Reading electrode coords from /home/jovyan/aws_ds003688/sub-46/ses-iemu/ieeg/sub-46_ses-iemu_acq-clinical_electrodes.tsv.\n",
      "Reading 0 ... 207133  =      0.000 ...   404.557 secs...\n"
     ]
    },
    {
     "name": "stderr",
     "output_type": "stream",
     "text": [
      "/home/jovyan/ieegmovie/codes/preprocessing.py:23: RuntimeWarning: Limited 1 annotation(s) that were expanding outside the data range.\n",
      "  raw = read_raw_bids(bids_path, verbose=True)\n",
      "/home/jovyan/ieegmovie/codes/preprocessing.py:23: RuntimeWarning: The unit for channel(s) MKR1+, MKR2+ has changed from V to NA.\n",
      "  raw = read_raw_bids(bids_path, verbose=True)\n",
      "/home/jovyan/ieegmovie/codes/preprocessing.py:23: RuntimeWarning: participants.tsv file not found for /home/jovyan/aws_ds003688/sub-46/ses-iemu/ieeg/sub-46_ses-iemu_task-film_acq-clinical_run-1_ieeg.vhdr\n",
      "  raw = read_raw_bids(bids_path, verbose=True)\n",
      "/home/jovyan/ieegmovie/codes/preprocessing.py:25: RuntimeWarning: Limited 1 annotation(s) that were expanding outside the data range.\n",
      "  raw = read_raw_bids(bids_path, verbose=True)\n",
      "/home/jovyan/ieegmovie/codes/preprocessing.py:25: RuntimeWarning: The unit for channel(s) MKR1+, MKR2+ has changed from V to NA.\n",
      "  raw = read_raw_bids(bids_path, verbose=True)\n",
      "/home/jovyan/ieegmovie/codes/preprocessing.py:25: RuntimeWarning: participants.tsv file not found for /home/jovyan/aws_ds003688/sub-46/ses-iemu/ieeg/sub-46_ses-iemu_task-film_acq-clinical_run-1_ieeg.vhdr\n",
      "  raw = read_raw_bids(bids_path, verbose=True)\n"
     ]
    },
    {
     "name": "stdout",
     "output_type": "stream",
     "text": [
      "Doing notch filter\n",
      "Setting up band-stop filter\n",
      "\n",
      "FIR filter parameters\n",
      "---------------------\n",
      "Designing a one-pass, zero-phase, non-causal bandstop filter:\n",
      "- Windowed time-domain design (firwin) method\n",
      "- Hamming window with 0.0194 passband ripple and 53 dB stopband attenuation\n",
      "- Lower transition bandwidth: 0.50 Hz\n",
      "- Upper transition bandwidth: 0.50 Hz\n",
      "- Filter length: 3381 samples (6.604 sec)\n",
      "\n",
      "Doing CAR on\n",
      "average\n",
      "ECoG channel type selected for re-referencing\n",
      "Applying average reference.\n",
      "Applying a custom ('ECoG',) reference.\n",
      "Getting frequency bands for Hilbert transform\n",
      "Getting HighGamma band data\n",
      "Getting the raw data array\n"
     ]
    },
    {
     "name": "stderr",
     "output_type": "stream",
     "text": [
      "applying Hilbert transform...:   0%|          | 0/8 [00:00<?, ?it/s]/home/jovyan/ieegmovie/codes/ecog_preproc_utils.py:159: ComplexWarning: Casting complex values to real discards the imaginary part\n",
      "  raw.info['sfreq'], ct, sd)\n"
     ]
    },
    {
     "name": "stdout",
     "output_type": "stream",
     "text": [
      "Taking log transform of high gamma\n"
     ]
    },
    {
     "name": "stderr",
     "output_type": "stream",
     "text": [
      "applying Hilbert transform...:  12%|█▎        | 1/8 [00:07<00:54,  7.86s/it]"
     ]
    },
    {
     "name": "stdout",
     "output_type": "stream",
     "text": [
      "Taking log transform of high gamma\n"
     ]
    },
    {
     "name": "stderr",
     "output_type": "stream",
     "text": [
      "applying Hilbert transform...:  25%|██▌       | 2/8 [00:15<00:47,  7.91s/it]"
     ]
    },
    {
     "name": "stdout",
     "output_type": "stream",
     "text": [
      "Taking log transform of high gamma\n"
     ]
    },
    {
     "name": "stderr",
     "output_type": "stream",
     "text": [
      "applying Hilbert transform...:  38%|███▊      | 3/8 [00:23<00:39,  7.92s/it]"
     ]
    },
    {
     "name": "stdout",
     "output_type": "stream",
     "text": [
      "Taking log transform of high gamma\n"
     ]
    },
    {
     "name": "stderr",
     "output_type": "stream",
     "text": [
      "applying Hilbert transform...:  50%|█████     | 4/8 [00:31<00:31,  7.92s/it]"
     ]
    },
    {
     "name": "stdout",
     "output_type": "stream",
     "text": [
      "Taking log transform of high gamma\n"
     ]
    },
    {
     "name": "stderr",
     "output_type": "stream",
     "text": [
      "applying Hilbert transform...:  62%|██████▎   | 5/8 [00:39<00:23,  7.92s/it]"
     ]
    },
    {
     "name": "stdout",
     "output_type": "stream",
     "text": [
      "Taking log transform of high gamma\n"
     ]
    },
    {
     "name": "stderr",
     "output_type": "stream",
     "text": [
      "applying Hilbert transform...:  75%|███████▌  | 6/8 [00:47<00:15,  7.90s/it]"
     ]
    },
    {
     "name": "stdout",
     "output_type": "stream",
     "text": [
      "Taking log transform of high gamma\n"
     ]
    },
    {
     "name": "stderr",
     "output_type": "stream",
     "text": [
      "applying Hilbert transform...:  88%|████████▊ | 7/8 [00:55<00:07,  7.93s/it]"
     ]
    },
    {
     "name": "stdout",
     "output_type": "stream",
     "text": [
      "Taking log transform of high gamma\n"
     ]
    },
    {
     "name": "stderr",
     "output_type": "stream",
     "text": [
      "applying Hilbert transform...: 100%|██████████| 8/8 [01:03<00:00,  7.92s/it]\n"
     ]
    },
    {
     "name": "stdout",
     "output_type": "stream",
     "text": [
      "Taking the mean across 8 bands\n",
      "Z-scoring signal\n",
      "Creating RawArray with float64 data, n_channels=59, n_times=207134\n",
      "    Range : 0 ... 207133 =      0.000 ...   404.557 secs\n",
      "Ready.\n",
      "Writing /home/jovyan/aws_ds003688/derivatives/HighGamma/sub-46_ses-iemu_task-film_acq-clinical_run-1_HighGamma_raw.fif\n",
      "Closing /home/jovyan/aws_ds003688/derivatives/HighGamma/sub-46_ses-iemu_task-film_acq-clinical_run-1_HighGamma_raw.fif\n",
      "[done]\n",
      "Extracting parameters from /home/jovyan/aws_ds003688/sub-46/ses-iemu/ieeg/sub-46_ses-iemu_task-film_acq-clinical_run-1_ieeg.vhdr...\n",
      "Setting channel info structure...\n",
      "Reading events from /home/jovyan/aws_ds003688/sub-46/ses-iemu/ieeg/sub-46_ses-iemu_task-film_run-1_events.tsv.\n",
      "Reading channel info from /home/jovyan/aws_ds003688/sub-46/ses-iemu/ieeg/sub-46_ses-iemu_task-film_acq-clinical_run-1_channels.tsv.\n",
      "Reading electrode coords from /home/jovyan/aws_ds003688/sub-46/ses-iemu/ieeg/sub-46_ses-iemu_acq-clinical_electrodes.tsv.\n",
      "Extracting parameters from /home/jovyan/aws_ds003688/sub-46/ses-iemu/ieeg/sub-46_ses-iemu_task-film_acq-clinical_run-1_ieeg.vhdr...\n",
      "Setting channel info structure...\n",
      "Reading events from /home/jovyan/aws_ds003688/sub-46/ses-iemu/ieeg/sub-46_ses-iemu_task-film_run-1_events.tsv.\n",
      "Reading channel info from /home/jovyan/aws_ds003688/sub-46/ses-iemu/ieeg/sub-46_ses-iemu_task-film_acq-clinical_run-1_channels.tsv.\n",
      "Reading electrode coords from /home/jovyan/aws_ds003688/sub-46/ses-iemu/ieeg/sub-46_ses-iemu_acq-clinical_electrodes.tsv.\n",
      "Reading 0 ... 207133  =      0.000 ...   404.557 secs...\n"
     ]
    },
    {
     "name": "stderr",
     "output_type": "stream",
     "text": [
      "/home/jovyan/ieegmovie/codes/preprocessing.py:23: RuntimeWarning: Limited 1 annotation(s) that were expanding outside the data range.\n",
      "  raw = read_raw_bids(bids_path, verbose=True)\n",
      "/home/jovyan/ieegmovie/codes/preprocessing.py:23: RuntimeWarning: The unit for channel(s) MKR1+, MKR2+ has changed from V to NA.\n",
      "  raw = read_raw_bids(bids_path, verbose=True)\n",
      "/home/jovyan/ieegmovie/codes/preprocessing.py:23: RuntimeWarning: participants.tsv file not found for /home/jovyan/aws_ds003688/sub-46/ses-iemu/ieeg/sub-46_ses-iemu_task-film_acq-clinical_run-1_ieeg.vhdr\n",
      "  raw = read_raw_bids(bids_path, verbose=True)\n",
      "/home/jovyan/ieegmovie/codes/preprocessing.py:25: RuntimeWarning: Limited 1 annotation(s) that were expanding outside the data range.\n",
      "  raw = read_raw_bids(bids_path, verbose=True)\n",
      "/home/jovyan/ieegmovie/codes/preprocessing.py:25: RuntimeWarning: The unit for channel(s) MKR1+, MKR2+ has changed from V to NA.\n",
      "  raw = read_raw_bids(bids_path, verbose=True)\n",
      "/home/jovyan/ieegmovie/codes/preprocessing.py:25: RuntimeWarning: participants.tsv file not found for /home/jovyan/aws_ds003688/sub-46/ses-iemu/ieeg/sub-46_ses-iemu_task-film_acq-clinical_run-1_ieeg.vhdr\n",
      "  raw = read_raw_bids(bids_path, verbose=True)\n"
     ]
    },
    {
     "name": "stdout",
     "output_type": "stream",
     "text": [
      "Doing notch filter\n",
      "Setting up band-stop filter\n",
      "\n",
      "FIR filter parameters\n",
      "---------------------\n",
      "Designing a one-pass, zero-phase, non-causal bandstop filter:\n",
      "- Windowed time-domain design (firwin) method\n",
      "- Hamming window with 0.0194 passband ripple and 53 dB stopband attenuation\n",
      "- Lower transition bandwidth: 0.50 Hz\n",
      "- Upper transition bandwidth: 0.50 Hz\n",
      "- Filter length: 3381 samples (6.604 sec)\n",
      "\n",
      "Doing CAR on\n",
      "average\n",
      "ECoG channel type selected for re-referencing\n",
      "Applying average reference.\n",
      "Applying a custom ('ECoG',) reference.\n",
      "Getting frequency bands for Hilbert transform\n",
      "Filtering data in theta band from 4 to 8 Hz\n",
      "Note that this will *not* use the analytic amplitude like high gamma\n",
      "Filtering raw data in 1 contiguous segment\n",
      "Setting up band-pass filter from 4 - 8 Hz\n",
      "\n",
      "FIR filter parameters\n",
      "---------------------\n",
      "Designing a one-pass, zero-phase, non-causal bandpass filter:\n",
      "- Windowed time-domain design (firwin) method\n",
      "- Hamming window with 0.0194 passband ripple and 53 dB stopband attenuation\n",
      "- Lower passband edge: 4.00\n",
      "- Lower transition bandwidth: 2.00 Hz (-6 dB cutoff frequency: 3.00 Hz)\n",
      "- Upper passband edge: 8.00 Hz\n",
      "- Upper transition bandwidth: 2.00 Hz (-6 dB cutoff frequency: 9.00 Hz)\n",
      "- Filter length: 845 samples (1.650 sec)\n",
      "\n",
      "Writing /home/jovyan/aws_ds003688/derivatives/theta/sub-46_ses-iemu_task-film_acq-clinical_run-1_theta_raw.fif\n",
      "Closing /home/jovyan/aws_ds003688/derivatives/theta/sub-46_ses-iemu_task-film_acq-clinical_run-1_theta_raw.fif\n",
      "[done]\n",
      "Extracting parameters from /home/jovyan/aws_ds003688/sub-46/ses-iemu/ieeg/sub-46_ses-iemu_task-film_acq-clinical_run-1_ieeg.vhdr...\n",
      "Setting channel info structure...\n",
      "Reading events from /home/jovyan/aws_ds003688/sub-46/ses-iemu/ieeg/sub-46_ses-iemu_task-film_run-1_events.tsv.\n",
      "Reading channel info from /home/jovyan/aws_ds003688/sub-46/ses-iemu/ieeg/sub-46_ses-iemu_task-film_acq-clinical_run-1_channels.tsv.\n",
      "Reading electrode coords from /home/jovyan/aws_ds003688/sub-46/ses-iemu/ieeg/sub-46_ses-iemu_acq-clinical_electrodes.tsv.\n",
      "Extracting parameters from /home/jovyan/aws_ds003688/sub-46/ses-iemu/ieeg/sub-46_ses-iemu_task-film_acq-clinical_run-1_ieeg.vhdr...\n",
      "Setting channel info structure...\n",
      "Reading events from /home/jovyan/aws_ds003688/sub-46/ses-iemu/ieeg/sub-46_ses-iemu_task-film_run-1_events.tsv.\n",
      "Reading channel info from /home/jovyan/aws_ds003688/sub-46/ses-iemu/ieeg/sub-46_ses-iemu_task-film_acq-clinical_run-1_channels.tsv.\n",
      "Reading electrode coords from /home/jovyan/aws_ds003688/sub-46/ses-iemu/ieeg/sub-46_ses-iemu_acq-clinical_electrodes.tsv.\n",
      "Reading 0 ... 207133  =      0.000 ...   404.557 secs...\n"
     ]
    },
    {
     "name": "stderr",
     "output_type": "stream",
     "text": [
      "/home/jovyan/ieegmovie/codes/preprocessing.py:23: RuntimeWarning: Limited 1 annotation(s) that were expanding outside the data range.\n",
      "  raw = read_raw_bids(bids_path, verbose=True)\n",
      "/home/jovyan/ieegmovie/codes/preprocessing.py:23: RuntimeWarning: The unit for channel(s) MKR1+, MKR2+ has changed from V to NA.\n",
      "  raw = read_raw_bids(bids_path, verbose=True)\n",
      "/home/jovyan/ieegmovie/codes/preprocessing.py:23: RuntimeWarning: participants.tsv file not found for /home/jovyan/aws_ds003688/sub-46/ses-iemu/ieeg/sub-46_ses-iemu_task-film_acq-clinical_run-1_ieeg.vhdr\n",
      "  raw = read_raw_bids(bids_path, verbose=True)\n",
      "/home/jovyan/ieegmovie/codes/preprocessing.py:25: RuntimeWarning: Limited 1 annotation(s) that were expanding outside the data range.\n",
      "  raw = read_raw_bids(bids_path, verbose=True)\n",
      "/home/jovyan/ieegmovie/codes/preprocessing.py:25: RuntimeWarning: The unit for channel(s) MKR1+, MKR2+ has changed from V to NA.\n",
      "  raw = read_raw_bids(bids_path, verbose=True)\n",
      "/home/jovyan/ieegmovie/codes/preprocessing.py:25: RuntimeWarning: participants.tsv file not found for /home/jovyan/aws_ds003688/sub-46/ses-iemu/ieeg/sub-46_ses-iemu_task-film_acq-clinical_run-1_ieeg.vhdr\n",
      "  raw = read_raw_bids(bids_path, verbose=True)\n"
     ]
    },
    {
     "name": "stdout",
     "output_type": "stream",
     "text": [
      "Doing notch filter\n",
      "Setting up band-stop filter\n",
      "\n",
      "FIR filter parameters\n",
      "---------------------\n",
      "Designing a one-pass, zero-phase, non-causal bandstop filter:\n",
      "- Windowed time-domain design (firwin) method\n",
      "- Hamming window with 0.0194 passband ripple and 53 dB stopband attenuation\n",
      "- Lower transition bandwidth: 0.50 Hz\n",
      "- Upper transition bandwidth: 0.50 Hz\n",
      "- Filter length: 3381 samples (6.604 sec)\n",
      "\n",
      "Doing CAR on\n",
      "average\n",
      "ECoG channel type selected for re-referencing\n",
      "Applying average reference.\n",
      "Applying a custom ('ECoG',) reference.\n",
      "Getting frequency bands for Hilbert transform\n",
      "Filtering data in alpha band from 8 to 15 Hz\n",
      "Note that this will *not* use the analytic amplitude like high gamma\n",
      "Filtering raw data in 1 contiguous segment\n",
      "Setting up band-pass filter from 8 - 15 Hz\n",
      "\n",
      "FIR filter parameters\n",
      "---------------------\n",
      "Designing a one-pass, zero-phase, non-causal bandpass filter:\n",
      "- Windowed time-domain design (firwin) method\n",
      "- Hamming window with 0.0194 passband ripple and 53 dB stopband attenuation\n",
      "- Lower passband edge: 8.00\n",
      "- Lower transition bandwidth: 2.00 Hz (-6 dB cutoff frequency: 7.00 Hz)\n",
      "- Upper passband edge: 15.00 Hz\n",
      "- Upper transition bandwidth: 3.75 Hz (-6 dB cutoff frequency: 16.88 Hz)\n",
      "- Filter length: 845 samples (1.650 sec)\n",
      "\n",
      "Writing /home/jovyan/aws_ds003688/derivatives/alpha/sub-46_ses-iemu_task-film_acq-clinical_run-1_alpha_raw.fif\n",
      "Closing /home/jovyan/aws_ds003688/derivatives/alpha/sub-46_ses-iemu_task-film_acq-clinical_run-1_alpha_raw.fif\n",
      "[done]\n",
      "Extracting parameters from /home/jovyan/aws_ds003688/sub-51/ses-iemu/ieeg/sub-51_ses-iemu_task-film_acq-clinical_run-1_ieeg.vhdr...\n",
      "Setting channel info structure...\n",
      "Reading events from /home/jovyan/aws_ds003688/sub-51/ses-iemu/ieeg/sub-51_ses-iemu_task-film_run-1_events.tsv.\n",
      "Reading channel info from /home/jovyan/aws_ds003688/sub-51/ses-iemu/ieeg/sub-51_ses-iemu_task-film_acq-clinical_run-1_channels.tsv.\n",
      "Reading electrode coords from /home/jovyan/aws_ds003688/sub-51/ses-iemu/ieeg/sub-51_ses-iemu_acq-clinical_electrodes.tsv.\n",
      "Extracting parameters from /home/jovyan/aws_ds003688/sub-51/ses-iemu/ieeg/sub-51_ses-iemu_task-film_acq-clinical_run-1_ieeg.vhdr...\n",
      "Setting channel info structure...\n",
      "Reading events from /home/jovyan/aws_ds003688/sub-51/ses-iemu/ieeg/sub-51_ses-iemu_task-film_run-1_events.tsv.\n",
      "Reading channel info from /home/jovyan/aws_ds003688/sub-51/ses-iemu/ieeg/sub-51_ses-iemu_task-film_acq-clinical_run-1_channels.tsv.\n",
      "Reading electrode coords from /home/jovyan/aws_ds003688/sub-51/ses-iemu/ieeg/sub-51_ses-iemu_acq-clinical_electrodes.tsv.\n",
      "Reading 0 ... 829439  =      0.000 ...   405.000 secs...\n"
     ]
    },
    {
     "name": "stderr",
     "output_type": "stream",
     "text": [
      "/home/jovyan/ieegmovie/codes/preprocessing.py:23: RuntimeWarning: The unit for channel(s) MKR1+ has changed from V to NA.\n",
      "  raw = read_raw_bids(bids_path, verbose=True)\n",
      "/home/jovyan/ieegmovie/codes/preprocessing.py:23: RuntimeWarning: participants.tsv file not found for /home/jovyan/aws_ds003688/sub-51/ses-iemu/ieeg/sub-51_ses-iemu_task-film_acq-clinical_run-1_ieeg.vhdr\n",
      "  raw = read_raw_bids(bids_path, verbose=True)\n",
      "/home/jovyan/ieegmovie/codes/preprocessing.py:25: RuntimeWarning: The unit for channel(s) MKR1+ has changed from V to NA.\n",
      "  raw = read_raw_bids(bids_path, verbose=True)\n",
      "/home/jovyan/ieegmovie/codes/preprocessing.py:25: RuntimeWarning: participants.tsv file not found for /home/jovyan/aws_ds003688/sub-51/ses-iemu/ieeg/sub-51_ses-iemu_task-film_acq-clinical_run-1_ieeg.vhdr\n",
      "  raw = read_raw_bids(bids_path, verbose=True)\n"
     ]
    },
    {
     "name": "stdout",
     "output_type": "stream",
     "text": [
      "Setting up band-stop filter\n",
      "\n",
      "FIR filter parameters\n",
      "---------------------\n",
      "Designing a one-pass, zero-phase, non-causal bandstop filter:\n",
      "- Windowed time-domain design (firwin) method\n",
      "- Hamming window with 0.0194 passband ripple and 53 dB stopband attenuation\n",
      "- Lower transition bandwidth: 0.50 Hz\n",
      "- Upper transition bandwidth: 0.50 Hz\n",
      "- Filter length: 13517 samples (6.600 sec)\n",
      "\n",
      "ECoG channel type selected for re-referencing\n",
      "Applying average reference.\n",
      "Applying a custom ('ECoG',) reference.\n",
      "Filtering raw data in 1 contiguous segment\n",
      "Setting up high-pass filter at 0.1 Hz\n",
      "\n",
      "FIR filter parameters\n",
      "---------------------\n",
      "Designing a one-pass, zero-phase, non-causal highpass filter:\n",
      "- Windowed time-domain design (firwin) method\n",
      "- Hamming window with 0.0194 passband ripple and 53 dB stopband attenuation\n",
      "- Lower passband edge: 0.10\n",
      "- Lower transition bandwidth: 0.10 Hz (-6 dB cutoff frequency: 0.05 Hz)\n",
      "- Filter length: 67585 samples (33.000 sec)\n",
      "\n",
      "Writing /home/jovyan/aws_ds003688/derivatives/CAR/sub-51_ses-iemu_task-film_acq-clinical_run-1_CAR_raw.fif\n",
      "Closing /home/jovyan/aws_ds003688/derivatives/CAR/sub-51_ses-iemu_task-film_acq-clinical_run-1_CAR_raw.fif\n",
      "[done]\n",
      "Extracting parameters from /home/jovyan/aws_ds003688/sub-51/ses-iemu/ieeg/sub-51_ses-iemu_task-film_acq-clinical_run-1_ieeg.vhdr...\n",
      "Setting channel info structure...\n",
      "Reading events from /home/jovyan/aws_ds003688/sub-51/ses-iemu/ieeg/sub-51_ses-iemu_task-film_run-1_events.tsv.\n",
      "Reading channel info from /home/jovyan/aws_ds003688/sub-51/ses-iemu/ieeg/sub-51_ses-iemu_task-film_acq-clinical_run-1_channels.tsv.\n",
      "Reading electrode coords from /home/jovyan/aws_ds003688/sub-51/ses-iemu/ieeg/sub-51_ses-iemu_acq-clinical_electrodes.tsv.\n",
      "Extracting parameters from /home/jovyan/aws_ds003688/sub-51/ses-iemu/ieeg/sub-51_ses-iemu_task-film_acq-clinical_run-1_ieeg.vhdr...\n",
      "Setting channel info structure...\n",
      "Reading events from /home/jovyan/aws_ds003688/sub-51/ses-iemu/ieeg/sub-51_ses-iemu_task-film_run-1_events.tsv.\n",
      "Reading channel info from /home/jovyan/aws_ds003688/sub-51/ses-iemu/ieeg/sub-51_ses-iemu_task-film_acq-clinical_run-1_channels.tsv.\n",
      "Reading electrode coords from /home/jovyan/aws_ds003688/sub-51/ses-iemu/ieeg/sub-51_ses-iemu_acq-clinical_electrodes.tsv.\n",
      "Reading 0 ... 829439  =      0.000 ...   405.000 secs...\n"
     ]
    },
    {
     "name": "stderr",
     "output_type": "stream",
     "text": [
      "/home/jovyan/ieegmovie/codes/preprocessing.py:23: RuntimeWarning: The unit for channel(s) MKR1+ has changed from V to NA.\n",
      "  raw = read_raw_bids(bids_path, verbose=True)\n",
      "/home/jovyan/ieegmovie/codes/preprocessing.py:23: RuntimeWarning: participants.tsv file not found for /home/jovyan/aws_ds003688/sub-51/ses-iemu/ieeg/sub-51_ses-iemu_task-film_acq-clinical_run-1_ieeg.vhdr\n",
      "  raw = read_raw_bids(bids_path, verbose=True)\n",
      "/home/jovyan/ieegmovie/codes/preprocessing.py:25: RuntimeWarning: The unit for channel(s) MKR1+ has changed from V to NA.\n",
      "  raw = read_raw_bids(bids_path, verbose=True)\n",
      "/home/jovyan/ieegmovie/codes/preprocessing.py:25: RuntimeWarning: participants.tsv file not found for /home/jovyan/aws_ds003688/sub-51/ses-iemu/ieeg/sub-51_ses-iemu_task-film_acq-clinical_run-1_ieeg.vhdr\n",
      "  raw = read_raw_bids(bids_path, verbose=True)\n"
     ]
    },
    {
     "name": "stdout",
     "output_type": "stream",
     "text": [
      "Doing notch filter\n",
      "Setting up band-stop filter\n",
      "\n",
      "FIR filter parameters\n",
      "---------------------\n",
      "Designing a one-pass, zero-phase, non-causal bandstop filter:\n",
      "- Windowed time-domain design (firwin) method\n",
      "- Hamming window with 0.0194 passband ripple and 53 dB stopband attenuation\n",
      "- Lower transition bandwidth: 0.50 Hz\n",
      "- Upper transition bandwidth: 0.50 Hz\n",
      "- Filter length: 13517 samples (6.600 sec)\n",
      "\n",
      "Doing CAR on\n",
      "average\n",
      "ECoG channel type selected for re-referencing\n",
      "Applying average reference.\n",
      "Applying a custom ('ECoG',) reference.\n",
      "Getting frequency bands for Hilbert transform\n",
      "Getting HighGamma band data\n",
      "Getting the raw data array\n"
     ]
    },
    {
     "name": "stderr",
     "output_type": "stream",
     "text": [
      "applying Hilbert transform...:   0%|          | 0/8 [00:00<?, ?it/s]/home/jovyan/ieegmovie/codes/ecog_preproc_utils.py:159: ComplexWarning: Casting complex values to real discards the imaginary part\n",
      "  raw.info['sfreq'], ct, sd)\n"
     ]
    },
    {
     "name": "stdout",
     "output_type": "stream",
     "text": [
      "Taking log transform of high gamma\n"
     ]
    },
    {
     "name": "stderr",
     "output_type": "stream",
     "text": [
      "applying Hilbert transform...:  12%|█▎        | 1/8 [00:16<01:52, 16.05s/it]"
     ]
    },
    {
     "name": "stdout",
     "output_type": "stream",
     "text": [
      "Taking log transform of high gamma\n"
     ]
    },
    {
     "name": "stderr",
     "output_type": "stream",
     "text": [
      "applying Hilbert transform...:  25%|██▌       | 2/8 [00:35<01:46, 17.76s/it]"
     ]
    },
    {
     "name": "stdout",
     "output_type": "stream",
     "text": [
      "Taking log transform of high gamma\n"
     ]
    },
    {
     "name": "stderr",
     "output_type": "stream",
     "text": [
      "applying Hilbert transform...:  38%|███▊      | 3/8 [00:53<01:31, 18.20s/it]"
     ]
    },
    {
     "name": "stdout",
     "output_type": "stream",
     "text": [
      "Taking log transform of high gamma\n"
     ]
    },
    {
     "name": "stderr",
     "output_type": "stream",
     "text": [
      "applying Hilbert transform...:  50%|█████     | 4/8 [01:11<01:12, 18.19s/it]"
     ]
    },
    {
     "name": "stdout",
     "output_type": "stream",
     "text": [
      "Taking log transform of high gamma\n"
     ]
    },
    {
     "name": "stderr",
     "output_type": "stream",
     "text": [
      "applying Hilbert transform...:  62%|██████▎   | 5/8 [01:34<00:58, 19.64s/it]"
     ]
    },
    {
     "name": "stdout",
     "output_type": "stream",
     "text": [
      "Taking log transform of high gamma\n"
     ]
    },
    {
     "name": "stderr",
     "output_type": "stream",
     "text": [
      "applying Hilbert transform...:  75%|███████▌  | 6/8 [01:52<00:38, 19.22s/it]"
     ]
    },
    {
     "name": "stdout",
     "output_type": "stream",
     "text": [
      "Taking log transform of high gamma\n"
     ]
    },
    {
     "name": "stderr",
     "output_type": "stream",
     "text": [
      "applying Hilbert transform...:  88%|████████▊ | 7/8 [02:10<00:18, 18.66s/it]"
     ]
    },
    {
     "name": "stdout",
     "output_type": "stream",
     "text": [
      "Taking log transform of high gamma\n"
     ]
    },
    {
     "name": "stderr",
     "output_type": "stream",
     "text": [
      "applying Hilbert transform...: 100%|██████████| 8/8 [02:27<00:00, 18.44s/it]\n"
     ]
    },
    {
     "name": "stdout",
     "output_type": "stream",
     "text": [
      "Taking the mean across 8 bands\n",
      "Z-scoring signal\n",
      "Creating RawArray with float64 data, n_channels=69, n_times=829440\n",
      "    Range : 0 ... 829439 =      0.000 ...   405.000 secs\n",
      "Ready.\n",
      "Writing /home/jovyan/aws_ds003688/derivatives/HighGamma/sub-51_ses-iemu_task-film_acq-clinical_run-1_HighGamma_raw.fif\n",
      "Closing /home/jovyan/aws_ds003688/derivatives/HighGamma/sub-51_ses-iemu_task-film_acq-clinical_run-1_HighGamma_raw.fif\n",
      "[done]\n",
      "Extracting parameters from /home/jovyan/aws_ds003688/sub-51/ses-iemu/ieeg/sub-51_ses-iemu_task-film_acq-clinical_run-1_ieeg.vhdr...\n",
      "Setting channel info structure...\n",
      "Reading events from /home/jovyan/aws_ds003688/sub-51/ses-iemu/ieeg/sub-51_ses-iemu_task-film_run-1_events.tsv.\n",
      "Reading channel info from /home/jovyan/aws_ds003688/sub-51/ses-iemu/ieeg/sub-51_ses-iemu_task-film_acq-clinical_run-1_channels.tsv.\n",
      "Reading electrode coords from /home/jovyan/aws_ds003688/sub-51/ses-iemu/ieeg/sub-51_ses-iemu_acq-clinical_electrodes.tsv.\n",
      "Extracting parameters from /home/jovyan/aws_ds003688/sub-51/ses-iemu/ieeg/sub-51_ses-iemu_task-film_acq-clinical_run-1_ieeg.vhdr...\n",
      "Setting channel info structure...\n",
      "Reading events from /home/jovyan/aws_ds003688/sub-51/ses-iemu/ieeg/sub-51_ses-iemu_task-film_run-1_events.tsv.\n",
      "Reading channel info from /home/jovyan/aws_ds003688/sub-51/ses-iemu/ieeg/sub-51_ses-iemu_task-film_acq-clinical_run-1_channels.tsv.\n",
      "Reading electrode coords from /home/jovyan/aws_ds003688/sub-51/ses-iemu/ieeg/sub-51_ses-iemu_acq-clinical_electrodes.tsv.\n",
      "Reading 0 ... 829439  =      0.000 ...   405.000 secs...\n"
     ]
    },
    {
     "name": "stderr",
     "output_type": "stream",
     "text": [
      "/home/jovyan/ieegmovie/codes/preprocessing.py:23: RuntimeWarning: The unit for channel(s) MKR1+ has changed from V to NA.\n",
      "  raw = read_raw_bids(bids_path, verbose=True)\n",
      "/home/jovyan/ieegmovie/codes/preprocessing.py:23: RuntimeWarning: participants.tsv file not found for /home/jovyan/aws_ds003688/sub-51/ses-iemu/ieeg/sub-51_ses-iemu_task-film_acq-clinical_run-1_ieeg.vhdr\n",
      "  raw = read_raw_bids(bids_path, verbose=True)\n",
      "/home/jovyan/ieegmovie/codes/preprocessing.py:25: RuntimeWarning: The unit for channel(s) MKR1+ has changed from V to NA.\n",
      "  raw = read_raw_bids(bids_path, verbose=True)\n",
      "/home/jovyan/ieegmovie/codes/preprocessing.py:25: RuntimeWarning: participants.tsv file not found for /home/jovyan/aws_ds003688/sub-51/ses-iemu/ieeg/sub-51_ses-iemu_task-film_acq-clinical_run-1_ieeg.vhdr\n",
      "  raw = read_raw_bids(bids_path, verbose=True)\n"
     ]
    },
    {
     "name": "stdout",
     "output_type": "stream",
     "text": [
      "Doing notch filter\n",
      "Setting up band-stop filter\n",
      "\n",
      "FIR filter parameters\n",
      "---------------------\n",
      "Designing a one-pass, zero-phase, non-causal bandstop filter:\n",
      "- Windowed time-domain design (firwin) method\n",
      "- Hamming window with 0.0194 passband ripple and 53 dB stopband attenuation\n",
      "- Lower transition bandwidth: 0.50 Hz\n",
      "- Upper transition bandwidth: 0.50 Hz\n",
      "- Filter length: 13517 samples (6.600 sec)\n",
      "\n",
      "Doing CAR on\n",
      "average\n",
      "ECoG channel type selected for re-referencing\n",
      "Applying average reference.\n",
      "Applying a custom ('ECoG',) reference.\n",
      "Getting frequency bands for Hilbert transform\n",
      "Filtering data in theta band from 4 to 8 Hz\n",
      "Note that this will *not* use the analytic amplitude like high gamma\n",
      "Filtering raw data in 1 contiguous segment\n",
      "Setting up band-pass filter from 4 - 8 Hz\n",
      "\n",
      "FIR filter parameters\n",
      "---------------------\n",
      "Designing a one-pass, zero-phase, non-causal bandpass filter:\n",
      "- Windowed time-domain design (firwin) method\n",
      "- Hamming window with 0.0194 passband ripple and 53 dB stopband attenuation\n",
      "- Lower passband edge: 4.00\n",
      "- Lower transition bandwidth: 2.00 Hz (-6 dB cutoff frequency: 3.00 Hz)\n",
      "- Upper passband edge: 8.00 Hz\n",
      "- Upper transition bandwidth: 2.00 Hz (-6 dB cutoff frequency: 9.00 Hz)\n",
      "- Filter length: 3381 samples (1.651 sec)\n",
      "\n",
      "Writing /home/jovyan/aws_ds003688/derivatives/theta/sub-51_ses-iemu_task-film_acq-clinical_run-1_theta_raw.fif\n",
      "Closing /home/jovyan/aws_ds003688/derivatives/theta/sub-51_ses-iemu_task-film_acq-clinical_run-1_theta_raw.fif\n",
      "[done]\n",
      "Extracting parameters from /home/jovyan/aws_ds003688/sub-51/ses-iemu/ieeg/sub-51_ses-iemu_task-film_acq-clinical_run-1_ieeg.vhdr...\n",
      "Setting channel info structure...\n",
      "Reading events from /home/jovyan/aws_ds003688/sub-51/ses-iemu/ieeg/sub-51_ses-iemu_task-film_run-1_events.tsv.\n",
      "Reading channel info from /home/jovyan/aws_ds003688/sub-51/ses-iemu/ieeg/sub-51_ses-iemu_task-film_acq-clinical_run-1_channels.tsv.\n",
      "Reading electrode coords from /home/jovyan/aws_ds003688/sub-51/ses-iemu/ieeg/sub-51_ses-iemu_acq-clinical_electrodes.tsv.\n",
      "Extracting parameters from /home/jovyan/aws_ds003688/sub-51/ses-iemu/ieeg/sub-51_ses-iemu_task-film_acq-clinical_run-1_ieeg.vhdr...\n",
      "Setting channel info structure...\n",
      "Reading events from /home/jovyan/aws_ds003688/sub-51/ses-iemu/ieeg/sub-51_ses-iemu_task-film_run-1_events.tsv.\n",
      "Reading channel info from /home/jovyan/aws_ds003688/sub-51/ses-iemu/ieeg/sub-51_ses-iemu_task-film_acq-clinical_run-1_channels.tsv.\n",
      "Reading electrode coords from /home/jovyan/aws_ds003688/sub-51/ses-iemu/ieeg/sub-51_ses-iemu_acq-clinical_electrodes.tsv.\n",
      "Reading 0 ... 829439  =      0.000 ...   405.000 secs...\n"
     ]
    },
    {
     "name": "stderr",
     "output_type": "stream",
     "text": [
      "/home/jovyan/ieegmovie/codes/preprocessing.py:23: RuntimeWarning: The unit for channel(s) MKR1+ has changed from V to NA.\n",
      "  raw = read_raw_bids(bids_path, verbose=True)\n",
      "/home/jovyan/ieegmovie/codes/preprocessing.py:23: RuntimeWarning: participants.tsv file not found for /home/jovyan/aws_ds003688/sub-51/ses-iemu/ieeg/sub-51_ses-iemu_task-film_acq-clinical_run-1_ieeg.vhdr\n",
      "  raw = read_raw_bids(bids_path, verbose=True)\n",
      "/home/jovyan/ieegmovie/codes/preprocessing.py:25: RuntimeWarning: The unit for channel(s) MKR1+ has changed from V to NA.\n",
      "  raw = read_raw_bids(bids_path, verbose=True)\n",
      "/home/jovyan/ieegmovie/codes/preprocessing.py:25: RuntimeWarning: participants.tsv file not found for /home/jovyan/aws_ds003688/sub-51/ses-iemu/ieeg/sub-51_ses-iemu_task-film_acq-clinical_run-1_ieeg.vhdr\n",
      "  raw = read_raw_bids(bids_path, verbose=True)\n"
     ]
    },
    {
     "name": "stdout",
     "output_type": "stream",
     "text": [
      "Doing notch filter\n",
      "Setting up band-stop filter\n",
      "\n",
      "FIR filter parameters\n",
      "---------------------\n",
      "Designing a one-pass, zero-phase, non-causal bandstop filter:\n",
      "- Windowed time-domain design (firwin) method\n",
      "- Hamming window with 0.0194 passband ripple and 53 dB stopband attenuation\n",
      "- Lower transition bandwidth: 0.50 Hz\n",
      "- Upper transition bandwidth: 0.50 Hz\n",
      "- Filter length: 13517 samples (6.600 sec)\n",
      "\n",
      "Doing CAR on\n",
      "average\n",
      "ECoG channel type selected for re-referencing\n",
      "Applying average reference.\n",
      "Applying a custom ('ECoG',) reference.\n",
      "Getting frequency bands for Hilbert transform\n",
      "Filtering data in alpha band from 8 to 15 Hz\n",
      "Note that this will *not* use the analytic amplitude like high gamma\n",
      "Filtering raw data in 1 contiguous segment\n",
      "Setting up band-pass filter from 8 - 15 Hz\n",
      "\n",
      "FIR filter parameters\n",
      "---------------------\n",
      "Designing a one-pass, zero-phase, non-causal bandpass filter:\n",
      "- Windowed time-domain design (firwin) method\n",
      "- Hamming window with 0.0194 passband ripple and 53 dB stopband attenuation\n",
      "- Lower passband edge: 8.00\n",
      "- Lower transition bandwidth: 2.00 Hz (-6 dB cutoff frequency: 7.00 Hz)\n",
      "- Upper passband edge: 15.00 Hz\n",
      "- Upper transition bandwidth: 3.75 Hz (-6 dB cutoff frequency: 16.88 Hz)\n",
      "- Filter length: 3381 samples (1.651 sec)\n",
      "\n",
      "Writing /home/jovyan/aws_ds003688/derivatives/alpha/sub-51_ses-iemu_task-film_acq-clinical_run-1_alpha_raw.fif\n",
      "Closing /home/jovyan/aws_ds003688/derivatives/alpha/sub-51_ses-iemu_task-film_acq-clinical_run-1_alpha_raw.fif\n",
      "[done]\n",
      "Extracting parameters from /home/jovyan/aws_ds003688/sub-55/ses-iemu/ieeg/sub-55_ses-iemu_task-film_acq-clinical_run-1_ieeg.vhdr...\n",
      "Setting channel info structure...\n",
      "Reading events from /home/jovyan/aws_ds003688/sub-55/ses-iemu/ieeg/sub-55_ses-iemu_task-film_run-1_events.tsv.\n",
      "Reading channel info from /home/jovyan/aws_ds003688/sub-55/ses-iemu/ieeg/sub-55_ses-iemu_task-film_acq-clinical_run-1_channels.tsv.\n",
      "Reading electrode coords from /home/jovyan/aws_ds003688/sub-55/ses-iemu/ieeg/sub-55_ses-iemu_acq-clinical_electrodes.tsv.\n",
      "Extracting parameters from /home/jovyan/aws_ds003688/sub-55/ses-iemu/ieeg/sub-55_ses-iemu_task-film_acq-clinical_run-1_ieeg.vhdr...\n",
      "Setting channel info structure...\n",
      "Reading events from /home/jovyan/aws_ds003688/sub-55/ses-iemu/ieeg/sub-55_ses-iemu_task-film_run-1_events.tsv.\n",
      "Reading channel info from /home/jovyan/aws_ds003688/sub-55/ses-iemu/ieeg/sub-55_ses-iemu_task-film_acq-clinical_run-1_channels.tsv.\n",
      "Reading electrode coords from /home/jovyan/aws_ds003688/sub-55/ses-iemu/ieeg/sub-55_ses-iemu_acq-clinical_electrodes.tsv.\n",
      "Reading 0 ... 203479  =      0.000 ...   397.420 secs...\n"
     ]
    },
    {
     "name": "stderr",
     "output_type": "stream",
     "text": [
      "/home/jovyan/ieegmovie/codes/preprocessing.py:23: RuntimeWarning: participants.tsv file not found for /home/jovyan/aws_ds003688/sub-55/ses-iemu/ieeg/sub-55_ses-iemu_task-film_acq-clinical_run-1_ieeg.vhdr\n",
      "  raw = read_raw_bids(bids_path, verbose=True)\n",
      "/home/jovyan/ieegmovie/codes/preprocessing.py:25: RuntimeWarning: participants.tsv file not found for /home/jovyan/aws_ds003688/sub-55/ses-iemu/ieeg/sub-55_ses-iemu_task-film_acq-clinical_run-1_ieeg.vhdr\n",
      "  raw = read_raw_bids(bids_path, verbose=True)\n"
     ]
    },
    {
     "name": "stdout",
     "output_type": "stream",
     "text": [
      "Setting up band-stop filter\n",
      "\n",
      "FIR filter parameters\n",
      "---------------------\n",
      "Designing a one-pass, zero-phase, non-causal bandstop filter:\n",
      "- Windowed time-domain design (firwin) method\n",
      "- Hamming window with 0.0194 passband ripple and 53 dB stopband attenuation\n",
      "- Lower transition bandwidth: 0.50 Hz\n",
      "- Upper transition bandwidth: 0.50 Hz\n",
      "- Filter length: 3381 samples (6.604 sec)\n",
      "\n",
      "ECoG channel type selected for re-referencing\n",
      "Applying average reference.\n",
      "Applying a custom ('ECoG',) reference.\n",
      "Filtering raw data in 1 contiguous segment\n",
      "Setting up high-pass filter at 0.1 Hz\n",
      "\n",
      "FIR filter parameters\n",
      "---------------------\n",
      "Designing a one-pass, zero-phase, non-causal highpass filter:\n",
      "- Windowed time-domain design (firwin) method\n",
      "- Hamming window with 0.0194 passband ripple and 53 dB stopband attenuation\n",
      "- Lower passband edge: 0.10\n",
      "- Lower transition bandwidth: 0.10 Hz (-6 dB cutoff frequency: 0.05 Hz)\n",
      "- Filter length: 16897 samples (33.002 sec)\n",
      "\n",
      "Writing /home/jovyan/aws_ds003688/derivatives/CAR/sub-55_ses-iemu_task-film_acq-clinical_run-1_CAR_raw.fif\n",
      "Closing /home/jovyan/aws_ds003688/derivatives/CAR/sub-55_ses-iemu_task-film_acq-clinical_run-1_CAR_raw.fif\n",
      "[done]\n",
      "Extracting parameters from /home/jovyan/aws_ds003688/sub-55/ses-iemu/ieeg/sub-55_ses-iemu_task-film_acq-clinical_run-1_ieeg.vhdr...\n",
      "Setting channel info structure...\n",
      "Reading events from /home/jovyan/aws_ds003688/sub-55/ses-iemu/ieeg/sub-55_ses-iemu_task-film_run-1_events.tsv.\n",
      "Reading channel info from /home/jovyan/aws_ds003688/sub-55/ses-iemu/ieeg/sub-55_ses-iemu_task-film_acq-clinical_run-1_channels.tsv.\n",
      "Reading electrode coords from /home/jovyan/aws_ds003688/sub-55/ses-iemu/ieeg/sub-55_ses-iemu_acq-clinical_electrodes.tsv.\n",
      "Extracting parameters from /home/jovyan/aws_ds003688/sub-55/ses-iemu/ieeg/sub-55_ses-iemu_task-film_acq-clinical_run-1_ieeg.vhdr...\n",
      "Setting channel info structure...\n",
      "Reading events from /home/jovyan/aws_ds003688/sub-55/ses-iemu/ieeg/sub-55_ses-iemu_task-film_run-1_events.tsv.\n",
      "Reading channel info from /home/jovyan/aws_ds003688/sub-55/ses-iemu/ieeg/sub-55_ses-iemu_task-film_acq-clinical_run-1_channels.tsv.\n",
      "Reading electrode coords from /home/jovyan/aws_ds003688/sub-55/ses-iemu/ieeg/sub-55_ses-iemu_acq-clinical_electrodes.tsv.\n",
      "Reading 0 ... 203479  =      0.000 ...   397.420 secs...\n"
     ]
    },
    {
     "name": "stderr",
     "output_type": "stream",
     "text": [
      "/home/jovyan/ieegmovie/codes/preprocessing.py:23: RuntimeWarning: participants.tsv file not found for /home/jovyan/aws_ds003688/sub-55/ses-iemu/ieeg/sub-55_ses-iemu_task-film_acq-clinical_run-1_ieeg.vhdr\n",
      "  raw = read_raw_bids(bids_path, verbose=True)\n",
      "/home/jovyan/ieegmovie/codes/preprocessing.py:25: RuntimeWarning: participants.tsv file not found for /home/jovyan/aws_ds003688/sub-55/ses-iemu/ieeg/sub-55_ses-iemu_task-film_acq-clinical_run-1_ieeg.vhdr\n",
      "  raw = read_raw_bids(bids_path, verbose=True)\n"
     ]
    },
    {
     "name": "stdout",
     "output_type": "stream",
     "text": [
      "Doing notch filter\n",
      "Setting up band-stop filter\n",
      "\n",
      "FIR filter parameters\n",
      "---------------------\n",
      "Designing a one-pass, zero-phase, non-causal bandstop filter:\n",
      "- Windowed time-domain design (firwin) method\n",
      "- Hamming window with 0.0194 passband ripple and 53 dB stopband attenuation\n",
      "- Lower transition bandwidth: 0.50 Hz\n",
      "- Upper transition bandwidth: 0.50 Hz\n",
      "- Filter length: 3381 samples (6.604 sec)\n",
      "\n",
      "Doing CAR on\n",
      "average\n",
      "ECoG channel type selected for re-referencing\n",
      "Applying average reference.\n",
      "Applying a custom ('ECoG',) reference.\n",
      "Getting frequency bands for Hilbert transform\n",
      "Getting HighGamma band data\n",
      "Getting the raw data array\n"
     ]
    },
    {
     "name": "stderr",
     "output_type": "stream",
     "text": [
      "applying Hilbert transform...:   0%|          | 0/8 [00:00<?, ?it/s]/home/jovyan/ieegmovie/codes/ecog_preproc_utils.py:159: ComplexWarning: Casting complex values to real discards the imaginary part\n",
      "  raw.info['sfreq'], ct, sd)\n"
     ]
    },
    {
     "name": "stdout",
     "output_type": "stream",
     "text": [
      "Taking log transform of high gamma\n"
     ]
    },
    {
     "name": "stderr",
     "output_type": "stream",
     "text": [
      "applying Hilbert transform...:  12%|█▎        | 1/8 [00:06<00:48,  6.96s/it]"
     ]
    },
    {
     "name": "stdout",
     "output_type": "stream",
     "text": [
      "Taking log transform of high gamma\n"
     ]
    },
    {
     "name": "stderr",
     "output_type": "stream",
     "text": [
      "applying Hilbert transform...:  25%|██▌       | 2/8 [00:13<00:41,  6.98s/it]"
     ]
    },
    {
     "name": "stdout",
     "output_type": "stream",
     "text": [
      "Taking log transform of high gamma\n"
     ]
    },
    {
     "name": "stderr",
     "output_type": "stream",
     "text": [
      "applying Hilbert transform...:  38%|███▊      | 3/8 [00:20<00:34,  6.97s/it]"
     ]
    },
    {
     "name": "stdout",
     "output_type": "stream",
     "text": [
      "Taking log transform of high gamma\n"
     ]
    },
    {
     "name": "stderr",
     "output_type": "stream",
     "text": [
      "applying Hilbert transform...:  50%|█████     | 4/8 [00:27<00:27,  6.97s/it]"
     ]
    },
    {
     "name": "stdout",
     "output_type": "stream",
     "text": [
      "Taking log transform of high gamma\n"
     ]
    },
    {
     "name": "stderr",
     "output_type": "stream",
     "text": [
      "applying Hilbert transform...:  62%|██████▎   | 5/8 [00:34<00:20,  6.92s/it]"
     ]
    },
    {
     "name": "stdout",
     "output_type": "stream",
     "text": [
      "Taking log transform of high gamma\n"
     ]
    },
    {
     "name": "stderr",
     "output_type": "stream",
     "text": [
      "applying Hilbert transform...:  75%|███████▌  | 6/8 [00:41<00:13,  6.92s/it]"
     ]
    },
    {
     "name": "stdout",
     "output_type": "stream",
     "text": [
      "Taking log transform of high gamma\n"
     ]
    },
    {
     "name": "stderr",
     "output_type": "stream",
     "text": [
      "applying Hilbert transform...:  88%|████████▊ | 7/8 [00:48<00:06,  6.89s/it]"
     ]
    },
    {
     "name": "stdout",
     "output_type": "stream",
     "text": [
      "Taking log transform of high gamma\n"
     ]
    },
    {
     "name": "stderr",
     "output_type": "stream",
     "text": [
      "applying Hilbert transform...: 100%|██████████| 8/8 [00:55<00:00,  6.92s/it]\n"
     ]
    },
    {
     "name": "stdout",
     "output_type": "stream",
     "text": [
      "Taking the mean across 8 bands\n",
      "Z-scoring signal\n",
      "Creating RawArray with float64 data, n_channels=94, n_times=203480\n",
      "    Range : 0 ... 203479 =      0.000 ...   397.420 secs\n",
      "Ready.\n",
      "Writing /home/jovyan/aws_ds003688/derivatives/HighGamma/sub-55_ses-iemu_task-film_acq-clinical_run-1_HighGamma_raw.fif\n",
      "Closing /home/jovyan/aws_ds003688/derivatives/HighGamma/sub-55_ses-iemu_task-film_acq-clinical_run-1_HighGamma_raw.fif\n",
      "[done]\n",
      "Extracting parameters from /home/jovyan/aws_ds003688/sub-55/ses-iemu/ieeg/sub-55_ses-iemu_task-film_acq-clinical_run-1_ieeg.vhdr...\n",
      "Setting channel info structure...\n",
      "Reading events from /home/jovyan/aws_ds003688/sub-55/ses-iemu/ieeg/sub-55_ses-iemu_task-film_run-1_events.tsv.\n",
      "Reading channel info from /home/jovyan/aws_ds003688/sub-55/ses-iemu/ieeg/sub-55_ses-iemu_task-film_acq-clinical_run-1_channels.tsv.\n",
      "Reading electrode coords from /home/jovyan/aws_ds003688/sub-55/ses-iemu/ieeg/sub-55_ses-iemu_acq-clinical_electrodes.tsv.\n",
      "Extracting parameters from /home/jovyan/aws_ds003688/sub-55/ses-iemu/ieeg/sub-55_ses-iemu_task-film_acq-clinical_run-1_ieeg.vhdr...\n",
      "Setting channel info structure...\n",
      "Reading events from /home/jovyan/aws_ds003688/sub-55/ses-iemu/ieeg/sub-55_ses-iemu_task-film_run-1_events.tsv.\n",
      "Reading channel info from /home/jovyan/aws_ds003688/sub-55/ses-iemu/ieeg/sub-55_ses-iemu_task-film_acq-clinical_run-1_channels.tsv.\n",
      "Reading electrode coords from /home/jovyan/aws_ds003688/sub-55/ses-iemu/ieeg/sub-55_ses-iemu_acq-clinical_electrodes.tsv.\n",
      "Reading 0 ... 203479  =      0.000 ...   397.420 secs...\n"
     ]
    },
    {
     "name": "stderr",
     "output_type": "stream",
     "text": [
      "/home/jovyan/ieegmovie/codes/preprocessing.py:23: RuntimeWarning: participants.tsv file not found for /home/jovyan/aws_ds003688/sub-55/ses-iemu/ieeg/sub-55_ses-iemu_task-film_acq-clinical_run-1_ieeg.vhdr\n",
      "  raw = read_raw_bids(bids_path, verbose=True)\n",
      "/home/jovyan/ieegmovie/codes/preprocessing.py:25: RuntimeWarning: participants.tsv file not found for /home/jovyan/aws_ds003688/sub-55/ses-iemu/ieeg/sub-55_ses-iemu_task-film_acq-clinical_run-1_ieeg.vhdr\n",
      "  raw = read_raw_bids(bids_path, verbose=True)\n"
     ]
    },
    {
     "name": "stdout",
     "output_type": "stream",
     "text": [
      "Doing notch filter\n",
      "Setting up band-stop filter\n",
      "\n",
      "FIR filter parameters\n",
      "---------------------\n",
      "Designing a one-pass, zero-phase, non-causal bandstop filter:\n",
      "- Windowed time-domain design (firwin) method\n",
      "- Hamming window with 0.0194 passband ripple and 53 dB stopband attenuation\n",
      "- Lower transition bandwidth: 0.50 Hz\n",
      "- Upper transition bandwidth: 0.50 Hz\n",
      "- Filter length: 3381 samples (6.604 sec)\n",
      "\n",
      "Doing CAR on\n",
      "average\n",
      "ECoG channel type selected for re-referencing\n",
      "Applying average reference.\n",
      "Applying a custom ('ECoG',) reference.\n",
      "Getting frequency bands for Hilbert transform\n",
      "Filtering data in theta band from 4 to 8 Hz\n",
      "Note that this will *not* use the analytic amplitude like high gamma\n",
      "Filtering raw data in 1 contiguous segment\n",
      "Setting up band-pass filter from 4 - 8 Hz\n",
      "\n",
      "FIR filter parameters\n",
      "---------------------\n",
      "Designing a one-pass, zero-phase, non-causal bandpass filter:\n",
      "- Windowed time-domain design (firwin) method\n",
      "- Hamming window with 0.0194 passband ripple and 53 dB stopband attenuation\n",
      "- Lower passband edge: 4.00\n",
      "- Lower transition bandwidth: 2.00 Hz (-6 dB cutoff frequency: 3.00 Hz)\n",
      "- Upper passband edge: 8.00 Hz\n",
      "- Upper transition bandwidth: 2.00 Hz (-6 dB cutoff frequency: 9.00 Hz)\n",
      "- Filter length: 845 samples (1.650 sec)\n",
      "\n",
      "Writing /home/jovyan/aws_ds003688/derivatives/theta/sub-55_ses-iemu_task-film_acq-clinical_run-1_theta_raw.fif\n",
      "Closing /home/jovyan/aws_ds003688/derivatives/theta/sub-55_ses-iemu_task-film_acq-clinical_run-1_theta_raw.fif\n",
      "[done]\n",
      "Extracting parameters from /home/jovyan/aws_ds003688/sub-55/ses-iemu/ieeg/sub-55_ses-iemu_task-film_acq-clinical_run-1_ieeg.vhdr...\n",
      "Setting channel info structure...\n",
      "Reading events from /home/jovyan/aws_ds003688/sub-55/ses-iemu/ieeg/sub-55_ses-iemu_task-film_run-1_events.tsv.\n",
      "Reading channel info from /home/jovyan/aws_ds003688/sub-55/ses-iemu/ieeg/sub-55_ses-iemu_task-film_acq-clinical_run-1_channels.tsv.\n",
      "Reading electrode coords from /home/jovyan/aws_ds003688/sub-55/ses-iemu/ieeg/sub-55_ses-iemu_acq-clinical_electrodes.tsv.\n",
      "Extracting parameters from /home/jovyan/aws_ds003688/sub-55/ses-iemu/ieeg/sub-55_ses-iemu_task-film_acq-clinical_run-1_ieeg.vhdr...\n",
      "Setting channel info structure...\n",
      "Reading events from /home/jovyan/aws_ds003688/sub-55/ses-iemu/ieeg/sub-55_ses-iemu_task-film_run-1_events.tsv.\n",
      "Reading channel info from /home/jovyan/aws_ds003688/sub-55/ses-iemu/ieeg/sub-55_ses-iemu_task-film_acq-clinical_run-1_channels.tsv.\n",
      "Reading electrode coords from /home/jovyan/aws_ds003688/sub-55/ses-iemu/ieeg/sub-55_ses-iemu_acq-clinical_electrodes.tsv.\n",
      "Reading 0 ... 203479  =      0.000 ...   397.420 secs...\n"
     ]
    },
    {
     "name": "stderr",
     "output_type": "stream",
     "text": [
      "/home/jovyan/ieegmovie/codes/preprocessing.py:23: RuntimeWarning: participants.tsv file not found for /home/jovyan/aws_ds003688/sub-55/ses-iemu/ieeg/sub-55_ses-iemu_task-film_acq-clinical_run-1_ieeg.vhdr\n",
      "  raw = read_raw_bids(bids_path, verbose=True)\n",
      "/home/jovyan/ieegmovie/codes/preprocessing.py:25: RuntimeWarning: participants.tsv file not found for /home/jovyan/aws_ds003688/sub-55/ses-iemu/ieeg/sub-55_ses-iemu_task-film_acq-clinical_run-1_ieeg.vhdr\n",
      "  raw = read_raw_bids(bids_path, verbose=True)\n"
     ]
    },
    {
     "name": "stdout",
     "output_type": "stream",
     "text": [
      "Doing notch filter\n",
      "Setting up band-stop filter\n",
      "\n",
      "FIR filter parameters\n",
      "---------------------\n",
      "Designing a one-pass, zero-phase, non-causal bandstop filter:\n",
      "- Windowed time-domain design (firwin) method\n",
      "- Hamming window with 0.0194 passband ripple and 53 dB stopband attenuation\n",
      "- Lower transition bandwidth: 0.50 Hz\n",
      "- Upper transition bandwidth: 0.50 Hz\n",
      "- Filter length: 3381 samples (6.604 sec)\n",
      "\n",
      "Doing CAR on\n",
      "average\n",
      "ECoG channel type selected for re-referencing\n",
      "Applying average reference.\n",
      "Applying a custom ('ECoG',) reference.\n",
      "Getting frequency bands for Hilbert transform\n",
      "Filtering data in alpha band from 8 to 15 Hz\n",
      "Note that this will *not* use the analytic amplitude like high gamma\n",
      "Filtering raw data in 1 contiguous segment\n",
      "Setting up band-pass filter from 8 - 15 Hz\n",
      "\n",
      "FIR filter parameters\n",
      "---------------------\n",
      "Designing a one-pass, zero-phase, non-causal bandpass filter:\n",
      "- Windowed time-domain design (firwin) method\n",
      "- Hamming window with 0.0194 passband ripple and 53 dB stopband attenuation\n",
      "- Lower passband edge: 8.00\n",
      "- Lower transition bandwidth: 2.00 Hz (-6 dB cutoff frequency: 7.00 Hz)\n",
      "- Upper passband edge: 15.00 Hz\n",
      "- Upper transition bandwidth: 3.75 Hz (-6 dB cutoff frequency: 16.88 Hz)\n",
      "- Filter length: 845 samples (1.650 sec)\n",
      "\n",
      "Writing /home/jovyan/aws_ds003688/derivatives/alpha/sub-55_ses-iemu_task-film_acq-clinical_run-1_alpha_raw.fif\n",
      "Closing /home/jovyan/aws_ds003688/derivatives/alpha/sub-55_ses-iemu_task-film_acq-clinical_run-1_alpha_raw.fif\n",
      "[done]\n",
      "Extracting parameters from /home/jovyan/aws_ds003688/sub-60/ses-iemu/ieeg/sub-60_ses-iemu_task-film_acq-clinical_run-1_ieeg.vhdr...\n",
      "Setting channel info structure...\n",
      "Reading events from /home/jovyan/aws_ds003688/sub-60/ses-iemu/ieeg/sub-60_ses-iemu_task-film_run-1_events.tsv.\n",
      "Reading channel info from /home/jovyan/aws_ds003688/sub-60/ses-iemu/ieeg/sub-60_ses-iemu_task-film_acq-clinical_run-1_channels.tsv.\n",
      "Reading electrode coords from /home/jovyan/aws_ds003688/sub-60/ses-iemu/ieeg/sub-60_ses-iemu_acq-clinical_electrodes.tsv.\n",
      "Extracting parameters from /home/jovyan/aws_ds003688/sub-60/ses-iemu/ieeg/sub-60_ses-iemu_task-film_acq-clinical_run-1_ieeg.vhdr...\n",
      "Setting channel info structure...\n",
      "Reading events from /home/jovyan/aws_ds003688/sub-60/ses-iemu/ieeg/sub-60_ses-iemu_task-film_run-1_events.tsv.\n",
      "Reading channel info from /home/jovyan/aws_ds003688/sub-60/ses-iemu/ieeg/sub-60_ses-iemu_task-film_acq-clinical_run-1_channels.tsv.\n",
      "Reading electrode coords from /home/jovyan/aws_ds003688/sub-60/ses-iemu/ieeg/sub-60_ses-iemu_acq-clinical_electrodes.tsv.\n",
      "Reading 0 ... 200565  =      0.000 ...   391.729 secs...\n"
     ]
    },
    {
     "name": "stderr",
     "output_type": "stream",
     "text": [
      "/home/jovyan/ieegmovie/codes/preprocessing.py:23: RuntimeWarning: participants.tsv file not found for /home/jovyan/aws_ds003688/sub-60/ses-iemu/ieeg/sub-60_ses-iemu_task-film_acq-clinical_run-1_ieeg.vhdr\n",
      "  raw = read_raw_bids(bids_path, verbose=True)\n",
      "/home/jovyan/ieegmovie/codes/preprocessing.py:25: RuntimeWarning: participants.tsv file not found for /home/jovyan/aws_ds003688/sub-60/ses-iemu/ieeg/sub-60_ses-iemu_task-film_acq-clinical_run-1_ieeg.vhdr\n",
      "  raw = read_raw_bids(bids_path, verbose=True)\n"
     ]
    },
    {
     "name": "stdout",
     "output_type": "stream",
     "text": [
      "Setting up band-stop filter\n",
      "\n",
      "FIR filter parameters\n",
      "---------------------\n",
      "Designing a one-pass, zero-phase, non-causal bandstop filter:\n",
      "- Windowed time-domain design (firwin) method\n",
      "- Hamming window with 0.0194 passband ripple and 53 dB stopband attenuation\n",
      "- Lower transition bandwidth: 0.50 Hz\n",
      "- Upper transition bandwidth: 0.50 Hz\n",
      "- Filter length: 3381 samples (6.604 sec)\n",
      "\n",
      "ECoG channel type selected for re-referencing\n",
      "Applying average reference.\n",
      "Applying a custom ('ECoG',) reference.\n",
      "Filtering raw data in 1 contiguous segment\n",
      "Setting up high-pass filter at 0.1 Hz\n",
      "\n",
      "FIR filter parameters\n",
      "---------------------\n",
      "Designing a one-pass, zero-phase, non-causal highpass filter:\n",
      "- Windowed time-domain design (firwin) method\n",
      "- Hamming window with 0.0194 passband ripple and 53 dB stopband attenuation\n",
      "- Lower passband edge: 0.10\n",
      "- Lower transition bandwidth: 0.10 Hz (-6 dB cutoff frequency: 0.05 Hz)\n",
      "- Filter length: 16897 samples (33.002 sec)\n",
      "\n",
      "Writing /home/jovyan/aws_ds003688/derivatives/CAR/sub-60_ses-iemu_task-film_acq-clinical_run-1_CAR_raw.fif\n",
      "Closing /home/jovyan/aws_ds003688/derivatives/CAR/sub-60_ses-iemu_task-film_acq-clinical_run-1_CAR_raw.fif\n",
      "[done]\n",
      "Extracting parameters from /home/jovyan/aws_ds003688/sub-60/ses-iemu/ieeg/sub-60_ses-iemu_task-film_acq-clinical_run-1_ieeg.vhdr...\n",
      "Setting channel info structure...\n",
      "Reading events from /home/jovyan/aws_ds003688/sub-60/ses-iemu/ieeg/sub-60_ses-iemu_task-film_run-1_events.tsv.\n",
      "Reading channel info from /home/jovyan/aws_ds003688/sub-60/ses-iemu/ieeg/sub-60_ses-iemu_task-film_acq-clinical_run-1_channels.tsv.\n",
      "Reading electrode coords from /home/jovyan/aws_ds003688/sub-60/ses-iemu/ieeg/sub-60_ses-iemu_acq-clinical_electrodes.tsv.\n",
      "Extracting parameters from /home/jovyan/aws_ds003688/sub-60/ses-iemu/ieeg/sub-60_ses-iemu_task-film_acq-clinical_run-1_ieeg.vhdr...\n",
      "Setting channel info structure...\n",
      "Reading events from /home/jovyan/aws_ds003688/sub-60/ses-iemu/ieeg/sub-60_ses-iemu_task-film_run-1_events.tsv.\n",
      "Reading channel info from /home/jovyan/aws_ds003688/sub-60/ses-iemu/ieeg/sub-60_ses-iemu_task-film_acq-clinical_run-1_channels.tsv.\n",
      "Reading electrode coords from /home/jovyan/aws_ds003688/sub-60/ses-iemu/ieeg/sub-60_ses-iemu_acq-clinical_electrodes.tsv.\n",
      "Reading 0 ... 200565  =      0.000 ...   391.729 secs...\n"
     ]
    },
    {
     "name": "stderr",
     "output_type": "stream",
     "text": [
      "/home/jovyan/ieegmovie/codes/preprocessing.py:23: RuntimeWarning: participants.tsv file not found for /home/jovyan/aws_ds003688/sub-60/ses-iemu/ieeg/sub-60_ses-iemu_task-film_acq-clinical_run-1_ieeg.vhdr\n",
      "  raw = read_raw_bids(bids_path, verbose=True)\n",
      "/home/jovyan/ieegmovie/codes/preprocessing.py:25: RuntimeWarning: participants.tsv file not found for /home/jovyan/aws_ds003688/sub-60/ses-iemu/ieeg/sub-60_ses-iemu_task-film_acq-clinical_run-1_ieeg.vhdr\n",
      "  raw = read_raw_bids(bids_path, verbose=True)\n"
     ]
    },
    {
     "name": "stdout",
     "output_type": "stream",
     "text": [
      "Doing notch filter\n",
      "Setting up band-stop filter\n",
      "\n",
      "FIR filter parameters\n",
      "---------------------\n",
      "Designing a one-pass, zero-phase, non-causal bandstop filter:\n",
      "- Windowed time-domain design (firwin) method\n",
      "- Hamming window with 0.0194 passband ripple and 53 dB stopband attenuation\n",
      "- Lower transition bandwidth: 0.50 Hz\n",
      "- Upper transition bandwidth: 0.50 Hz\n",
      "- Filter length: 3381 samples (6.604 sec)\n",
      "\n",
      "Doing CAR on\n",
      "average\n",
      "ECoG channel type selected for re-referencing\n",
      "Applying average reference.\n",
      "Applying a custom ('ECoG',) reference.\n",
      "Getting frequency bands for Hilbert transform\n",
      "Getting HighGamma band data\n",
      "Getting the raw data array\n"
     ]
    },
    {
     "name": "stderr",
     "output_type": "stream",
     "text": [
      "applying Hilbert transform...:   0%|          | 0/8 [00:00<?, ?it/s]/home/jovyan/ieegmovie/codes/ecog_preproc_utils.py:159: ComplexWarning: Casting complex values to real discards the imaginary part\n",
      "  raw.info['sfreq'], ct, sd)\n"
     ]
    },
    {
     "name": "stdout",
     "output_type": "stream",
     "text": [
      "Taking log transform of high gamma\n"
     ]
    },
    {
     "name": "stderr",
     "output_type": "stream",
     "text": [
      "applying Hilbert transform...:  12%|█▎        | 1/8 [00:08<01:01,  8.85s/it]"
     ]
    },
    {
     "name": "stdout",
     "output_type": "stream",
     "text": [
      "Taking log transform of high gamma\n"
     ]
    },
    {
     "name": "stderr",
     "output_type": "stream",
     "text": [
      "applying Hilbert transform...:  25%|██▌       | 2/8 [00:17<00:53,  8.91s/it]"
     ]
    },
    {
     "name": "stdout",
     "output_type": "stream",
     "text": [
      "Taking log transform of high gamma\n"
     ]
    },
    {
     "name": "stderr",
     "output_type": "stream",
     "text": [
      "applying Hilbert transform...:  38%|███▊      | 3/8 [00:26<00:44,  8.91s/it]"
     ]
    },
    {
     "name": "stdout",
     "output_type": "stream",
     "text": [
      "Taking log transform of high gamma\n"
     ]
    },
    {
     "name": "stderr",
     "output_type": "stream",
     "text": [
      "applying Hilbert transform...:  50%|█████     | 4/8 [00:35<00:35,  8.92s/it]"
     ]
    },
    {
     "name": "stdout",
     "output_type": "stream",
     "text": [
      "Taking log transform of high gamma\n"
     ]
    },
    {
     "name": "stderr",
     "output_type": "stream",
     "text": [
      "applying Hilbert transform...:  62%|██████▎   | 5/8 [00:44<00:26,  8.84s/it]"
     ]
    },
    {
     "name": "stdout",
     "output_type": "stream",
     "text": [
      "Taking log transform of high gamma\n"
     ]
    },
    {
     "name": "stderr",
     "output_type": "stream",
     "text": [
      "applying Hilbert transform...:  75%|███████▌  | 6/8 [00:53<00:17,  8.80s/it]"
     ]
    },
    {
     "name": "stdout",
     "output_type": "stream",
     "text": [
      "Taking log transform of high gamma\n"
     ]
    },
    {
     "name": "stderr",
     "output_type": "stream",
     "text": [
      "applying Hilbert transform...:  88%|████████▊ | 7/8 [01:01<00:08,  8.77s/it]"
     ]
    },
    {
     "name": "stdout",
     "output_type": "stream",
     "text": [
      "Taking log transform of high gamma\n"
     ]
    },
    {
     "name": "stderr",
     "output_type": "stream",
     "text": [
      "applying Hilbert transform...: 100%|██████████| 8/8 [01:10<00:00,  8.82s/it]\n"
     ]
    },
    {
     "name": "stdout",
     "output_type": "stream",
     "text": [
      "Taking the mean across 8 bands\n",
      "Z-scoring signal\n",
      "Creating RawArray with float64 data, n_channels=107, n_times=200566\n",
      "    Range : 0 ... 200565 =      0.000 ...   391.729 secs\n",
      "Ready.\n",
      "Writing /home/jovyan/aws_ds003688/derivatives/HighGamma/sub-60_ses-iemu_task-film_acq-clinical_run-1_HighGamma_raw.fif\n",
      "Closing /home/jovyan/aws_ds003688/derivatives/HighGamma/sub-60_ses-iemu_task-film_acq-clinical_run-1_HighGamma_raw.fif\n",
      "[done]\n",
      "Extracting parameters from /home/jovyan/aws_ds003688/sub-60/ses-iemu/ieeg/sub-60_ses-iemu_task-film_acq-clinical_run-1_ieeg.vhdr...\n",
      "Setting channel info structure...\n",
      "Reading events from /home/jovyan/aws_ds003688/sub-60/ses-iemu/ieeg/sub-60_ses-iemu_task-film_run-1_events.tsv.\n",
      "Reading channel info from /home/jovyan/aws_ds003688/sub-60/ses-iemu/ieeg/sub-60_ses-iemu_task-film_acq-clinical_run-1_channels.tsv.\n",
      "Reading electrode coords from /home/jovyan/aws_ds003688/sub-60/ses-iemu/ieeg/sub-60_ses-iemu_acq-clinical_electrodes.tsv.\n",
      "Extracting parameters from /home/jovyan/aws_ds003688/sub-60/ses-iemu/ieeg/sub-60_ses-iemu_task-film_acq-clinical_run-1_ieeg.vhdr...\n",
      "Setting channel info structure...\n",
      "Reading events from /home/jovyan/aws_ds003688/sub-60/ses-iemu/ieeg/sub-60_ses-iemu_task-film_run-1_events.tsv.\n",
      "Reading channel info from /home/jovyan/aws_ds003688/sub-60/ses-iemu/ieeg/sub-60_ses-iemu_task-film_acq-clinical_run-1_channels.tsv.\n",
      "Reading electrode coords from /home/jovyan/aws_ds003688/sub-60/ses-iemu/ieeg/sub-60_ses-iemu_acq-clinical_electrodes.tsv.\n",
      "Reading 0 ... 200565  =      0.000 ...   391.729 secs...\n"
     ]
    },
    {
     "name": "stderr",
     "output_type": "stream",
     "text": [
      "/home/jovyan/ieegmovie/codes/preprocessing.py:23: RuntimeWarning: participants.tsv file not found for /home/jovyan/aws_ds003688/sub-60/ses-iemu/ieeg/sub-60_ses-iemu_task-film_acq-clinical_run-1_ieeg.vhdr\n",
      "  raw = read_raw_bids(bids_path, verbose=True)\n",
      "/home/jovyan/ieegmovie/codes/preprocessing.py:25: RuntimeWarning: participants.tsv file not found for /home/jovyan/aws_ds003688/sub-60/ses-iemu/ieeg/sub-60_ses-iemu_task-film_acq-clinical_run-1_ieeg.vhdr\n",
      "  raw = read_raw_bids(bids_path, verbose=True)\n"
     ]
    },
    {
     "name": "stdout",
     "output_type": "stream",
     "text": [
      "Doing notch filter\n",
      "Setting up band-stop filter\n",
      "\n",
      "FIR filter parameters\n",
      "---------------------\n",
      "Designing a one-pass, zero-phase, non-causal bandstop filter:\n",
      "- Windowed time-domain design (firwin) method\n",
      "- Hamming window with 0.0194 passband ripple and 53 dB stopband attenuation\n",
      "- Lower transition bandwidth: 0.50 Hz\n",
      "- Upper transition bandwidth: 0.50 Hz\n",
      "- Filter length: 3381 samples (6.604 sec)\n",
      "\n",
      "Doing CAR on\n",
      "average\n",
      "ECoG channel type selected for re-referencing\n",
      "Applying average reference.\n",
      "Applying a custom ('ECoG',) reference.\n",
      "Getting frequency bands for Hilbert transform\n",
      "Filtering data in theta band from 4 to 8 Hz\n",
      "Note that this will *not* use the analytic amplitude like high gamma\n",
      "Filtering raw data in 1 contiguous segment\n",
      "Setting up band-pass filter from 4 - 8 Hz\n",
      "\n",
      "FIR filter parameters\n",
      "---------------------\n",
      "Designing a one-pass, zero-phase, non-causal bandpass filter:\n",
      "- Windowed time-domain design (firwin) method\n",
      "- Hamming window with 0.0194 passband ripple and 53 dB stopband attenuation\n",
      "- Lower passband edge: 4.00\n",
      "- Lower transition bandwidth: 2.00 Hz (-6 dB cutoff frequency: 3.00 Hz)\n",
      "- Upper passband edge: 8.00 Hz\n",
      "- Upper transition bandwidth: 2.00 Hz (-6 dB cutoff frequency: 9.00 Hz)\n",
      "- Filter length: 845 samples (1.650 sec)\n",
      "\n",
      "Writing /home/jovyan/aws_ds003688/derivatives/theta/sub-60_ses-iemu_task-film_acq-clinical_run-1_theta_raw.fif\n",
      "Closing /home/jovyan/aws_ds003688/derivatives/theta/sub-60_ses-iemu_task-film_acq-clinical_run-1_theta_raw.fif\n",
      "[done]\n",
      "Extracting parameters from /home/jovyan/aws_ds003688/sub-60/ses-iemu/ieeg/sub-60_ses-iemu_task-film_acq-clinical_run-1_ieeg.vhdr...\n",
      "Setting channel info structure...\n",
      "Reading events from /home/jovyan/aws_ds003688/sub-60/ses-iemu/ieeg/sub-60_ses-iemu_task-film_run-1_events.tsv.\n",
      "Reading channel info from /home/jovyan/aws_ds003688/sub-60/ses-iemu/ieeg/sub-60_ses-iemu_task-film_acq-clinical_run-1_channels.tsv.\n",
      "Reading electrode coords from /home/jovyan/aws_ds003688/sub-60/ses-iemu/ieeg/sub-60_ses-iemu_acq-clinical_electrodes.tsv.\n",
      "Extracting parameters from /home/jovyan/aws_ds003688/sub-60/ses-iemu/ieeg/sub-60_ses-iemu_task-film_acq-clinical_run-1_ieeg.vhdr...\n",
      "Setting channel info structure...\n",
      "Reading events from /home/jovyan/aws_ds003688/sub-60/ses-iemu/ieeg/sub-60_ses-iemu_task-film_run-1_events.tsv.\n",
      "Reading channel info from /home/jovyan/aws_ds003688/sub-60/ses-iemu/ieeg/sub-60_ses-iemu_task-film_acq-clinical_run-1_channels.tsv.\n",
      "Reading electrode coords from /home/jovyan/aws_ds003688/sub-60/ses-iemu/ieeg/sub-60_ses-iemu_acq-clinical_electrodes.tsv.\n",
      "Reading 0 ... 200565  =      0.000 ...   391.729 secs...\n"
     ]
    },
    {
     "name": "stderr",
     "output_type": "stream",
     "text": [
      "/home/jovyan/ieegmovie/codes/preprocessing.py:23: RuntimeWarning: participants.tsv file not found for /home/jovyan/aws_ds003688/sub-60/ses-iemu/ieeg/sub-60_ses-iemu_task-film_acq-clinical_run-1_ieeg.vhdr\n",
      "  raw = read_raw_bids(bids_path, verbose=True)\n",
      "/home/jovyan/ieegmovie/codes/preprocessing.py:25: RuntimeWarning: participants.tsv file not found for /home/jovyan/aws_ds003688/sub-60/ses-iemu/ieeg/sub-60_ses-iemu_task-film_acq-clinical_run-1_ieeg.vhdr\n",
      "  raw = read_raw_bids(bids_path, verbose=True)\n"
     ]
    },
    {
     "name": "stdout",
     "output_type": "stream",
     "text": [
      "Doing notch filter\n",
      "Setting up band-stop filter\n",
      "\n",
      "FIR filter parameters\n",
      "---------------------\n",
      "Designing a one-pass, zero-phase, non-causal bandstop filter:\n",
      "- Windowed time-domain design (firwin) method\n",
      "- Hamming window with 0.0194 passband ripple and 53 dB stopband attenuation\n",
      "- Lower transition bandwidth: 0.50 Hz\n",
      "- Upper transition bandwidth: 0.50 Hz\n",
      "- Filter length: 3381 samples (6.604 sec)\n",
      "\n",
      "Doing CAR on\n",
      "average\n",
      "ECoG channel type selected for re-referencing\n",
      "Applying average reference.\n",
      "Applying a custom ('ECoG',) reference.\n",
      "Getting frequency bands for Hilbert transform\n",
      "Filtering data in alpha band from 8 to 15 Hz\n",
      "Note that this will *not* use the analytic amplitude like high gamma\n",
      "Filtering raw data in 1 contiguous segment\n",
      "Setting up band-pass filter from 8 - 15 Hz\n",
      "\n",
      "FIR filter parameters\n",
      "---------------------\n",
      "Designing a one-pass, zero-phase, non-causal bandpass filter:\n",
      "- Windowed time-domain design (firwin) method\n",
      "- Hamming window with 0.0194 passband ripple and 53 dB stopband attenuation\n",
      "- Lower passband edge: 8.00\n",
      "- Lower transition bandwidth: 2.00 Hz (-6 dB cutoff frequency: 7.00 Hz)\n",
      "- Upper passband edge: 15.00 Hz\n",
      "- Upper transition bandwidth: 3.75 Hz (-6 dB cutoff frequency: 16.88 Hz)\n",
      "- Filter length: 845 samples (1.650 sec)\n",
      "\n",
      "Writing /home/jovyan/aws_ds003688/derivatives/alpha/sub-60_ses-iemu_task-film_acq-clinical_run-1_alpha_raw.fif\n",
      "Closing /home/jovyan/aws_ds003688/derivatives/alpha/sub-60_ses-iemu_task-film_acq-clinical_run-1_alpha_raw.fif\n",
      "[done]\n"
     ]
    }
   ],
   "source": [
    "# loop over subjects\n",
    "for subj in subjects: \n",
    "    data_dir = f\"{data_home_dir}/sub-{subj}/ses-{sess}/ieeg\"\n",
    "            \n",
    "    bids_path = BIDSPath (subject=subj, session = sess, task = task, \\\n",
    "                 acquisition = acq, run = run, root = data_home_dir, datatype ='ieeg')\n",
    "    \n",
    "    extract_CAR(bids_path, output_dir)\n",
    "    extract_oscillation(bids_path, data_dir, output_dir, 'HighGamma')\n",
    "    \n",
    "    extract_oscillation(bids_path, data_dir, output_dir, 'theta')\n",
    "    extract_oscillation(bids_path, data_dir, output_dir, 'alpha')\n",
    "    "
   ]
  },
  {
   "cell_type": "code",
   "execution_count": null,
   "id": "e8e6c8c8-0716-481d-a198-ee32e66cccda",
   "metadata": {},
   "outputs": [],
   "source": []
  },
  {
   "cell_type": "code",
   "execution_count": null,
   "id": "06cd0008-f15b-4b67-9c00-897dded0a8b4",
   "metadata": {},
   "outputs": [],
   "source": []
  }
 ],
 "metadata": {
  "kernelspec": {
   "display_name": "Python 3 (ipykernel)",
   "language": "python",
   "name": "python3"
  },
  "language_info": {
   "codemirror_mode": {
    "name": "ipython",
    "version": 3
   },
   "file_extension": ".py",
   "mimetype": "text/x-python",
   "name": "python",
   "nbconvert_exporter": "python",
   "pygments_lexer": "ipython3",
   "version": "3.7.12"
  }
 },
 "nbformat": 4,
 "nbformat_minor": 5
}
