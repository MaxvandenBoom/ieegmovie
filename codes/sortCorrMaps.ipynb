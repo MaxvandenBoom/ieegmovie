{
 "cells": [
  {
   "cell_type": "code",
   "execution_count": 1,
   "id": "8e627d9b-41ab-4a6c-b67c-608e856538f1",
   "metadata": {},
   "outputs": [],
   "source": [
    "#import functions\n",
    "import mne\n",
    "from matplotlib import pyplot as plt\n",
    "from matplotlib import gridspec\n",
    "import numpy as np\n",
    "import pandas as pd\n",
    "import os\n",
    "from scipy.cluster import hierarchy\n",
    "from GetData import getSubjects, getData\n",
    "from plotElectrodes import sortCorrMaps"
   ]
  },
  {
   "cell_type": "code",
   "execution_count": 2,
   "id": "54db38b0-2258-4777-9ba4-5ad6d6dbfaac",
   "metadata": {},
   "outputs": [],
   "source": [
    "data_dir = \"/home/jovyan/ieegmovie_data/\"\n"
   ]
  },
  {
   "cell_type": "code",
   "execution_count": 3,
   "id": "9d6b40a6-fa57-4584-af69-135de22aa790",
   "metadata": {},
   "outputs": [
    {
     "name": "stdout",
     "output_type": "stream",
     "text": [
      "['sub-07', 'sub-09', 'sub-14', 'sub-16', 'sub-18', 'sub-22', 'sub-24', 'sub-27', 'sub-41', 'sub-45', 'sub-46', 'sub-51', 'sub-55', 'sub-60']\n"
     ]
    }
   ],
   "source": [
    "#get subjects\n",
    "subjects=getSubjects(data_dir)\n",
    "\n",
    "print(subjects)"
   ]
  },
  {
   "cell_type": "code",
   "execution_count": 4,
   "id": "43e32fb5-9c71-4c39-a8c5-62dd711ebc74",
   "metadata": {},
   "outputs": [],
   "source": [
    "hg_dir=data_dir+\"corrMaps/HighGamma/\"\n",
    "car_dir=data_dir+\"corrMaps/CAR/\"\n",
    "alpha_dir=data_dir+\"corrMaps/alpha/\"\n",
    "theta_dir=data_dir+\"corrMaps/theta/\"\n",
    "for subj in subjects:\n",
    "    for hgfile in os.listdir(hg_dir):\n",
    "        if hgfile.startswith(subj) and \"task\" in hgfile:\n",
    "            hg_dat=np.load(hg_dir+hgfile)\n",
    "            sortCorrMaps(subj,hg_dat, \"HighGamma\")\n",
    "    for carfile in os.listdir(car_dir):\n",
    "        if carfile.startswith(subj) and \"task\" in carfile:\n",
    "            car_dat=np.load(car_dir+carfile)\n",
    "            sortCorrMaps(subj,car_dat, \"CAR\")\n",
    "    for alphafile in os.listdir(alpha_dir):\n",
    "        if alphafile.startswith(subj) and \"task\" in alphafile:\n",
    "            alpha_dat=np.load(alpha_dir+alphafile)  \n",
    "            sortCorrMaps(subj,alpha_dat, \"alpha\")\n",
    "    for thetafile in os.listdir(theta_dir):\n",
    "        if thetafile.startswith(subj) and \"task\" in thetafile:\n",
    "            theta_dat=np.load(theta_dir+thetafile)\n",
    "            sortCorrMaps(subj,theta_dat, \"theta\")"
   ]
  }
 ],
 "metadata": {
  "kernelspec": {
   "display_name": "Python 3 (ipykernel)",
   "language": "python",
   "name": "python3"
  },
  "language_info": {
   "codemirror_mode": {
    "name": "ipython",
    "version": 3
   },
   "file_extension": ".py",
   "mimetype": "text/x-python",
   "name": "python",
   "nbconvert_exporter": "python",
   "pygments_lexer": "ipython3",
   "version": "3.7.12"
  }
 },
 "nbformat": 4,
 "nbformat_minor": 5
}
