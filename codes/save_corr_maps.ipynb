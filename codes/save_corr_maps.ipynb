{
 "cells": [
  {
   "cell_type": "code",
   "execution_count": 72,
   "id": "abb8c069-21dc-43e0-ac77-2a2c6027e791",
   "metadata": {},
   "outputs": [],
   "source": [
    "#import functions\n",
    "import mne\n",
    "from matplotlib import pyplot as plt\n",
    "import numpy as np\n",
    "import pandas as pd\n",
    "import os\n",
    "from mne_bids import BIDSPath, read_raw_bids, print_dir_tree, make_report\n",
    "from mne_bids.path import get_bids_path_from_fname\n",
    "from ecog_preproc_utils import transformData\n",
    "from GetData import getSubjects, getData"
   ]
  },
  {
   "cell_type": "code",
   "execution_count": 73,
   "id": "1f65c20d-45ce-41fb-b945-52d2d08ae006",
   "metadata": {},
   "outputs": [],
   "source": [
    "## Setup variables\n",
    "data_dir = \"/home/jovyan/ieegmovie_data/\"\n",
    "sess = 'iemu'\n",
    "task = 'rest'\n",
    "acq = 'clinical'\n",
    "run = \"1\""
   ]
  },
  {
   "cell_type": "code",
   "execution_count": 74,
   "id": "39d3c2c9-019b-499a-ae0e-6b3206043448",
   "metadata": {},
   "outputs": [
    {
     "name": "stdout",
     "output_type": "stream",
     "text": [
      "['sub-07', 'sub-09', 'sub-14', 'sub-16', 'sub-18', 'sub-22', 'sub-24', 'sub-27', 'sub-41', 'sub-45', 'sub-46', 'sub-51', 'sub-55', 'sub-60']\n"
     ]
    }
   ],
   "source": [
    "subjects=getSubjects(data_dir)\n",
    "\n",
    "print(subjects)"
   ]
  },
  {
   "cell_type": "code",
   "execution_count": 75,
   "id": "c747215b-2461-4a0b-8946-cda53f2b1c4e",
   "metadata": {
    "collapsed": true,
    "jupyter": {
     "outputs_hidden": true
    },
    "tags": []
   },
   "outputs": [
    {
     "name": "stdout",
     "output_type": "stream",
     "text": [
      "Opening raw data file /home/jovyan/ieegmovie_data//derivatives/HighGamma/sub-07_ses-iemu_task-rest_acq-clinical_run-1_HG_raw.fif...\n",
      "Isotrak not found\n",
      "    Range : 0 ... 19587 =      0.000 ...   195.870 secs\n",
      "Ready.\n",
      "Opening raw data file /home/jovyan/ieegmovie_data//derivatives/CAR/sub-07_ses-iemu_task-rest_acq-clinical_run-1_CAR_raw.fif...\n",
      "    Range : 0 ... 100291 =      0.000 ...   195.881 secs\n",
      "Ready.\n",
      "Opening raw data file /home/jovyan/ieegmovie_data//derivatives/HighGamma/sub-09_ses-iemu_task-rest_acq-clinical_run-1_HG_raw.fif...\n",
      "sub-09not found\n",
      "Opening raw data file /home/jovyan/ieegmovie_data//derivatives/HighGamma/sub-14_ses-iemu_task-rest_acq-clinical_run-1_HG_raw.fif...\n",
      "Isotrak not found\n",
      "    Range : 0 ... 18030 =      0.000 ...   180.300 secs\n",
      "Ready.\n",
      "Opening raw data file /home/jovyan/ieegmovie_data//derivatives/CAR/sub-14_ses-iemu_task-rest_acq-clinical_run-1_CAR_raw.fif...\n",
      "    Range : 0 ... 92317 =      0.000 ...   180.307 secs\n",
      "Ready.\n",
      "Opening raw data file /home/jovyan/ieegmovie_data//derivatives/HighGamma/sub-16_ses-iemu_task-rest_acq-clinical_run-1_HG_raw.fif...\n",
      "Isotrak not found\n",
      "    Range : 0 ... 18030 =      0.000 ...   180.300 secs\n",
      "Ready.\n",
      "Opening raw data file /home/jovyan/ieegmovie_data//derivatives/CAR/sub-16_ses-iemu_task-rest_acq-clinical_run-1_CAR_raw.fif...\n",
      "    Range : 0 ... 92317 =      0.000 ...   180.307 secs\n",
      "Ready.\n",
      "Opening raw data file /home/jovyan/ieegmovie_data//derivatives/HighGamma/sub-18_ses-iemu_task-rest_acq-clinical_run-1_HG_raw.fif...\n",
      "Isotrak not found\n",
      "    Range : 0 ... 18011 =      0.000 ...   180.110 secs\n",
      "Ready.\n",
      "Opening raw data file /home/jovyan/ieegmovie_data//derivatives/CAR/sub-18_ses-iemu_task-rest_acq-clinical_run-1_CAR_raw.fif...\n",
      "    Range : 0 ... 92221 =      0.000 ...   180.119 secs\n",
      "Ready.\n",
      "Opening raw data file /home/jovyan/ieegmovie_data//derivatives/HighGamma/sub-22_ses-iemu_task-rest_acq-clinical_run-1_HG_raw.fif...\n",
      "Isotrak not found\n",
      "    Range : 0 ... 19577 =      0.000 ...   195.770 secs\n",
      "Ready.\n",
      "Opening raw data file /home/jovyan/ieegmovie_data//derivatives/CAR/sub-22_ses-iemu_task-rest_acq-clinical_run-1_CAR_raw.fif...\n",
      "    Range : 0 ... 100239 =      0.000 ...   195.779 secs\n",
      "Ready.\n",
      "Opening raw data file /home/jovyan/ieegmovie_data//derivatives/HighGamma/sub-24_ses-iemu_task-rest_acq-clinical_run-1_HG_raw.fif...\n",
      "Isotrak not found\n",
      "    Range : 0 ... 18024 =      0.000 ...   180.240 secs\n",
      "Ready.\n",
      "Opening raw data file /home/jovyan/ieegmovie_data//derivatives/CAR/sub-24_ses-iemu_task-rest_acq-clinical_run-1_CAR_raw.fif...\n",
      "    Range : 0 ... 92285 =      0.000 ...   180.244 secs\n",
      "Ready.\n",
      "Opening raw data file /home/jovyan/ieegmovie_data//derivatives/HighGamma/sub-27_ses-iemu_task-rest_acq-clinical_run-1_HG_raw.fif...\n",
      "Isotrak not found\n",
      "    Range : 0 ... 19684 =      0.000 ...   196.840 secs\n",
      "Ready.\n",
      "Opening raw data file /home/jovyan/ieegmovie_data//derivatives/CAR/sub-27_ses-iemu_task-rest_acq-clinical_run-1_CAR_raw.fif...\n",
      "    Range : 0 ... 100784 =      0.000 ...   196.844 secs\n",
      "Ready.\n",
      "Opening raw data file /home/jovyan/ieegmovie_data//derivatives/HighGamma/sub-41_ses-iemu_task-rest_acq-clinical_run-1_HG_raw.fif...\n",
      "Isotrak not found\n",
      "    Range : 0 ... 18926 =      0.000 ...   189.260 secs\n",
      "Ready.\n",
      "Opening raw data file /home/jovyan/ieegmovie_data//derivatives/CAR/sub-41_ses-iemu_task-rest_acq-clinical_run-1_CAR_raw.fif...\n",
      "    Range : 0 ... 96907 =      0.000 ...   189.271 secs\n",
      "Ready.\n",
      "Opening raw data file /home/jovyan/ieegmovie_data//derivatives/HighGamma/sub-45_ses-iemu_task-rest_acq-clinical_run-1_HG_raw.fif...\n",
      "Isotrak not found\n",
      "    Range : 0 ... 19485 =      0.000 ...   194.850 secs\n",
      "Ready.\n",
      "Opening raw data file /home/jovyan/ieegmovie_data//derivatives/CAR/sub-45_ses-iemu_task-rest_acq-clinical_run-1_CAR_raw.fif...\n",
      "    Range : 0 ... 99768 =      0.000 ...   194.859 secs\n",
      "Ready.\n",
      "Opening raw data file /home/jovyan/ieegmovie_data//derivatives/HighGamma/sub-46_ses-iemu_task-rest_acq-clinical_run-1_HG_raw.fif...\n",
      "Isotrak not found\n",
      "    Range : 0 ... 19582 =      0.000 ...   195.820 secs\n",
      "Ready.\n",
      "Opening raw data file /home/jovyan/ieegmovie_data//derivatives/CAR/sub-46_ses-iemu_task-rest_acq-clinical_run-1_CAR_raw.fif...\n",
      "    Range : 0 ... 100266 =      0.000 ...   195.832 secs\n",
      "Ready.\n",
      "Opening raw data file /home/jovyan/ieegmovie_data//derivatives/HighGamma/sub-51_ses-iemu_task-rest_acq-clinical_run-1_HG_raw.fif...\n",
      "Isotrak not found\n",
      "    Range : 0 ... 19399 =      0.000 ...   193.990 secs\n",
      "Ready.\n",
      "Opening raw data file /home/jovyan/ieegmovie_data//derivatives/CAR/sub-51_ses-iemu_task-rest_acq-clinical_run-1_CAR_raw.fif...\n",
      "    Range : 0 ... 397311 =      0.000 ...   194.000 secs\n",
      "Ready.\n",
      "Opening raw data file /home/jovyan/ieegmovie_data//derivatives/HighGamma/sub-55_ses-iemu_task-rest_acq-clinical_run-1_HG_raw.fif...\n",
      "Isotrak not found\n",
      "    Range : 0 ... 18030 =      0.000 ...   180.300 secs\n",
      "Ready.\n",
      "Opening raw data file /home/jovyan/ieegmovie_data//derivatives/CAR/sub-55_ses-iemu_task-rest_acq-clinical_run-1_CAR_raw.fif...\n",
      "    Range : 0 ... 92317 =      0.000 ...   180.307 secs\n",
      "Ready.\n",
      "Opening raw data file /home/jovyan/ieegmovie_data//derivatives/HighGamma/sub-60_ses-iemu_task-rest_acq-clinical_run-1_HG_raw.fif...\n",
      "Isotrak not found\n",
      "    Range : 0 ... 18024 =      0.000 ...   180.240 secs\n",
      "Ready.\n",
      "Opening raw data file /home/jovyan/ieegmovie_data//derivatives/CAR/sub-60_ses-iemu_task-rest_acq-clinical_run-1_CAR_raw.fif...\n",
      "    Range : 0 ... 92285 =      0.000 ...   180.244 secs\n",
      "Ready.\n"
     ]
    }
   ],
   "source": [
    "for subj in subjects:\n",
    "    try:\n",
    "        subj_data=getData(subj, data_dir, sess, task, acq, run)\n",
    "        bids_path=subj_data.getBidsPath()\n",
    "        #get data\n",
    "        hg_data=subj_data.getHGData().get_data()\n",
    "        car_data=subj_data.getCARData().get_data()\n",
    "        #get correlation matrix\n",
    "        hg_corr = np.corrcoef(hg_data)\n",
    "        car_corr= np.corrcoef(car_data)\n",
    "        #save corr mat\n",
    "        save_path=data_dir+\"corr_maps/\"\n",
    "        hg_save= os.path.join(save_path+\"HighGamma/\", f'{bids_path.basename}_HG_corr.npy')\n",
    "        car_save= os.path.join(save_path+\"CAR/\", f'{bids_path.basename}_CAR_corr.npy')\n",
    "        np.save(hg_save, hg_corr)\n",
    "        np.save(car_save, car_corr)\n",
    "    except:\n",
    "        print(subj+\"not found\")"
   ]
  },
  {
   "cell_type": "code",
   "execution_count": null,
   "id": "99a0b738-fac7-4bfa-a24a-8b7a70d4d765",
   "metadata": {
    "tags": []
   },
   "outputs": [],
   "source": []
  }
 ],
 "metadata": {
  "kernelspec": {
   "display_name": "Python 3 (ipykernel)",
   "language": "python",
   "name": "python3"
  },
  "language_info": {
   "codemirror_mode": {
    "name": "ipython",
    "version": 3
   },
   "file_extension": ".py",
   "mimetype": "text/x-python",
   "name": "python",
   "nbconvert_exporter": "python",
   "pygments_lexer": "ipython3",
   "version": "3.7.12"
  }
 },
 "nbformat": 4,
 "nbformat_minor": 5
}
