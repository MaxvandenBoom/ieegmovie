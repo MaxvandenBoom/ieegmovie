{
 "cells": [
  {
   "cell_type": "markdown",
   "id": "3722b043-53d7-47b6-a4e7-96b433c6c779",
   "metadata": {},
   "source": [
    "# Functional Connectivity"
   ]
  },
  {
   "cell_type": "code",
   "execution_count": 3,
   "id": "22d5bcc7-2ad9-4e9e-bd1d-117cc6367c99",
   "metadata": {},
   "outputs": [],
   "source": [
    "import mne\n",
    "from matplotlib import pyplot as plt\n",
    "import numpy as np\n",
    "import pandas as pd\n",
    "import os\n",
    "from mne_bids import BIDSPath, read_raw_bids, print_dir_tree, make_report\n",
    "from mne_bids.path import get_bids_path_from_fname\n"
   ]
  },
  {
   "cell_type": "code",
   "execution_count": 4,
   "id": "30ed0de8-e590-424e-9120-1b12814013a7",
   "metadata": {},
   "outputs": [],
   "source": [
    "# Change these variables to work for your block\n",
    "subj = '07'\n",
    "sess = 'iemu'\n",
    "task = 'rest'\n",
    "acq = 'clinical'\n",
    "run = '1'\n",
    "\n",
    "data_home_dir = \"/home/jovyan/aws_ds003688\"\n",
    "data_dir = f\"{data_home_dir}/sub-{subj}/ses-{sess}/ieeg\""
   ]
  },
  {
   "cell_type": "code",
   "execution_count": 5,
   "id": "ac26cd35-aef3-4ff3-8419-0ab06c147671",
   "metadata": {},
   "outputs": [
    {
     "data": {
      "text/plain": [
       "BIDSPath(\n",
       "root: /home/jovyan/aws_ds003688\n",
       "datatype: ieeg\n",
       "basename: sub-07_ses-iemu_task-rest_acq-clinical_run-1)"
      ]
     },
     "execution_count": 5,
     "metadata": {},
     "output_type": "execute_result"
    }
   ],
   "source": [
    "bids_path = BIDSPath (subject=subj, session = sess, task = task, \\\n",
    "                 acquisition = acq, run = run, root = data_home_dir, datatype ='ieeg')\n",
    "bids_path"
   ]
  },
  {
   "cell_type": "code",
   "execution_count": 6,
   "id": "e41ec2c4-87f6-49b2-9778-26a9940c0fe0",
   "metadata": {},
   "outputs": [
    {
     "name": "stdout",
     "output_type": "stream",
     "text": [
      "/home/jovyan/aws_ds003688/derivatives/CAR\n",
      "Opening raw data file /home/jovyan/aws_ds003688/derivatives/CAR/sub-07_ses-iemu_task-rest_acq-clinical_run-1_CAR_raw.fif...\n",
      "    Range : 0 ... 100291 =      0.000 ...   195.881 secs\n",
      "Ready.\n"
     ]
    }
   ],
   "source": [
    "# Load the data\n",
    "deriv_dir = f'{data_home_dir}/derivatives/CAR'\n",
    "print(deriv_dir)\n",
    "fname = os.path.join(deriv_dir, f'{bids_path.basename}_CAR_raw.fif')\n",
    "CAR = mne.io.read_raw(fname)"
   ]
  },
  {
   "cell_type": "code",
   "execution_count": 7,
   "id": "fb400a03-8ffd-4134-9557-ddcc3987c0f0",
   "metadata": {},
   "outputs": [
    {
     "data": {
      "text/html": [
       "<table class=\"table table-hover table-striped table-sm table-responsive small\">\n",
       "    <tr>\n",
       "        <th>Measurement date</th>\n",
       "        \n",
       "        <td>Unknown</td>\n",
       "        \n",
       "    </tr>\n",
       "    <tr>\n",
       "        <th>Experimenter</th>\n",
       "        \n",
       "        <td>Unknown</td>\n",
       "        \n",
       "    </tr>\n",
       "        <th>Participant</th>\n",
       "        \n",
       "        <td>Unknown</td>\n",
       "        \n",
       "    </tr>\n",
       "    <tr>\n",
       "        <th>Digitized points</th>\n",
       "        \n",
       "        <td>0 points</td>\n",
       "        \n",
       "    </tr>\n",
       "    <tr>\n",
       "        <th>Good channels</th>\n",
       "        <td>55 ECoG</td>\n",
       "    </tr>\n",
       "    <tr>\n",
       "        <th>Bad channels</th>\n",
       "        <td>None</td>\n",
       "    </tr>\n",
       "    <tr>\n",
       "        <th>EOG channels</th>\n",
       "        <td>Not available</td>\n",
       "    </tr>\n",
       "    <tr>\n",
       "        <th>ECG channels</th>\n",
       "        <td>Not available</td>\n",
       "    \n",
       "    <tr>\n",
       "        <th>Sampling frequency</th>\n",
       "        <td>512.00 Hz</td>\n",
       "    </tr>\n",
       "    \n",
       "    \n",
       "    <tr>\n",
       "        <th>Highpass</th>\n",
       "        <td>0.00 Hz</td>\n",
       "    </tr>\n",
       "    \n",
       "    \n",
       "    <tr>\n",
       "        <th>Lowpass</th>\n",
       "        <td>256.00 Hz</td>\n",
       "    </tr>\n",
       "    \n",
       "    \n",
       "</table>"
      ],
      "text/plain": [
       "<Info | 12 non-empty values\n",
       " bads: []\n",
       " ch_names: FB1, FB2, FB3, FB4, FB5, FB6, FB7, FB8, IHv1, IHv2, IHv3, IHv4, ...\n",
       " chs: 55 ECoG\n",
       " custom_ref_applied: True\n",
       " dig: 56 items (56 EEG)\n",
       " file_id: 4 items (dict)\n",
       " highpass: 0.0 Hz\n",
       " line_freq: 50.0\n",
       " lowpass: 256.0 Hz\n",
       " meas_date: unspecified\n",
       " meas_id: 4 items (dict)\n",
       " nchan: 55\n",
       " projs: []\n",
       " sfreq: 512.0 Hz\n",
       ">"
      ]
     },
     "execution_count": 7,
     "metadata": {},
     "output_type": "execute_result"
    }
   ],
   "source": [
    "CAR.info"
   ]
  },
  {
   "cell_type": "code",
   "execution_count": null,
   "id": "1a95e534-29fd-41d0-af58-1b3d768296d4",
   "metadata": {},
   "outputs": [],
   "source": [
    "hg = hgdat.get_data()"
   ]
  },
  {
   "cell_type": "code",
   "execution_count": null,
   "id": "6df96c12-ac88-4a4c-a7c1-f6b908e24517",
   "metadata": {},
   "outputs": [],
   "source": [
    "coor_map = np.corrcoef(hg)"
   ]
  },
  {
   "cell_type": "code",
   "execution_count": null,
   "id": "33986fc7-9045-419e-95a2-17dbc773a8a5",
   "metadata": {},
   "outputs": [],
   "source": [
    "plt.imshow(coor_map)\n",
    "plt.clim(0, 0.5)\n",
    "plt.colorbar()"
   ]
  },
  {
   "cell_type": "code",
   "execution_count": null,
   "id": "7f54018c-11d3-44f4-b954-a799bfe6a1bf",
   "metadata": {},
   "outputs": [],
   "source": []
  },
  {
   "cell_type": "code",
   "execution_count": null,
   "id": "78637146-f934-428e-8c6c-95e910503dc3",
   "metadata": {},
   "outputs": [],
   "source": []
  }
 ],
 "metadata": {
  "kernelspec": {
   "display_name": "Python 3 (ipykernel)",
   "language": "python",
   "name": "python3"
  },
  "language_info": {
   "codemirror_mode": {
    "name": "ipython",
    "version": 3
   },
   "file_extension": ".py",
   "mimetype": "text/x-python",
   "name": "python",
   "nbconvert_exporter": "python",
   "pygments_lexer": "ipython3",
   "version": "3.7.12"
  }
 },
 "nbformat": 4,
 "nbformat_minor": 5
}
