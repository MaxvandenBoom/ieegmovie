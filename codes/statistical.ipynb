{
 "cells": [
  {
   "cell_type": "code",
   "execution_count": 1,
   "id": "1dcbd1b8-40fc-460f-80cb-6ca5f804aefa",
   "metadata": {},
   "outputs": [],
   "source": [
    "import numpy as np\n",
    "from statistical import corr\n",
    "# dimesion of BOLDcorr should be equal to iEEGcorr's"
   ]
  },
  {
   "cell_type": "code",
   "execution_count": 2,
   "id": "c4c23745-337b-4b82-abff-f5f2cedacd99",
   "metadata": {},
   "outputs": [
    {
     "name": "stdout",
     "output_type": "stream",
     "text": [
      "1.0 0.0\n",
      "[0.18533855 0.04375281 0.87918148 ... 0.55470798 0.90584367 0.60729994]\n",
      "[0.18533855 0.04375281 0.87918148 ... 0.55470798 0.90584367 0.60729994]\n"
     ]
    }
   ],
   "source": [
    "### pearson\n",
    "BOLDcorrMat = np.random.rand(50,50)\n",
    "iEEGcorrMat = BOLDcorrMat\n",
    "\n",
    "[corrCoef, pvalue, BOLDvec, iEEGvec] = corr(iEEGcorrMat, BOLDcorrMat, \"pearson\")\n",
    "\n",
    "print(corrCoef, pvalue)\n",
    "print(BOLDvec)\n",
    "print(iEEGvec)"
   ]
  },
  {
   "cell_type": "code",
   "execution_count": 3,
   "id": "2df06b45-9a24-439f-8d87-7e31fba1326a",
   "metadata": {},
   "outputs": [
    {
     "name": "stdout",
     "output_type": "stream",
     "text": [
      "1.0 0.0\n",
      "[0.09443457 0.56584903 0.52448743 ... 0.0570009  0.5658424  0.14206155]\n",
      "[0.09443457 0.56584903 0.52448743 ... 0.0570009  0.5658424  0.14206155]\n"
     ]
    }
   ],
   "source": [
    "### Spearman rank-order correlation coefficient\n",
    "BOLDcorrMat = np.random.rand(50,50)\n",
    "iEEGcorrMat = BOLDcorrMat\n",
    "\n",
    "[corrCoef, pvalue, BOLDvec, iEEGvec] = corr(iEEGcorrMat, BOLDcorrMat, \"spearman\")\n",
    "\n",
    "print(corrCoef, pvalue)\n",
    "print(BOLDvec)\n",
    "print(iEEGvec)"
   ]
  }
 ],
 "metadata": {
  "kernelspec": {
   "display_name": "Python 3 (ipykernel)",
   "language": "python",
   "name": "python3"
  },
  "language_info": {
   "codemirror_mode": {
    "name": "ipython",
    "version": 3
   },
   "file_extension": ".py",
   "mimetype": "text/x-python",
   "name": "python",
   "nbconvert_exporter": "python",
   "pygments_lexer": "ipython3",
   "version": "3.7.12"
  }
 },
 "nbformat": 4,
 "nbformat_minor": 5
}
